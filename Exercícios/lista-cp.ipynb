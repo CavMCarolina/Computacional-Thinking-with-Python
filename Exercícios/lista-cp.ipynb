{
 "cells": [
  {
   "cell_type": "markdown",
   "metadata": {},
   "source": [
    "# Lista de Exercícios para o Checkpoint 1:"
   ]
  },
  {
   "cell_type": "markdown",
   "metadata": {},
   "source": [
    "## Installs"
   ]
  },
  {
   "cell_type": "code",
   "execution_count": null,
   "metadata": {},
   "outputs": [],
   "source": [
    "pip install numpy"
   ]
  },
  {
   "cell_type": "code",
   "execution_count": 8,
   "metadata": {},
   "outputs": [],
   "source": [
    "import numpy as np"
   ]
  },
  {
   "cell_type": "code",
   "execution_count": null,
   "metadata": {},
   "outputs": [],
   "source": [
    "pip install pandas"
   ]
  },
  {
   "cell_type": "code",
   "execution_count": 12,
   "metadata": {},
   "outputs": [],
   "source": [
    "import pandas as pd"
   ]
  },
  {
   "cell_type": "markdown",
   "metadata": {},
   "source": [
    "## Exercício 1:"
   ]
  },
  {
   "cell_type": "code",
   "execution_count": 46,
   "metadata": {},
   "outputs": [
    {
     "data": {
      "text/plain": [
       "3.0"
      ]
     },
     "execution_count": 46,
     "metadata": {},
     "output_type": "execute_result"
    }
   ],
   "source": [
    "lista = [1,2,3,4,5]\n",
    "tupla = tuple(lista)\n",
    "\n",
    "def calculo(tupla):\n",
    "    array = np.array(tupla)\n",
    "    media = array.mean()\n",
    "    return media\n",
    "\n",
    "calculo(tupla)"
   ]
  },
  {
   "cell_type": "markdown",
   "metadata": {},
   "source": [
    "## Exercício 2:"
   ]
  },
  {
   "cell_type": "code",
   "execution_count": 51,
   "metadata": {},
   "outputs": [
    {
     "data": {
      "text/html": [
       "<div>\n",
       "<style scoped>\n",
       "    .dataframe tbody tr th:only-of-type {\n",
       "        vertical-align: middle;\n",
       "    }\n",
       "\n",
       "    .dataframe tbody tr th {\n",
       "        vertical-align: top;\n",
       "    }\n",
       "\n",
       "    .dataframe thead th {\n",
       "        text-align: right;\n",
       "    }\n",
       "</style>\n",
       "<table border=\"1\" class=\"dataframe\">\n",
       "  <thead>\n",
       "    <tr style=\"text-align: right;\">\n",
       "      <th></th>\n",
       "      <th>População Total 2015</th>\n",
       "      <th>População Total 2021</th>\n",
       "      <th>População Média</th>\n",
       "    </tr>\n",
       "  </thead>\n",
       "  <tbody>\n",
       "    <tr>\n",
       "      <th>Brasil</th>\n",
       "      <td>205200000.0</td>\n",
       "      <td>214300000.0</td>\n",
       "      <td>312350000.0</td>\n",
       "    </tr>\n",
       "    <tr>\n",
       "      <th>Canadá</th>\n",
       "      <td>35700000.0</td>\n",
       "      <td>38250000.0</td>\n",
       "      <td>54825000.0</td>\n",
       "    </tr>\n",
       "    <tr>\n",
       "      <th>Espanha</th>\n",
       "      <td>46440000.0</td>\n",
       "      <td>47420000.0</td>\n",
       "      <td>70150000.0</td>\n",
       "    </tr>\n",
       "    <tr>\n",
       "      <th>Venezuela</th>\n",
       "      <td>30530000.0</td>\n",
       "      <td>28200000.0</td>\n",
       "      <td>44630000.0</td>\n",
       "    </tr>\n",
       "    <tr>\n",
       "      <th>Austrália</th>\n",
       "      <td>23820000.0</td>\n",
       "      <td>28200000.0</td>\n",
       "      <td>37920000.0</td>\n",
       "    </tr>\n",
       "    <tr>\n",
       "      <th>Egito</th>\n",
       "      <td>97720000.0</td>\n",
       "      <td>109300000.0</td>\n",
       "      <td>152370000.0</td>\n",
       "    </tr>\n",
       "  </tbody>\n",
       "</table>\n",
       "</div>"
      ],
      "text/plain": [
       "           População Total 2015  População Total 2021  População Média\n",
       "Brasil              205200000.0           214300000.0      312350000.0\n",
       "Canadá               35700000.0            38250000.0       54825000.0\n",
       "Espanha              46440000.0            47420000.0       70150000.0\n",
       "Venezuela            30530000.0            28200000.0       44630000.0\n",
       "Austrália            23820000.0            28200000.0       37920000.0\n",
       "Egito                97720000.0           109300000.0      152370000.0"
      ]
     },
     "execution_count": 51,
     "metadata": {},
     "output_type": "execute_result"
    }
   ],
   "source": [
    "listaPaises = ['Brasil', 'Canadá', 'Espanha', 'Venezuela', 'Austrália', 'Egito']\n",
    "populacao2021 = [214.3 * 10**6, 38.25 * 10**6, 47.42 * 10**6, 28.2 * 10**6, 28.2 * 10**6, 109.3 * 10**6]\n",
    "populacao2015 = [205.2 * 10**6, 35.7 * 10**6, 46.44 * 10**6, 30.53 * 10**6, 23.82 * 10**6, 97.72 * 10**6]\n",
    "\n",
    "paises = pd.Series(listaPaises)\n",
    "populacao = {'População Total 2015': populacao2015,\n",
    "             'População Total 2021': populacao2021}\n",
    "\n",
    "df = pd.DataFrame(populacao)\n",
    "df.index = paises\n",
    "\n",
    "# Adicionar uma coluna com a média?? ~> perguntar amanhã\n",
    "df['População Média'] = df['População Total 2015'] + df['População Total 2021'] / 2\n",
    "df"
   ]
  },
  {
   "cell_type": "markdown",
   "metadata": {},
   "source": [
    "## Exercício 3:"
   ]
  },
  {
   "cell_type": "code",
   "execution_count": 47,
   "metadata": {},
   "outputs": [
    {
     "name": "stdout",
     "output_type": "stream",
     "text": [
      "Mínimo: 1\n",
      "Máximo: 10\n",
      "Média: 5.5\n"
     ]
    }
   ],
   "source": [
    "numeros = [1,2,3,4,5,6,7,8,9,10]\n",
    "array = np.array(numeros)\n",
    "\n",
    "def min_max_media(array):\n",
    "    minimo = np.min(array)\n",
    "    maximo = np.max(array)\n",
    "    media = np.mean(array)\n",
    "    return minimo, maximo, media\n",
    "\n",
    "minimo, maximo, media = min_max_media(array)\n",
    "print(\"Mínimo:\", minimo)\n",
    "print(\"Máximo:\", maximo)\n",
    "print(\"Média:\", media)\n"
   ]
  },
  {
   "cell_type": "markdown",
   "metadata": {},
   "source": [
    "## Exercício 4:"
   ]
  },
  {
   "cell_type": "code",
   "execution_count": 52,
   "metadata": {},
   "outputs": [
    {
     "data": {
      "text/plain": [
       "5.5"
      ]
     },
     "execution_count": 52,
     "metadata": {},
     "output_type": "execute_result"
    }
   ],
   "source": [
    "numeros1 = [1,2,3,4,5]\n",
    "numeros2 = [6,7,8,9,10]\n",
    "\n",
    "def concatenar(lista1, lista2):\n",
    "    s1 = pd.Series(lista1)\n",
    "    s2 = pd.Series(lista2)\n",
    "    return pd.concat([s1, s2])\n",
    "\n",
    "def media(concatenado):\n",
    "    return concatenado.mean()\n",
    "\n",
    "media(concatenar(numeros1, numeros2))"
   ]
  },
  {
   "cell_type": "markdown",
   "metadata": {},
   "source": [
    "## Exercício 5:"
   ]
  },
  {
   "cell_type": "code",
   "execution_count": 53,
   "metadata": {},
   "outputs": [
    {
     "name": "stdout",
     "output_type": "stream",
     "text": [
      "0     20\n",
      "1     40\n",
      "2     60\n",
      "3     80\n",
      "4    100\n",
      "5    120\n",
      "dtype: int64\n"
     ]
    }
   ],
   "source": [
    "numeros = [10, 20, 30, 40, 50, 60]\n",
    "s = pd.Series(numeros)\n",
    "arr= pd.array(s)\n",
    "\n",
    "def operacao(arr):\n",
    "    return arr * 2\n",
    "\n",
    "resultado = pd.Series(operacao(arr))\n",
    "print(resultado)\n"
   ]
  }
 ],
 "metadata": {
  "kernelspec": {
   "display_name": "Python 3",
   "language": "python",
   "name": "python3"
  },
  "language_info": {
   "codemirror_mode": {
    "name": "ipython",
    "version": 3
   },
   "file_extension": ".py",
   "mimetype": "text/x-python",
   "name": "python",
   "nbconvert_exporter": "python",
   "pygments_lexer": "ipython3",
   "version": "3.12.0"
  }
 },
 "nbformat": 4,
 "nbformat_minor": 2
}
