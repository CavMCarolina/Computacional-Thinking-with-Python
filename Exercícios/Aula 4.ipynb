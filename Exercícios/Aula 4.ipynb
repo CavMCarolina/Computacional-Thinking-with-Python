{
 "cells": [
  {
   "cell_type": "markdown",
   "metadata": {},
   "source": [
    "# Exercício 3:"
   ]
  },
  {
   "cell_type": "code",
   "execution_count": null,
   "metadata": {},
   "outputs": [],
   "source": [
    "soma = 0\n",
    "lista = range(1,51)\n",
    "\n",
    "for ímpares in range(1,51):\n",
    "    if ímpares %2 != 0:\n",
    "        print(\"Esses números são ímpares\", ímpares)\n",
    "        soma += ímpares\n",
    "        print(\"A média dos números é\")"
   ]
  },
  {
   "cell_type": "markdown",
   "metadata": {},
   "source": [
    "# Exercício 4:"
   ]
  },
  {
   "cell_type": "code",
   "execution_count": null,
   "metadata": {},
   "outputs": [],
   "source": [
    "valores1 = float(input(\"Insira os valores\"))\n",
    "valores2 = float(input(\"Insira os valores\"))\n",
    "valores3 = float(input(\"Insira os valores\"))"
   ]
  }
 ],
 "metadata": {
  "language_info": {
   "name": "python"
  },
  "orig_nbformat": 4
 },
 "nbformat": 4,
 "nbformat_minor": 2
}
