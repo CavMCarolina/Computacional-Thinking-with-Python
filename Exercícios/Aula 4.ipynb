{
 "cells": [
  {
   "cell_type": "markdown",
   "metadata": {},
   "source": [
    "# Exercício 3:"
   ]
  },
  {
   "cell_type": "code",
   "execution_count": 1,
   "metadata": {},
   "outputs": [
    {
     "name": "stdout",
     "output_type": "stream",
     "text": [
      "Esses números são ímpares [1, 3, 5, 7, 9, 11, 13, 15, 17, 19, 21, 23, 25, 27, 29, 31, 33, 35, 37, 39, 41, 43, 45, 47, 49]\n",
      "A média dos números é 25.0\n"
     ]
    }
   ],
   "source": [
    "impares = []\n",
    "soma = 0\n",
    "\n",
    "for numero in range(1,51):\n",
    "    if numero %2 != 0:\n",
    "        soma += numero\n",
    "        impares.append(numero)\n",
    "print(\"Esses números são ímpares\", impares)\n",
    "print(\"A média dos números é\", soma/len(impares))"
   ]
  },
  {
   "cell_type": "markdown",
   "metadata": {},
   "source": [
    "# Exercício 4:"
   ]
  },
  {
   "cell_type": "code",
   "execution_count": 4,
   "metadata": {},
   "outputs": [
    {
     "name": "stdout",
     "output_type": "stream",
     "text": [
      "Os números pares são:  [2, 4, 6, 8, 10]\n",
      "A soma dos números pares é 30 e a média é 6.0\n"
     ]
    }
   ],
   "source": [
    "lista_numeros = []\n",
    "pares = []\n",
    "soma = 0\n",
    "\n",
    "while len(lista_numeros) < 10:\n",
    "    numero = int(input(\"Insira um número: \"))\n",
    "    lista_numeros.append(numero)\n",
    "    if numero %2 == 0:\n",
    "        soma += numero\n",
    "        pares.append(numero)\n",
    "print(\"Os números pares são: \", pares)\n",
    "print(f'A soma dos números pares é {soma} e a média é {soma / len(pares)}')"
   ]
  }
 ],
 "metadata": {
  "kernelspec": {
   "display_name": "Python 3",
   "language": "python",
   "name": "python3"
  },
  "language_info": {
   "codemirror_mode": {
    "name": "ipython",
    "version": 3
   },
   "file_extension": ".py",
   "mimetype": "text/x-python",
   "name": "python",
   "nbconvert_exporter": "python",
   "pygments_lexer": "ipython3",
   "version": "3.11.5"
  },
  "orig_nbformat": 4
 },
 "nbformat": 4,
 "nbformat_minor": 2
}
