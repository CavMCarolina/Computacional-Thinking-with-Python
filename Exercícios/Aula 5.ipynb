{
 "cells": [
  {
   "cell_type": "markdown",
   "metadata": {},
   "source": [
    "# Exercício 3:"
   ]
  },
  {
   "cell_type": "code",
   "execution_count": null,
   "metadata": {},
   "outputs": [],
   "source": [
    "instalaçao = [\"r\", \"i\", \"c\"]\n",
    "instituiçoes = 0\n",
    "\n",
    "while instituiçoes < 3:\n",
    "    inst = str(input(\"Digite a sua instalação\")).lower()\n",
    "    if inst == instalaçao[instituiçoes]:\n",
    "        energia = float(input(\"Insira a quantidade de energia consumida em kWh\"))\n",
    "        if inst == \"r\" and (0 < energia <= 500):\n",
    "              print(f'O preço a ser pago é de R$', energia * 0.5)\n",
    "              instituiçoes += 1\n",
    "        elif inst == \"r\" and (energia > 500):\n",
    "              print(f'O preço a ser pago é de R$', energia * 0.75)\n",
    "              instituiçoes += 1\n",
    "        elif inst == \"i\" and (0 < energia <= 5000):\n",
    "              print(f'O preço a ser pago é de R$', energia * 0.65)\n",
    "              instituiçoes += 1\n",
    "        elif inst == \"i\" and (energia > 5000):\n",
    "              print(f'O preço a ser pago é de R$', energia * 0.7)\n",
    "              instituiçoes += 1\n",
    "        elif inst == \"c\" and (0 < energia <= 1000):\n",
    "              print(f'O preço a ser pago é de R$', energia * 0.65)\n",
    "              instituiçoes += 1\n",
    "        elif inst == \"c\" and (energia > 1000):\n",
    "              print(f'O preço a ser pago é de R$', energia * 0.7)\n",
    "              instituiçoes += 1\n",
    "        else:\n",
    "              print(\"Quantidade de energia consumida inválida. Por favor, tente novamente\")\n",
    "    elif inst not in instalaçao:\n",
    "              print(\"Instalação inválida. Por favor, tente novamente\")"
   ]
  },
  {
   "cell_type": "code",
   "execution_count": null,
   "metadata": {},
   "outputs": [],
   "source": [
    "instalaçao = [\"r\", \"i\", \"c\"]\n",
    "instituiçoes = 0\n",
    "\n",
    "while instituiçoes < 3:\n",
    "    inst = str(input(\"Digite a sua instalação\")).lower()\n",
    "    if inst == instalaçao[instituiçoes]:\n",
    "        energia = float(input(\"Insira a quantidade de energia consumida em kWh\"))\n",
    "        if inst == \"r\":\n",
    "            if"
   ]
  }
 ],
 "metadata": {
  "language_info": {
   "name": "python"
  },
  "orig_nbformat": 4
 },
 "nbformat": 4,
 "nbformat_minor": 2
}
