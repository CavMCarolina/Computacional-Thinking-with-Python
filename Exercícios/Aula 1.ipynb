{
 "cells": [
  {
   "cell_type": "markdown",
   "metadata": {},
   "source": [
    "# Exercício 1:"
   ]
  },
  {
   "cell_type": "code",
   "execution_count": null,
   "metadata": {},
   "outputs": [],
   "source": [
    "sexo = str(input('Insira o sexo (feminino ou masculino)'))\n",
    "\n",
    "m = ['M', 'm', 'Masculino', 'masculino', 'MASCULINO']\n",
    "f = ['F', 'f', 'Feminino', 'feminino', 'FEMININO']\n",
    "\n",
    "if (sexo in m):\n",
    "    print(\"sexo masculino\")\n",
    "elif (sexo in f):\n",
    "    print(\"sexo feminino\")\n",
    "else:\n",
    "    print(\"texto inválido. Por favor, tente novamente.\") "
   ]
  },
  {
   "cell_type": "markdown",
   "metadata": {},
   "source": [
    "# Exercício 2:"
   ]
  },
  {
   "cell_type": "code",
   "execution_count": null,
   "metadata": {},
   "outputs": [],
   "source": [
    "c = 3 * pow(10,8)\n",
    "m = float(input(\"Digite a massa em quilos\"))\n",
    "\n",
    "E = m*c**2/10**9\n",
    "\n",
    "if m > 0:\n",
    "    print(f'A Energia é {E}GJ')\n",
    "else:\n",
    "    print(\"Massa inválida\") \n",
    "\n",
    "print(\"A massa é:\", m)"
   ]
  },
  {
   "cell_type": "markdown",
   "metadata": {},
   "source": [
    "# Exercício 3:"
   ]
  },
  {
   "cell_type": "code",
   "execution_count": null,
   "metadata": {},
   "outputs": [],
   "source": [
    "idade = int(input(\"Digite sua idade\"))\n",
    "\n",
    "if 0 < idade <= 12:\n",
    "    print(\"Criança\")\n",
    "elif 13 <= idade <= 20:\n",
    "    print(\"Adolescente\")\n",
    "elif 21 <= idade <= 40:\n",
    "    print(\"Jovem-adulto\")\n",
    "elif 41 <= idade <= 65:\n",
    "    print(\"Meia-idade\")\n",
    "elif idade > 65:\n",
    "    print(\"Idoso\")\n",
    "else:\n",
    "    print(\"Idade inválida. Por favor, tente novamente.\")"
   ]
  },
  {
   "cell_type": "markdown",
   "metadata": {},
   "source": [
    "# Exercício 4:"
   ]
  },
  {
   "cell_type": "code",
   "execution_count": null,
   "metadata": {},
   "outputs": [],
   "source": [
    "nota1 = float(input(\"Digite sua primeira nota: \"))\n",
    "nota2 = float(input(\"Digite sua segunda nota: \"))\n",
    "nota3 = float(input(\"Digite sua terceira nota: \"))\n",
    "nota4 = float(input(\"Digite sua última nota: \"))\n",
    "\n",
    "média1 = (nota1+nota2+nota3)/3\n",
    "média2 = (nota2+nota3+nota4)/3\n",
    "média3 = (nota1+nota3+nota4)/3\n",
    "média4 = (nota1+nota2+nota4)/3\n",
    "\n",
    "if nota1<nota2 and nota1<nota3 and nota1<nota4 or nota1==nota2 and nota1<nota3 and nota1<nota4 or nota1==nota3 and nota1<nota2 and nota1<nota4:\n",
    "    print(\"Sua média é: \", média2)\n",
    "elif nota2<nota3 and nota2<nota1 and nota2<nota4 or nota2==nota3 and nota2<nota1 and nota2<nota4:\n",
    "    print(\"Sua média é: \", média3)\n",
    "elif nota3<nota2 and nota3<nota4 and nota3<nota1:\n",
    "    print(\"Sua média é: \", média4)\n",
    "elif nota4<nota1 and nota4<nota2 and nota4<nota3 or nota1==nota4 and nota1<nota2 and nota1<nota3 or nota2==nota4 and nota2<nota1 and nota2<nota3 or nota3==nota4 and nota3<nota1 and nota3< nota2:\n",
    "    print(\"Sua média é: \", média1)\n",
    "else:\n",
    "    print(\"Sua média é: \", média1)\n",
    "\n",
    "print(f'Nota 1: {nota1}, Nota 2: {nota2}, Nota 3: {nota3}, Nota 4: {nota4}')"
   ]
  },
  {
   "cell_type": "markdown",
   "metadata": {},
   "source": [
    "# Exercício 5:"
   ]
  },
  {
   "cell_type": "code",
   "execution_count": null,
   "metadata": {},
   "outputs": [],
   "source": [
    "i = float(input(\"Digite a corrente elétrica:\"))\n",
    "V = float(input(\"Digite a tensão: \"))\n",
    "R = float(input(\"Digite a resistência: \"))\n",
    "\n",
    "if i==0 and V==0 or R==0 and i==0 or R==0 and V==0:\n",
    "    print (\"Valor inválido. Por favor, tente novamente\")\n",
    "elif R==0 or i > 0 and V > 0 and R > 0:\n",
    "    P1 = i * V\n",
    "    print(f'A Potência é {P1}W')\n",
    "elif V == 0:\n",
    "    P2 =R*i**2\n",
    "    print(f'A Potência é {P2}W')\n",
    "else:\n",
    "    P3 = V**2/R\n",
    "    print(f'A Potência é {P3}W')\n",
    "\n",
    "print(f'Corrente elétrica: {i}, Tensão: {V}, Resistência: {R}')"
   ]
  }
 ],
 "metadata": {
  "language_info": {
   "name": "python"
  },
  "orig_nbformat": 4
 },
 "nbformat": 4,
 "nbformat_minor": 2
}
