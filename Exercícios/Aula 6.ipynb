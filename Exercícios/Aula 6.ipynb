{
 "cells": [
  {
   "cell_type": "markdown",
   "metadata": {},
   "source": [
    "# Exercício 3 - Pacientes com diabetes:"
   ]
  },
  {
   "cell_type": "code",
   "execution_count": null,
   "metadata": {},
   "outputs": [],
   "source": [
    "pacientes = ['João', 'Maria', 'Pedro', 'Ana']\n",
    "idades = [45, 60, 30, 50]\n",
    "condiçao = ['diabetes', 'hipertensão', 'diabetes', 'asma']\n",
    "diabetes = []\n",
    "\n",
    "combine = list(zip(pacientes, idades, condiçao))\n",
    "\n",
    "for  in condiçao:\n",
    "        if condiçao == 'diabetes':\n",
    "            diabetes.append()\n",
    "            \n",
    "print(diabetes)"
   ]
  },
  {
   "cell_type": "markdown",
   "metadata": {},
   "source": [
    "# Exercícios de fixação"
   ]
  },
  {
   "cell_type": "markdown",
   "metadata": {},
   "source": [
    "## Exercício 1:"
   ]
  },
  {
   "cell_type": "code",
   "execution_count": null,
   "metadata": {},
   "outputs": [],
   "source": [
    "# idade"
   ]
  },
  {
   "cell_type": "markdown",
   "metadata": {},
   "source": [
    "## Exercício 2:"
   ]
  },
  {
   "cell_type": "code",
   "execution_count": null,
   "metadata": {},
   "outputs": [],
   "source": [
    "#total"
   ]
  }
 ],
 "metadata": {
  "language_info": {
   "name": "python"
  }
 },
 "nbformat": 4,
 "nbformat_minor": 2
}
