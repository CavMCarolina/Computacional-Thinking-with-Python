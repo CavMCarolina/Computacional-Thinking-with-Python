{
 "cells": [
  {
   "cell_type": "code",
   "execution_count": 7,
   "metadata": {},
   "outputs": [
    {
     "name": "stdout",
     "output_type": "stream",
     "text": [
      "Sua média é:  6.666666666666667\n",
      "Nota 1: 10.0, Nota2: 3.0, Nota 3: 7.0, Nota 4: 2.0\n"
     ]
    }
   ],
   "source": [
    "nota1 = float(input(\"Digite sua primeira nota: \"))\n",
    "nota2 = float(input(\"Digite sua segunda nota: \"))\n",
    "nota3 = float(input(\"Digite sua terceira nota: \"))\n",
    "nota4 = float(input(\"Digite sua última nota: \"))\n",
    "\n",
    "média1 = (nota1+nota2+nota3)/3\n",
    "média2 = (nota2+nota3+nota4)/3\n",
    "média3 = (nota1+nota3+nota4)/3\n",
    "média4 = (nota1+nota2+nota4)/3\n",
    "\n",
    "if nota1<nota2 and nota1<nota3 and nota1<nota4 or nota1==nota2 and nota1<nota3 and nota1<nota4 or nota1==nota3 and nota1<nota2 and nota1<nota4:\n",
    "    print(\"Sua média é: \", média2)\n",
    "elif nota2<nota3 and nota2<nota1 and nota2<nota4 or nota2==nota3 and nota2<nota1 and nota2<nota4:\n",
    "    print(\"Sua média é: \", média3)\n",
    "elif nota3<nota2 and nota3<nota4 and nota3<nota1:\n",
    "    print(\"Sua média é: \", média4)\n",
    "elif nota4<nota1 and nota4<nota2 and nota4<nota3 or nota1==nota4 and nota1<nota2 and nota1<nota3 or nota2==nota4 and nota2<nota1 and nota2<nota3 or nota3==nota4 and nota3<nota1 and nota3< nota2:\n",
    "    print(\"Sua média é: \", média1)\n",
    "else:\n",
    "    print(\"Sua média é: \", média1)\n",
    "\n",
    "print(f'Nota 1: {nota1}, Nota2: {nota2}, Nota 3: {nota3}, Nota 4: {nota4}')"
   ]
  }
 ],
 "metadata": {
  "kernelspec": {
   "display_name": "Python 3",
   "language": "python",
   "name": "python3"
  },
  "language_info": {
   "codemirror_mode": {
    "name": "ipython",
    "version": 3
   },
   "file_extension": ".py",
   "mimetype": "text/x-python",
   "name": "python",
   "nbconvert_exporter": "python",
   "pygments_lexer": "ipython3",
   "version": "3.11.5"
  },
  "orig_nbformat": 4
 },
 "nbformat": 4,
 "nbformat_minor": 2
}
