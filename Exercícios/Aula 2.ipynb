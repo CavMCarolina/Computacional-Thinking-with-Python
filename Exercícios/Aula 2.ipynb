{
 "cells": [
  {
   "cell_type": "markdown",
   "metadata": {},
   "source": [
    "# Exercícios Iniciais:"
   ]
  },
  {
   "cell_type": "code",
   "execution_count": 1,
   "metadata": {},
   "outputs": [
    {
     "name": "stdout",
     "output_type": "stream",
     "text": [
      "90\n"
     ]
    }
   ],
   "source": [
    "# Exercício 1:\n",
    "\n",
    "a = 3\n",
    "b = 5\n",
    "\n",
    "print(2*a * 3*b)"
   ]
  },
  {
   "cell_type": "code",
   "execution_count": 2,
   "metadata": {},
   "outputs": [
    {
     "name": "stdout",
     "output_type": "stream",
     "text": [
      "2.5\n",
      "Primeiro valor = 2.0; Segundo valor = -3.5; Terceiro valor = 4.0\n"
     ]
    }
   ],
   "source": [
    "# Exercício 2:\n",
    "\n",
    "a = float(input(\"Digite o primeiro valor:\"))\n",
    "b = float(input(\"Digite o segundo valor: \"))\n",
    "c = float(input(\"Digite o último valor: \"))\n",
    "\n",
    "print(a + b +c)\n",
    "print(f'Primeiro valor = {a}; Segundo valor = {b}; Terceiro valor = {c}')"
   ]
  },
  {
   "cell_type": "code",
   "execution_count": 3,
   "metadata": {},
   "outputs": [
    {
     "name": "stdout",
     "output_type": "stream",
     "text": [
      "6.5\n",
      "Primeiro valor = 4.0; Segundo valor = -6.0; Terceiro valor = 8.5\n"
     ]
    }
   ],
   "source": [
    "a = float(input(\"Digite o primeiro valor:\"))\n",
    "b = float(input(\"Digite o segundo valor: \"))\n",
    "c = float(input(\"Digite o último valor: \"))\n",
    "\n",
    "soma = [a, b, c]\n",
    "print(sum(soma))\n",
    "print(f'Primeiro valor = {a}; Segundo valor = {b}; Terceiro valor = {c}')"
   ]
  },
  {
   "cell_type": "code",
   "execution_count": 5,
   "metadata": {},
   "outputs": [
    {
     "name": "stdout",
     "output_type": "stream",
     "text": [
      "862.5\n"
     ]
    }
   ],
   "source": [
    "# Exercício 3:\n",
    "\n",
    "salário = 750\n",
    "aumento = 0.15\n",
    "\n",
    "print(salário + salário*aumento)\n",
    "salário = salário + salário*aumento"
   ]
  },
  {
   "cell_type": "code",
   "execution_count": 6,
   "metadata": {},
   "outputs": [
    {
     "name": "stdout",
     "output_type": "stream",
     "text": [
      "991.875\n"
     ]
    }
   ],
   "source": [
    "print(salário + salário*aumento)"
   ]
  },
  {
   "cell_type": "markdown",
   "metadata": {},
   "source": [
    "# Expressões Lógicas:"
   ]
  },
  {
   "cell_type": "code",
   "execution_count": 7,
   "metadata": {},
   "outputs": [
    {
     "name": "stdout",
     "output_type": "stream",
     "text": [
      "Deve pagar imposto. Salário de R$ 4000.0\n"
     ]
    }
   ],
   "source": [
    "# Exercício 1:\n",
    "\n",
    "salário = float(input(\"Digite o seu salário\"))\n",
    "\n",
    "if salário > 1200:\n",
    "    print(\"Deve pagar imposto. Salário de R$\", salário)\n",
    "elif 0 <= salário <= 1200:\n",
    "    print(\"Não deve pagar imposto. Salário de R$\", salário)\n",
    "else:\n",
    "    print(\"Digite um valor válido\")"
   ]
  },
  {
   "cell_type": "code",
   "execution_count": 8,
   "metadata": {},
   "outputs": [
    {
     "name": "stdout",
     "output_type": "stream",
     "text": [
      "Aluno reprovado\n",
      "Média de cada matéria: 4.0 7.0 8.0\n"
     ]
    }
   ],
   "source": [
    "# Exercício 2:\n",
    "# Média de cada matéria\n",
    "\n",
    "materia1 = float(input(\"Digite a média da primeira matéria: \"))\n",
    "materia2 = float(input(\"Digite a média da segunda matéria: \"))\n",
    "materia3 = float(input(\"Digite a média da terceira matéria: \"))\n",
    "\n",
    "if materia1 < 0 or materia2 < 0 or materia3 < 0:\n",
    "    print(\"Digite valores válidos\")\n",
    "elif materia1 >= 7 and materia2 >= 7 and materia3 >= 7:\n",
    "    print(\"Aluno aprovado\")\n",
    "else:\n",
    "    print(\"Aluno reprovado\")\n",
    "\n",
    "print(\"Média de cada matéria:\", materia1, materia2, materia3)"
   ]
  },
  {
   "cell_type": "code",
   "execution_count": 9,
   "metadata": {},
   "outputs": [
    {
     "name": "stdout",
     "output_type": "stream",
     "text": [
      "A média será:  6.333333333333333\n",
      "Matérias:  4.0 7.0 8.0\n",
      "Reprovado\n"
     ]
    }
   ],
   "source": [
    "# Média final\n",
    "\n",
    "materia1 = float(input(\"Valor da primeira matéria: \"))\n",
    "materia2 = float(input(\"Valor da segunda matéria: \"))\n",
    "materia3 = float(input(\"Valor da terceira matéria: \"))\n",
    "\n",
    "soma = [materia1, materia2, materia3]\n",
    "\n",
    "media = sum(soma)/3\n",
    "\n",
    "print(\"A média será: \", media)\n",
    "print(\"Matérias: \", materia1, materia2, materia3)\n",
    "\n",
    "if 7 <= media <= 10:\n",
    "    print(\"Aprovado\")\n",
    "elif 0 <= media < 7:\n",
    "    print(\"Reprovado\")\n",
    "else:\n",
    "    print(\"Erro. Por favor, coloque números válidos\")"
   ]
  },
  {
   "cell_type": "markdown",
   "metadata": {},
   "source": [
    "# Exercício 1:"
   ]
  },
  {
   "cell_type": "code",
   "execution_count": 10,
   "metadata": {},
   "outputs": [
    {
     "name": "stdout",
     "output_type": "stream",
     "text": [
      "200000.0 mm\n"
     ]
    }
   ],
   "source": [
    "a = float(input(\"Digite o valor em metros: \"))\n",
    "\n",
    "print(a*1000, \"mm\")"
   ]
  },
  {
   "cell_type": "code",
   "execution_count": 11,
   "metadata": {},
   "outputs": [
    {
     "name": "stdout",
     "output_type": "stream",
     "text": [
      "50000.00 mm\n"
     ]
    }
   ],
   "source": [
    "a = float(input(\"Digite o valor em metros: \"))\n",
    "mm = a*1000\n",
    "\n",
    "print(f'{mm:.2f} mm')"
   ]
  },
  {
   "cell_type": "markdown",
   "metadata": {},
   "source": [
    "# Exercício 2:"
   ]
  },
  {
   "cell_type": "code",
   "execution_count": 12,
   "metadata": {},
   "outputs": [
    {
     "name": "stdout",
     "output_type": "stream",
     "text": [
      "O total de segundos é 4081466880000000\n"
     ]
    }
   ],
   "source": [
    "d = int(input(\"Digite a quantidade de dias\"))\n",
    "h = int(input(\"Digite a quantidade de horas\"))\n",
    "m = int(input(\"Digite a quantidade de minutos\"))\n",
    "s = int(input(\"Digite a quantidade de segundos\"))\n",
    "\n",
    "print(\"O total de segundos é\", s * m*60 * h*60**2 * d*24*60**2)"
   ]
  },
  {
   "cell_type": "markdown",
   "metadata": {},
   "source": [
    "# Exercício 3:"
   ]
  },
  {
   "cell_type": "code",
   "execution_count": 13,
   "metadata": {},
   "outputs": [
    {
     "name": "stdout",
     "output_type": "stream",
     "text": [
      "O valor a ser pago é de R$ 135.0\n",
      "Desconto de 10.0 %\n"
     ]
    }
   ],
   "source": [
    "preço = float(input(\"Digite o valor da mercadoria: \"))\n",
    "desconto = float(input(\"Digite o valor do desconto em porcentagem: \"))\n",
    "\n",
    "print(\"O valor a ser pago é de R$\", preço - preço*(desconto/100))\n",
    "print(\"Desconto de\", desconto, \"%\")"
   ]
  },
  {
   "cell_type": "markdown",
   "metadata": {},
   "source": [
    "# Exercício 4:"
   ]
  },
  {
   "cell_type": "code",
   "execution_count": 14,
   "metadata": {},
   "outputs": [
    {
     "name": "stdout",
     "output_type": "stream",
     "text": [
      "O tempo estimado para essa viagem é de 1.625 horas\n",
      "A distância será de 130.0 Km e a velocidade média de 80.0 Km/h\n"
     ]
    }
   ],
   "source": [
    "d = float(input(\"Digite a distância que será percorrida em Km\"))\n",
    "v = float(input(\"Digite a velocidade média esperada para a viagem em Km/h\"))\n",
    "\n",
    "print(\"O tempo estimado para essa viagem é de\", d/v, \"horas\")\n",
    "print(\"A distância será de\", d, \"Km e a velocidade média de\", v, \"Km/h\")\n",
    "\n",
    "# Como faz para converter direto os números depois da vírgula para horas?"
   ]
  },
  {
   "cell_type": "markdown",
   "metadata": {},
   "source": [
    "# Exercício 5:"
   ]
  },
  {
   "cell_type": "code",
   "execution_count": 15,
   "metadata": {},
   "outputs": [
    {
     "name": "stdout",
     "output_type": "stream",
     "text": [
      "26.5 °C equivalem a 79.7 °F\n"
     ]
    }
   ],
   "source": [
    "T = float(input(\"Digite a temperatura em °C: \"))\n",
    "\n",
    "print(T,\"°C equivalem a\", ((9*T)/5)+32, \"°F\")"
   ]
  },
  {
   "cell_type": "markdown",
   "metadata": {},
   "source": [
    "# Exercício 6:"
   ]
  },
  {
   "cell_type": "code",
   "execution_count": 16,
   "metadata": {},
   "outputs": [
    {
     "name": "stdout",
     "output_type": "stream",
     "text": [
      "O valor a ser pago é de R$ 930.0\n",
      "O carro alugado percorreu 200.0 Km em 15.0 dias\n"
     ]
    }
   ],
   "source": [
    "km = float(input(\"Quantos km o carro percorreu?\"))\n",
    "dias = float(input(\"Por quantos dias o carro foi alugado?\"))\n",
    "\n",
    "print(\"O valor a ser pago é de R$\",  km*0.15 + dias*60)\n",
    "print(f\"O carro alugado percorreu {km} Km em {dias} dias\")"
   ]
  }
 ],
 "metadata": {
  "kernelspec": {
   "display_name": "Python 3",
   "language": "python",
   "name": "python3"
  },
  "language_info": {
   "codemirror_mode": {
    "name": "ipython",
    "version": 3
   },
   "file_extension": ".py",
   "mimetype": "text/x-python",
   "name": "python",
   "nbconvert_exporter": "python",
   "pygments_lexer": "ipython3",
   "version": "3.11.5"
  },
  "orig_nbformat": 4
 },
 "nbformat": 4,
 "nbformat_minor": 2
}
