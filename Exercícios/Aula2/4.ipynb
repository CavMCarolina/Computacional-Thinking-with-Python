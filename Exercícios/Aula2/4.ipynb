{
 "cells": [
  {
   "cell_type": "code",
   "execution_count": 3,
   "metadata": {},
   "outputs": [
    {
     "name": "stdout",
     "output_type": "stream",
     "text": [
      "O tempo estimado para essa viagem é de 1.625 horas\n",
      "A distância será de 130.0 Km e a velocidade média de 80.0 Km/h\n"
     ]
    }
   ],
   "source": [
    "d = float(input(\"Digite a distância que será percorrida em Km\"))\n",
    "v = float(input(\"Digite a velocidade média esperada para a viagem em Km/h\"))\n",
    "\n",
    "print(\"O tempo estimado para essa viagem é de\", d/v, \"horas\")\n",
    "print(\"A distância será de\", d, \"Km e a velocidade média de\", v, \"Km/h\")\n",
    "\n",
    "# Como faz para converter direto os números depois da vírgula para horas?"
   ]
  },
  {
   "cell_type": "code",
   "execution_count": null,
   "metadata": {},
   "outputs": [],
   "source": [
    "d = float(input(\"Digite a distância que será percorrida em km\"))\n",
    "v = float(input(\"Digite a velocidade média esperada para a viagem em km/h\"))\n",
    "\n",
    "# sempre vai ser float pq eu coloquei float antes. como fazer if .0 = int, .5 = float?\n",
    "\n",
    "if d/v == int:\n",
    "    print(\"O tempo estimado para essa viagem é de\", d/v, \"horas\")\n",
    "elif d/v == float:\n",
    "    print()"
   ]
  }
 ],
 "metadata": {
  "kernelspec": {
   "display_name": "Python 3",
   "language": "python",
   "name": "python3"
  },
  "language_info": {
   "codemirror_mode": {
    "name": "ipython",
    "version": 3
   },
   "file_extension": ".py",
   "mimetype": "text/x-python",
   "name": "python",
   "nbconvert_exporter": "python",
   "pygments_lexer": "ipython3",
   "version": "3.11.5"
  },
  "orig_nbformat": 4
 },
 "nbformat": 4,
 "nbformat_minor": 2
}
