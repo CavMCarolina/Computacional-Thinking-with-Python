{
 "cells": [
  {
   "cell_type": "markdown",
   "metadata": {},
   "source": [
    "# Exercício 1:"
   ]
  },
  {
   "cell_type": "code",
   "execution_count": 1,
   "metadata": {},
   "outputs": [
    {
     "name": "stdout",
     "output_type": "stream",
     "text": [
      "90\n"
     ]
    }
   ],
   "source": [
    "a = 3\n",
    "b = 5\n",
    "\n",
    "print(2*a * 3*b)"
   ]
  },
  {
   "cell_type": "markdown",
   "metadata": {},
   "source": [
    "# Exercício 2:"
   ]
  },
  {
   "cell_type": "code",
   "execution_count": 5,
   "metadata": {},
   "outputs": [
    {
     "name": "stdout",
     "output_type": "stream",
     "text": [
      "3.5\n",
      "Primeiro valor = -3.0; Segundo valor = 4.5; Terceiro valor = 2.0\n"
     ]
    }
   ],
   "source": [
    "a = float(input(\"Digite o primeiro valor:\"))\n",
    "b = float(input(\"Digite o segundo valor: \"))\n",
    "c = float(input(\"Digite o último valor: \"))\n",
    "\n",
    "print(a + b +c)\n",
    "print(f'Primeiro valor = {a}; Segundo valor = {b}; Terceiro valor = {c}')"
   ]
  },
  {
   "cell_type": "code",
   "execution_count": 10,
   "metadata": {},
   "outputs": [
    {
     "name": "stdout",
     "output_type": "stream",
     "text": [
      "-2.0\n",
      "Primeiro valor = 2.0; Segundo valor = -10.0; Terceiro valor = 6.0\n"
     ]
    }
   ],
   "source": [
    "a = float(input(\"Digite o primeiro valor:\"))\n",
    "b = float(input(\"Digite o segundo valor: \"))\n",
    "c = float(input(\"Digite o último valor: \"))\n",
    "\n",
    "soma = [a, b, c]\n",
    "print(sum(soma))\n",
    "print(f'Primeiro valor = {a}; Segundo valor = {b}; Terceiro valor = {c}')"
   ]
  },
  {
   "cell_type": "markdown",
   "metadata": {},
   "source": [
    "# Exercício 3:"
   ]
  },
  {
   "cell_type": "code",
   "execution_count": 8,
   "metadata": {},
   "outputs": [
    {
     "name": "stdout",
     "output_type": "stream",
     "text": [
      "862.5\n"
     ]
    }
   ],
   "source": [
    "salário = 750\n",
    "aumento = 0.15\n",
    "\n",
    "print(salário + salário*aumento)\n",
    "salário = salário + salário*aumento\n"
   ]
  },
  {
   "cell_type": "code",
   "execution_count": 9,
   "metadata": {},
   "outputs": [
    {
     "name": "stdout",
     "output_type": "stream",
     "text": [
      "991.875\n"
     ]
    }
   ],
   "source": [
    "print(salário + salário*aumento)"
   ]
  }
 ],
 "metadata": {
  "kernelspec": {
   "display_name": "Python 3",
   "language": "python",
   "name": "python3"
  },
  "language_info": {
   "codemirror_mode": {
    "name": "ipython",
    "version": 3
   },
   "file_extension": ".py",
   "mimetype": "text/x-python",
   "name": "python",
   "nbconvert_exporter": "python",
   "pygments_lexer": "ipython3",
   "version": "3.11.5"
  },
  "orig_nbformat": 4
 },
 "nbformat": 4,
 "nbformat_minor": 2
}
