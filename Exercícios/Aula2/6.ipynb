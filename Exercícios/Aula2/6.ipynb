{
 "cells": [
  {
   "cell_type": "code",
   "execution_count": 1,
   "metadata": {},
   "outputs": [
    {
     "name": "stdout",
     "output_type": "stream",
     "text": [
      "O valor a ser pago é de R$ 183.0\n"
     ]
    }
   ],
   "source": [
    "km = float(input(\"Quantos km o carro percorreu?\"))\n",
    "dias = float(input(\"Por quantos dias o carro foi alugado?\"))\n",
    "\n",
    "print(\"O valor a ser pago é de R$\",  km*0.15 + dias*60)"
   ]
  }
 ],
 "metadata": {
  "kernelspec": {
   "display_name": "Python 3",
   "language": "python",
   "name": "python3"
  },
  "language_info": {
   "codemirror_mode": {
    "name": "ipython",
    "version": 3
   },
   "file_extension": ".py",
   "mimetype": "text/x-python",
   "name": "python",
   "nbconvert_exporter": "python",
   "pygments_lexer": "ipython3",
   "version": "3.11.5"
  },
  "orig_nbformat": 4
 },
 "nbformat": 4,
 "nbformat_minor": 2
}
