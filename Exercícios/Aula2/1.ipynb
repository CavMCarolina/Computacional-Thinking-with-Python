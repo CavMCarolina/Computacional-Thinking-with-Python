{
 "cells": [
  {
   "cell_type": "code",
   "execution_count": 16,
   "metadata": {},
   "outputs": [
    {
     "name": "stdout",
     "output_type": "stream",
     "text": [
      "2.0 mm\n"
     ]
    }
   ],
   "source": [
    "a = float(input(\"Digite o valor em metros: \"))\n",
    "\n",
    "print(a/100, \"mm\")"
   ]
  },
  {
   "cell_type": "code",
   "execution_count": 19,
   "metadata": {},
   "outputs": [
    {
     "ename": "TypeError",
     "evalue": "unsupported operand type(s) for /: 'str' and 'int'",
     "output_type": "error",
     "traceback": [
      "\u001b[1;31m---------------------------------------------------------------------------\u001b[0m",
      "\u001b[1;31mTypeError\u001b[0m                                 Traceback (most recent call last)",
      "\u001b[1;32mc:\\Users\\cacol\\OneDrive\\Desktop\\FIAP\\Computacional-Thinking-with-Python\\Exercícios\\Aula2\\1.ipynb Cell 2\u001b[0m line \u001b[0;36m5\n\u001b[0;32m      <a href='vscode-notebook-cell:/c%3A/Users/cacol/OneDrive/Desktop/FIAP/Computacional-Thinking-with-Python/Exerc%C3%ADcios/Aula2/1.ipynb#W1sZmlsZQ%3D%3D?line=0'>1</a>\u001b[0m \u001b[39m# DÚVIDA:\u001b[39;00m\n\u001b[0;32m      <a href='vscode-notebook-cell:/c%3A/Users/cacol/OneDrive/Desktop/FIAP/Computacional-Thinking-with-Python/Exerc%C3%ADcios/Aula2/1.ipynb#W1sZmlsZQ%3D%3D?line=2'>3</a>\u001b[0m a \u001b[39m=\u001b[39m \u001b[39mfloat\u001b[39m(\u001b[39minput\u001b[39m(\u001b[39m\"\u001b[39m\u001b[39mDigite o valor em metros: \u001b[39m\u001b[39m\"\u001b[39m))\n\u001b[1;32m----> <a href='vscode-notebook-cell:/c%3A/Users/cacol/OneDrive/Desktop/FIAP/Computacional-Thinking-with-Python/Exerc%C3%ADcios/Aula2/1.ipynb#W1sZmlsZQ%3D%3D?line=4'>5</a>\u001b[0m \u001b[39mprint\u001b[39m(\u001b[39m\"\u001b[39;49m\u001b[39m%2.1f\u001b[39;49;00m\u001b[39m\"\u001b[39;49m \u001b[39m%\u001b[39;49ma\u001b[39m/\u001b[39;49m\u001b[39m100\u001b[39;49m, \u001b[39m\"\u001b[39m\u001b[39mmm\u001b[39m\u001b[39m\"\u001b[39m)\n",
      "\u001b[1;31mTypeError\u001b[0m: unsupported operand type(s) for /: 'str' and 'int'"
     ]
    }
   ],
   "source": [
    "# DÚVIDA:\n",
    "\n",
    "a = float(input(\"Digite o valor em metros: \"))\n",
    "\n",
    "print(\"%2.1f\" %a/100, \"mm\")"
   ]
  }
 ],
 "metadata": {
  "kernelspec": {
   "display_name": "Python 3",
   "language": "python",
   "name": "python3"
  },
  "language_info": {
   "codemirror_mode": {
    "name": "ipython",
    "version": 3
   },
   "file_extension": ".py",
   "mimetype": "text/x-python",
   "name": "python",
   "nbconvert_exporter": "python",
   "pygments_lexer": "ipython3",
   "version": "3.11.5"
  },
  "orig_nbformat": 4
 },
 "nbformat": 4,
 "nbformat_minor": 2
}
