{
 "cells": [
  {
   "cell_type": "code",
   "execution_count": 4,
   "metadata": {},
   "outputs": [
    {
     "name": "stdout",
     "output_type": "stream",
     "text": [
      "Deve pagar imposto. Salário de R$ 4000.0\n"
     ]
    }
   ],
   "source": [
    "salário = float(input(\"Digite o seu salário\"))\n",
    "\n",
    "if salário > 1200:\n",
    "    print(\"Deve pagar imposto. Salário de R$\", salário)\n",
    "elif 0 <= salário <= 1200:\n",
    "    print(\"Não deve pagar imposto. Salário de R$\", salário)\n",
    "else:\n",
    "    print(\"Digite um valor válido\")"
   ]
  }
 ],
 "metadata": {
  "kernelspec": {
   "display_name": "Python 3",
   "language": "python",
   "name": "python3"
  },
  "language_info": {
   "codemirror_mode": {
    "name": "ipython",
    "version": 3
   },
   "file_extension": ".py",
   "mimetype": "text/x-python",
   "name": "python",
   "nbconvert_exporter": "python",
   "pygments_lexer": "ipython3",
   "version": "3.11.5"
  },
  "orig_nbformat": 4
 },
 "nbformat": 4,
 "nbformat_minor": 2
}
