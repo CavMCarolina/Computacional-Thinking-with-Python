{
 "cells": [
  {
   "cell_type": "code",
   "execution_count": 5,
   "metadata": {},
   "outputs": [
    {
     "name": "stdout",
     "output_type": "stream",
     "text": [
      "Aluno reprovado\n",
      "Média de cada matéria: 7.0 5.0 4.0\n"
     ]
    }
   ],
   "source": [
    "# Média de cada matéria\n",
    "\n",
    "materia1 = float(input(\"Digite a média da primeira matéria: \"))\n",
    "materia2 = float(input(\"Digite a média da segunda matéria: \"))\n",
    "materia3 = float(input(\"Digite a média da terceira matéria: \"))\n",
    "\n",
    "if materia1 < 0 or materia2 < 0 or materia3 < 0:\n",
    "    print(\"Digite valores válidos\")\n",
    "elif materia1 >= 7 and materia2 >= 7 and materia3 >= 7:\n",
    "    print(\"Aluno aprovado\")\n",
    "else:\n",
    "    print(\"Aluno reprovado\")\n",
    "\n",
    "print(\"Média de cada matéria:\", materia1, materia2, materia3)"
   ]
  },
  {
   "cell_type": "code",
   "execution_count": 7,
   "metadata": {},
   "outputs": [
    {
     "name": "stdout",
     "output_type": "stream",
     "text": [
      "A média será:  7.666666666666667\n",
      "Matérias:  9.0 6.0 8.0\n",
      "Aprovado\n"
     ]
    }
   ],
   "source": [
    "# Média final\n",
    "\n",
    "materia1 = float(input(\"Valor da primeira matéria: \"))\n",
    "materia2 = float(input(\"Valor da segunda matéria: \"))\n",
    "materia3 = float(input(\"Valor da terceira matéria: \"))\n",
    "\n",
    "soma = [materia1, materia2, materia3]\n",
    "\n",
    "media = sum(soma)/3\n",
    "\n",
    "print(\"A média será: \", media)\n",
    "print(\"Matérias: \", materia1, materia2, materia3)\n",
    "\n",
    "if 7 <= media <= 10:\n",
    "    print(\"Aprovado\")\n",
    "elif 0 <= media < 7:\n",
    "    print(\"Reprovado\")\n",
    "else:\n",
    "    print(\"Erro. Por favor, coloque números válidos\")"
   ]
  }
 ],
 "metadata": {
  "kernelspec": {
   "display_name": "Python 3",
   "language": "python",
   "name": "python3"
  },
  "language_info": {
   "codemirror_mode": {
    "name": "ipython",
    "version": 3
   },
   "file_extension": ".py",
   "mimetype": "text/x-python",
   "name": "python",
   "nbconvert_exporter": "python",
   "pygments_lexer": "ipython3",
   "version": "3.11.5"
  },
  "orig_nbformat": 4
 },
 "nbformat": 4,
 "nbformat_minor": 2
}
