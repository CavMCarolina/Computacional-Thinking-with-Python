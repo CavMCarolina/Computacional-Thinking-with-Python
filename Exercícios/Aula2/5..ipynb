{
 "cells": [
  {
   "cell_type": "code",
   "execution_count": 6,
   "metadata": {},
   "outputs": [
    {
     "name": "stdout",
     "output_type": "stream",
     "text": [
      "25.6 °C equivalem a 78.08 °F\n"
     ]
    }
   ],
   "source": [
    "T = float(input(\"Digite a temperatura em °C: \"))\n",
    "\n",
    "print(T,\"°C equivalem a\", ((9*T)/5)+32, \"°F\")"
   ]
  }
 ],
 "metadata": {
  "kernelspec": {
   "display_name": "Python 3",
   "language": "python",
   "name": "python3"
  },
  "language_info": {
   "codemirror_mode": {
    "name": "ipython",
    "version": 3
   },
   "file_extension": ".py",
   "mimetype": "text/x-python",
   "name": "python",
   "nbconvert_exporter": "python",
   "pygments_lexer": "ipython3",
   "version": "3.11.5"
  },
  "orig_nbformat": 4
 },
 "nbformat": 4,
 "nbformat_minor": 2
}
