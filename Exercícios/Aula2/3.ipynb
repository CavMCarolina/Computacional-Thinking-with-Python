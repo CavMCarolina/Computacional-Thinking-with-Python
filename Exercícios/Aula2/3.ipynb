{
 "cells": [
  {
   "cell_type": "code",
   "execution_count": 2,
   "metadata": {},
   "outputs": [
    {
     "name": "stdout",
     "output_type": "stream",
     "text": [
      "O valor a ser pago é de R$ 135.0\n",
      "10.0 %\n"
     ]
    }
   ],
   "source": [
    "preço = float(input(\"Digite o valor da mercadoria: \"))\n",
    "desconto = float(input(\"Digite o valor do desconto em porcentagem: \"))\n",
    "\n",
    "print(\"O valor a ser pago é de R$\", preço - preço*(desconto/100))\n",
    "print(desconto, \"%\")"
   ]
  }
 ],
 "metadata": {
  "kernelspec": {
   "display_name": "Python 3",
   "language": "python",
   "name": "python3"
  },
  "language_info": {
   "codemirror_mode": {
    "name": "ipython",
    "version": 3
   },
   "file_extension": ".py",
   "mimetype": "text/x-python",
   "name": "python",
   "nbconvert_exporter": "python",
   "pygments_lexer": "ipython3",
   "version": "3.11.5"
  },
  "orig_nbformat": 4
 },
 "nbformat": 4,
 "nbformat_minor": 2
}
