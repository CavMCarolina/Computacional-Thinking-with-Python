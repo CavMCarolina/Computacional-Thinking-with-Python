{
 "cells": [
  {
   "cell_type": "code",
   "execution_count": null,
   "metadata": {},
   "outputs": [],
   "source": [
    "idade = int(input(\"Digite sua idade\"))\n",
    "\n",
    "if (idade > 0 and idade <= 11):\n",
    "    print(\"Criança\")\n",
    "elif 12 <= idade <= 20:\n",
    "    print(\"Adolescente\")\n",
    "elif 21 <= idade <= 40:\n",
    "    print(\"Jovem-adulto\")\n",
    "elif 41 <= idade <= 65:\n",
    "    print(\"Meia-idade\")\n",
    "elif idade > 65:\n",
    "    print(\"Idoso\")\n",
    "else:\n",
    "    print(\"Idade inválida. Por favor, tente novamente\")          "
   ]
  }
 ],
 "metadata": {
  "kernelspec": {
   "display_name": "Python 3",
   "language": "python",
   "name": "python3"
  },
  "language_info": {
   "codemirror_mode": {
    "name": "ipython",
    "version": 3
   },
   "file_extension": ".py",
   "mimetype": "text/x-python",
   "name": "python",
   "nbconvert_exporter": "python",
   "pygments_lexer": "ipython3",
   "version": "3.11.5"
  },
  "orig_nbformat": 4
 },
 "nbformat": 4,
 "nbformat_minor": 2
}
