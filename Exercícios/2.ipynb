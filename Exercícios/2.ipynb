{
 "cells": [
  {
   "cell_type": "code",
   "execution_count": null,
   "metadata": {},
   "outputs": [],
   "source": [
    "c = 3 * pow(10,8)\n",
    "m = float(input(\"Digite a massa em quilos\"))\n",
    "\n",
    "E = m*c**2/10**9\n",
    "\n",
    "if m > 0:\n",
    "    print(f'A Energia é {E}GJ')\n",
    "else:\n",
    "    print(\"Massa inválida\") \n",
    "\n",
    "print(\"A massa é:\", m)"
   ]
  }
 ],
 "metadata": {
  "kernelspec": {
   "display_name": "Python 3",
   "language": "python",
   "name": "python3"
  },
  "language_info": {
   "codemirror_mode": {
    "name": "ipython",
    "version": 3
   },
   "file_extension": ".py",
   "mimetype": "text/x-python",
   "name": "python",
   "nbconvert_exporter": "python",
   "pygments_lexer": "ipython3",
   "version": "3.11.4"
  },
  "orig_nbformat": 4
 },
 "nbformat": 4,
 "nbformat_minor": 2
}
