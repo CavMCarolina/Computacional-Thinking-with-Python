{
 "cells": [
  {
   "cell_type": "code",
   "execution_count": 14,
   "metadata": {},
   "outputs": [
    {
     "name": "stdout",
     "output_type": "stream",
     "text": [
      "A Energia é de 7200000000000000.0KJ\n"
     ]
    }
   ],
   "source": [
    "c = 300000000\n",
    "m = float(input(\"Digite a massa em quilos\"))\n",
    "\n",
    "E = m*c**2\n",
    "\n",
    "if m > 0:\n",
    "    print(f'A Energia é {E/1000}KJ')\n",
    "else:\n",
    "    print(\"Massa inválida\")    "
   ]
  }
 ],
 "metadata": {
  "kernelspec": {
   "display_name": "Python 3",
   "language": "python",
   "name": "python3"
  },
  "language_info": {
   "codemirror_mode": {
    "name": "ipython",
    "version": 3
   },
   "file_extension": ".py",
   "mimetype": "text/x-python",
   "name": "python",
   "nbconvert_exporter": "python",
   "pygments_lexer": "ipython3",
   "version": "3.11.5"
  },
  "orig_nbformat": 4
 },
 "nbformat": 4,
 "nbformat_minor": 2
}
