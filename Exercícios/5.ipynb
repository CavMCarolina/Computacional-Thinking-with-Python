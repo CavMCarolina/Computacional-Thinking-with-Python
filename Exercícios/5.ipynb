{
 "cells": [
  {
   "cell_type": "code",
   "execution_count": null,
   "metadata": {},
   "outputs": [],
   "source": [
    "i = float(input(\"Digite a corrente elétrica:\"))\n",
    "V = float(input(\"Digite a tensão: \"))\n",
    "R = float(input(\"Digite a resistência: \"))\n",
    "\n",
    "if i==0 and V==0 and R==0:\n",
    "    print (\"A Potência é 0W\")\n",
    "elif R==0 or i > 0 and V > 0 and R > 0:\n",
    "    P1 = i * V\n",
    "    print(f'A Potência é {P1}W')\n",
    "elif V == 0:\n",
    "    P2 =R*i**2\n",
    "    print(f'A Potência é {P2}W')\n",
    "else:\n",
    "    P3 = V**2/R\n",
    "    print(f'A Potência é {P3}W')\n",
    "\n",
    "print(f'Corrente elétrica: {i}, Tensão: {V}, Resistência: {R}')"
   ]
  }
 ],
 "metadata": {
  "kernelspec": {
   "display_name": "Python 3",
   "language": "python",
   "name": "python3"
  },
  "language_info": {
   "codemirror_mode": {
    "name": "ipython",
    "version": 3
   },
   "file_extension": ".py",
   "mimetype": "text/x-python",
   "name": "python",
   "nbconvert_exporter": "python",
   "pygments_lexer": "ipython3",
   "version": "3.11.5"
  },
  "orig_nbformat": 4
 },
 "nbformat": 4,
 "nbformat_minor": 2
}
