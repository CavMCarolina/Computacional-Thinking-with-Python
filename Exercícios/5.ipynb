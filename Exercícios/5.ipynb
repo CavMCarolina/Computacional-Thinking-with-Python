{
 "cells": [
  {
   "cell_type": "code",
   "execution_count": 6,
   "metadata": {},
   "outputs": [
    {
     "name": "stdout",
     "output_type": "stream",
     "text": [
      "A Potência é 0.4W\n",
      "Corrente elétrica: 0.0, Resistência: 10.0, Voltagem: 2.0\n"
     ]
    }
   ],
   "source": [
    "i = float(input(\"Digite a Corrente elétrica: \"))\n",
    "R = float(input(\"Digite a Resistência: \"))\n",
    "V = float(input(\"Digite a Tensão: \"))\n",
    "\n",
    "P1 = V*i\n",
    "P2 = R*i**2\n",
    "P3 = V**2/R\n",
    "\n",
    "if i==0:\n",
    "    print(f'A Potência é {P3}W')\n",
    "elif V==0:\n",
    "    print(f'A Potência é {P2}W')\n",
    "elif R==0:\n",
    "    print(f'A Potência é {P1}W')\n",
    "else:\n",
    "    print(f'A Potência é {P1}W')\n",
    "\n",
    "print(f'Corrente elétrica: {i}, Resistência: {R}, Tensão: {V}')"
   ]
  }
 ],
 "metadata": {
  "kernelspec": {
   "display_name": "Python 3",
   "language": "python",
   "name": "python3"
  },
  "language_info": {
   "codemirror_mode": {
    "name": "ipython",
    "version": 3
   },
   "file_extension": ".py",
   "mimetype": "text/x-python",
   "name": "python",
   "nbconvert_exporter": "python",
   "pygments_lexer": "ipython3",
   "version": "3.11.5"
  },
  "orig_nbformat": 4
 },
 "nbformat": 4,
 "nbformat_minor": 2
}
