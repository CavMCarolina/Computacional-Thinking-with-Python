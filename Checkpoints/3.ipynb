{
 "cells": [
  {
   "cell_type": "markdown",
   "metadata": {},
   "source": [
    "Crie um programa para ajudar a gerenciar as consultas em um hospital. O programa deve permitir que os funcionários do hospital cadastrem novos pacientes, agendem consultas, cancelem consultas e visualizem a lista de consultas para um determinado dia.\n",
    "\n",
    "O programa deve incluir funções como:\n",
    "\n",
    "- Cadastro de pacientes com informações básicas (nome, idade, número de telefone).\n",
    "- Agendamento de consultas com data e hora.\n",
    "- Verificação de disponibilidade para agendar uma nova consulta.\n",
    "- Cancelamento de consultas.\n",
    "- Visualização da lista de consultas para um dia específico.\n",
    "\n",
    "Além disso, você deve criar um algoritmo com funções, em especial, função def.\n",
    "Utilize estruturas inputs para usuários, estrutura de repetição e condição.\n",
    "\n",
    "Entregue o arquivo em python e mostre o que faz cada parte do código desenvolvido."
   ]
  },
  {
   "cell_type": "code",
   "execution_count": null,
   "metadata": {},
   "outputs": [],
   "source": [
    "pip install pandas"
   ]
  },
  {
   "cell_type": "code",
   "execution_count": 10,
   "metadata": {},
   "outputs": [],
   "source": [
    "import pandas as pd"
   ]
  },
  {
   "cell_type": "code",
   "execution_count": 17,
   "metadata": {},
   "outputs": [
    {
     "data": {
      "text/plain": [
       "(['Robson', 'Josefa', 'Carolina'],\n",
       " [12, 20, 18],\n",
       " ['1234-5678', '8765-4321', '1234-1235'])"
      ]
     },
     "execution_count": 17,
     "metadata": {},
     "output_type": "execute_result"
    }
   ],
   "source": [
    "# Cadastro de novo paciente:\n",
    "nomes = ['Robson', 'Josefa']\n",
    "idades = [12, 20]\n",
    "numeros = ['1234-5678', '8765-4321']\n",
    "\n",
    "def cadastro(nomes, idades, numeros):\n",
    "    nome = str(input(\"Insira o nome do paciente: \"))\n",
    "    idade = int(input(\"Insira a idade do paciente: \"))\n",
    "    numero = input(\"Insira o número de telefone do paciente: \")\n",
    "    nomes.append(nome)\n",
    "    idades.append(idade)\n",
    "    numeros.append(numero)\n",
    "    return nomes, idades, numeros\n",
    "\n",
    "cadastro(nomes, idades, numeros)"
   ]
  },
  {
   "cell_type": "code",
   "execution_count": 20,
   "metadata": {},
   "outputs": [
    {
     "name": "stdout",
     "output_type": "stream",
     "text": [
      "O exame não pode ser marcado nesse dia e horário. Por favor, tente novamente\n"
     ]
    },
    {
     "data": {
      "text/plain": [
       "(['12/10', '04/07', '12/00'], ['12:00', '08:30', '12:00'])"
      ]
     },
     "execution_count": 20,
     "metadata": {},
     "output_type": "execute_result"
    }
   ],
   "source": [
    "# Agendamento de consultas\n",
    "datas = ['12/10', '04/07']\n",
    "horarios = ['12:00', '08:30']\n",
    "\n",
    "def consulta():\n",
    "    data = input(\"Insira o dia e o mês no formato dd/mm\")\n",
    "    horario = input(\"Insira o horário no formato hh:mm\")\n",
    "    if  len(data) != 5 or len(horario) != 5:\n",
    "        print(\"Por favor, digite a data no formato dd/mm e a hora no hh:mm.\")\n",
    "        return consulta()\n",
    "    elif data not in datas:\n",
    "        datas.append(data)\n",
    "        horarios.append(horario)\n",
    "        return datas, horarios\n",
    "    elif data in datas and horario in horarios:\n",
    "        datas.append(data)\n",
    "        horarios.append(horario)\n",
    "        return datas, horarios\n",
    "    else:\n",
    "        print(\"O exame não pode ser marcado nesse dia e horário. Por favor, tente novamente\")\n",
    "        return consulta()\n",
    "\n",
    "consulta()"
   ]
  },
  {
   "cell_type": "code",
   "execution_count": 21,
   "metadata": {},
   "outputs": [
    {
     "data": {
      "text/html": [
       "<div>\n",
       "<style scoped>\n",
       "    .dataframe tbody tr th:only-of-type {\n",
       "        vertical-align: middle;\n",
       "    }\n",
       "\n",
       "    .dataframe tbody tr th {\n",
       "        vertical-align: top;\n",
       "    }\n",
       "\n",
       "    .dataframe thead th {\n",
       "        text-align: right;\n",
       "    }\n",
       "</style>\n",
       "<table border=\"1\" class=\"dataframe\">\n",
       "  <thead>\n",
       "    <tr style=\"text-align: right;\">\n",
       "      <th></th>\n",
       "      <th>Nome</th>\n",
       "      <th>Idade</th>\n",
       "      <th>Telefone</th>\n",
       "      <th>Data</th>\n",
       "      <th>Horários</th>\n",
       "    </tr>\n",
       "  </thead>\n",
       "  <tbody>\n",
       "    <tr>\n",
       "      <th>0</th>\n",
       "      <td>Robson</td>\n",
       "      <td>12</td>\n",
       "      <td>1234-5678</td>\n",
       "      <td>12/10</td>\n",
       "      <td>12:00</td>\n",
       "    </tr>\n",
       "    <tr>\n",
       "      <th>1</th>\n",
       "      <td>Josefa</td>\n",
       "      <td>20</td>\n",
       "      <td>8765-4321</td>\n",
       "      <td>04/07</td>\n",
       "      <td>08:30</td>\n",
       "    </tr>\n",
       "    <tr>\n",
       "      <th>2</th>\n",
       "      <td>Carolina</td>\n",
       "      <td>18</td>\n",
       "      <td>1234-1235</td>\n",
       "      <td>12/00</td>\n",
       "      <td>12:00</td>\n",
       "    </tr>\n",
       "  </tbody>\n",
       "</table>\n",
       "</div>"
      ],
      "text/plain": [
       "       Nome  Idade   Telefone   Data Horários\n",
       "0    Robson     12  1234-5678  12/10    12:00\n",
       "1    Josefa     20  8765-4321  04/07    08:30\n",
       "2  Carolina     18  1234-1235  12/00    12:00"
      ]
     },
     "execution_count": 21,
     "metadata": {},
     "output_type": "execute_result"
    }
   ],
   "source": [
    "pacientes = {'Nome': nomes,\n",
    "             'Idade': idades,\n",
    "             'Telefone': numeros,\n",
    "             'Data': datas,\n",
    "             'Horários': horarios}\n",
    "\n",
    "df = pd.DataFrame(pacientes)\n",
    "\n",
    "df"
   ]
  },
  {
   "cell_type": "code",
   "execution_count": 15,
   "metadata": {},
   "outputs": [
    {
     "data": {
      "text/plain": [
       "Nome         Carolina\n",
       "Idade              18\n",
       "Telefone    1234-1235\n",
       "Data            12/10\n",
       "Horários        04:00\n",
       "Name: 2, dtype: object"
      ]
     },
     "execution_count": 15,
     "metadata": {},
     "output_type": "execute_result"
    }
   ],
   "source": [
    "df.iloc[2]"
   ]
  },
  {
   "cell_type": "code",
   "execution_count": null,
   "metadata": {},
   "outputs": [],
   "source": [
    "# Cancelamento de consultas:"
   ]
  },
  {
   "cell_type": "code",
   "execution_count": null,
   "metadata": {},
   "outputs": [],
   "source": [
    "# Visualização da lista de consultas para um dia específicos:"
   ]
  }
 ],
 "metadata": {
  "kernelspec": {
   "display_name": "Python 3",
   "language": "python",
   "name": "python3"
  },
  "language_info": {
   "codemirror_mode": {
    "name": "ipython",
    "version": 3
   },
   "file_extension": ".py",
   "mimetype": "text/x-python",
   "name": "python",
   "nbconvert_exporter": "python",
   "pygments_lexer": "ipython3",
   "version": "3.11.6"
  }
 },
 "nbformat": 4,
 "nbformat_minor": 2
}
