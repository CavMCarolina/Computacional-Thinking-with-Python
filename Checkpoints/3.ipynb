{
 "cells": [
  {
   "cell_type": "markdown",
   "metadata": {},
   "source": [
    "Crie um programa para ajudar a gerenciar as consultas em um hospital. O programa deve permitir que os funcionários do hospital cadastrem novos pacientes, agendem consultas, cancelem consultas e visualizem a lista de consultas para um determinado dia.\n",
    "\n",
    "O programa deve incluir funções como:\n",
    "\n",
    "- Cadastro de pacientes com informações básicas (nome, idade, número de telefone).\n",
    "- Agendamento de consultas com data e hora.\n",
    "- Verificação de disponibilidade para agendar uma nova consulta.\n",
    "- Cancelamento de consultas.\n",
    "- Visualização da lista de consultas para um dia específico.\n",
    "\n",
    "Além disso, você deve criar um algoritmo com funções, em especial, função def.\n",
    "Utilize estruturas inputs para usuários, estrutura de repetição e condição.\n",
    "\n",
    "Entregue o arquivo em python e mostre o que faz cada parte do código desenvolvido."
   ]
  },
  {
   "cell_type": "code",
   "execution_count": null,
   "metadata": {},
   "outputs": [],
   "source": [
    "# Instalar pandas\n",
    "pip install pandas"
   ]
  },
  {
   "cell_type": "code",
   "execution_count": 1,
   "metadata": {},
   "outputs": [],
   "source": [
    "# Importar e abreviar nome\n",
    "import pandas as pd"
   ]
  },
  {
   "cell_type": "code",
   "execution_count": 42,
   "metadata": {},
   "outputs": [
    {
     "data": {
      "text/plain": [
       "(['Robson', 'Josefa', 'Marcelo', 'Cléber', 'Rita', 'Carolina'],\n",
       " [12, 20, 16, 45, 58, 31],\n",
       " ['1234-5678',\n",
       "  '8765-4321',\n",
       "  '1234-1235',\n",
       "  '7777-7777',\n",
       "  '9182-7364',\n",
       "  '5555-6666'])"
      ]
     },
     "execution_count": 42,
     "metadata": {},
     "output_type": "execute_result"
    }
   ],
   "source": [
    "# Cadastro de novo paciente:\n",
    "\n",
    "# Listas de pacientes fictícios já cadastrados\n",
    "nomes = ['Robson', 'Josefa', 'Marcelo', 'Cléber', 'Rita']\n",
    "idades = [12, 20, 16, 45, 58]\n",
    "numeros = ['1234-5678', '8765-4321', '1234-1235', '7777-7777', '9182-7364']\n",
    "\n",
    "# Função com inputs de nome, idade e telefone para cadastrar novos pacientes, adicionando-os às listas acima\n",
    "def cadastro(nomes, idades, numeros):\n",
    "    nome = str(input(\"Insira o nome do paciente: \"))\n",
    "    idade = int(input(\"Insira a idade do paciente: \"))\n",
    "    numero = input(\"Insira o número de telefone do paciente: \")\n",
    "    nomes.append(nome)\n",
    "    idades.append(idade)\n",
    "    numeros.append(numero)\n",
    "    return nomes, idades, numeros\n",
    "\n",
    "cadastro(nomes, idades, numeros)"
   ]
  },
  {
   "cell_type": "code",
   "execution_count": 46,
   "metadata": {},
   "outputs": [
    {
     "data": {
      "text/plain": [
       "(['12/10', '04/07', '12/10', '08/11', '12/08', '04/07'],\n",
       " ['12:00', '08:30', '14:00', '08:30', '16:00', '20:00'])"
      ]
     },
     "execution_count": 46,
     "metadata": {},
     "output_type": "execute_result"
    }
   ],
   "source": [
    "# Agendamento de consultas:\n",
    "\n",
    "# Listas com consultas fictícias já marcadas\n",
    "datas = ['12/10', '04/07', '12/10', '08/11', '12/08']\n",
    "horarios = ['12:00', '08:30', '14:00', '08:30', '16:00']\n",
    "\n",
    "\n",
    "# Função com input de data e hora para agendar uma nova consulta, se os inputs passarem da mini validação inicial, passarão para a verificação de disponibilidade.\n",
    "# Dessa forma, se já houverem consultas marcadas naquele dia e horário específicos não será possível realizar o agendamento e, se a dota e a hora estiverem livres, irá adicionar a nova consulta nas listas acima.\n",
    "def consulta():\n",
    "    data = input(\"Insira o dia e o mês no formato dd/mm\")\n",
    "    horario = input(\"Insira o horário no formato hh:mm\")\n",
    "    # Mini validação inicial:\n",
    "    if  len(data) != 5 or len(horario) != 5:\n",
    "        print(\"Por favor, digite a data no formato dd/mm e a hora no hh:mm.\")\n",
    "        return consulta()\n",
    "    # Verificação de disponibilidade:\n",
    "    elif data not in datas:\n",
    "        datas.append(data)\n",
    "        horarios.append(horario)\n",
    "        return datas, horarios\n",
    "    elif data in datas and horario not in horarios:\n",
    "        datas.append(data)\n",
    "        horarios.append(horario)\n",
    "        return datas, horarios\n",
    "    else:\n",
    "        print(\"O exame não pode ser marcado nesse dia e horário. Por favor, tente novamente\")\n",
    "        return consulta()\n",
    "\n",
    "consulta()"
   ]
  },
  {
   "cell_type": "code",
   "execution_count": 47,
   "metadata": {},
   "outputs": [
    {
     "data": {
      "text/html": [
       "<div>\n",
       "<style scoped>\n",
       "    .dataframe tbody tr th:only-of-type {\n",
       "        vertical-align: middle;\n",
       "    }\n",
       "\n",
       "    .dataframe tbody tr th {\n",
       "        vertical-align: top;\n",
       "    }\n",
       "\n",
       "    .dataframe thead th {\n",
       "        text-align: right;\n",
       "    }\n",
       "</style>\n",
       "<table border=\"1\" class=\"dataframe\">\n",
       "  <thead>\n",
       "    <tr style=\"text-align: right;\">\n",
       "      <th></th>\n",
       "      <th>Nome</th>\n",
       "      <th>Idade</th>\n",
       "      <th>Telefone</th>\n",
       "      <th>Data</th>\n",
       "      <th>Horários</th>\n",
       "    </tr>\n",
       "  </thead>\n",
       "  <tbody>\n",
       "    <tr>\n",
       "      <th>0</th>\n",
       "      <td>Robson</td>\n",
       "      <td>12</td>\n",
       "      <td>1234-5678</td>\n",
       "      <td>12/10</td>\n",
       "      <td>12:00</td>\n",
       "    </tr>\n",
       "    <tr>\n",
       "      <th>1</th>\n",
       "      <td>Josefa</td>\n",
       "      <td>20</td>\n",
       "      <td>8765-4321</td>\n",
       "      <td>04/07</td>\n",
       "      <td>08:30</td>\n",
       "    </tr>\n",
       "    <tr>\n",
       "      <th>2</th>\n",
       "      <td>Marcelo</td>\n",
       "      <td>16</td>\n",
       "      <td>1234-1235</td>\n",
       "      <td>12/10</td>\n",
       "      <td>14:00</td>\n",
       "    </tr>\n",
       "    <tr>\n",
       "      <th>3</th>\n",
       "      <td>Cléber</td>\n",
       "      <td>45</td>\n",
       "      <td>7777-7777</td>\n",
       "      <td>08/11</td>\n",
       "      <td>08:30</td>\n",
       "    </tr>\n",
       "    <tr>\n",
       "      <th>4</th>\n",
       "      <td>Rita</td>\n",
       "      <td>58</td>\n",
       "      <td>9182-7364</td>\n",
       "      <td>12/08</td>\n",
       "      <td>16:00</td>\n",
       "    </tr>\n",
       "    <tr>\n",
       "      <th>5</th>\n",
       "      <td>Carolina</td>\n",
       "      <td>31</td>\n",
       "      <td>5555-6666</td>\n",
       "      <td>04/07</td>\n",
       "      <td>20:00</td>\n",
       "    </tr>\n",
       "  </tbody>\n",
       "</table>\n",
       "</div>"
      ],
      "text/plain": [
       "       Nome  Idade   Telefone   Data Horários\n",
       "0    Robson     12  1234-5678  12/10    12:00\n",
       "1    Josefa     20  8765-4321  04/07    08:30\n",
       "2   Marcelo     16  1234-1235  12/10    14:00\n",
       "3    Cléber     45  7777-7777  08/11    08:30\n",
       "4      Rita     58  9182-7364  12/08    16:00\n",
       "5  Carolina     31  5555-6666  04/07    20:00"
      ]
     },
     "execution_count": 47,
     "metadata": {},
     "output_type": "execute_result"
    }
   ],
   "source": [
    "# Criação de um Data Frame com as listas anteriores\n",
    "pacientes = {'Nome': nomes,\n",
    "             'Idade': idades,\n",
    "             'Telefone': numeros,\n",
    "             'Data': datas,\n",
    "             'Horários': horarios}\n",
    "\n",
    "df = pd.DataFrame(pacientes)\n",
    "\n",
    "df"
   ]
  },
  {
   "cell_type": "code",
   "execution_count": 49,
   "metadata": {},
   "outputs": [
    {
     "data": {
      "text/html": [
       "<div>\n",
       "<style scoped>\n",
       "    .dataframe tbody tr th:only-of-type {\n",
       "        vertical-align: middle;\n",
       "    }\n",
       "\n",
       "    .dataframe tbody tr th {\n",
       "        vertical-align: top;\n",
       "    }\n",
       "\n",
       "    .dataframe thead th {\n",
       "        text-align: right;\n",
       "    }\n",
       "</style>\n",
       "<table border=\"1\" class=\"dataframe\">\n",
       "  <thead>\n",
       "    <tr style=\"text-align: right;\">\n",
       "      <th></th>\n",
       "      <th>Nome</th>\n",
       "      <th>Idade</th>\n",
       "      <th>Telefone</th>\n",
       "      <th>Data</th>\n",
       "      <th>Horários</th>\n",
       "    </tr>\n",
       "  </thead>\n",
       "  <tbody>\n",
       "    <tr>\n",
       "      <th>0</th>\n",
       "      <td>Robson</td>\n",
       "      <td>12</td>\n",
       "      <td>1234-5678</td>\n",
       "      <td>12/10</td>\n",
       "      <td>12:00</td>\n",
       "    </tr>\n",
       "    <tr>\n",
       "      <th>1</th>\n",
       "      <td>Josefa</td>\n",
       "      <td>20</td>\n",
       "      <td>8765-4321</td>\n",
       "      <td>04/07</td>\n",
       "      <td>08:30</td>\n",
       "    </tr>\n",
       "    <tr>\n",
       "      <th>3</th>\n",
       "      <td>Cléber</td>\n",
       "      <td>45</td>\n",
       "      <td>7777-7777</td>\n",
       "      <td>08/11</td>\n",
       "      <td>08:30</td>\n",
       "    </tr>\n",
       "    <tr>\n",
       "      <th>4</th>\n",
       "      <td>Rita</td>\n",
       "      <td>58</td>\n",
       "      <td>9182-7364</td>\n",
       "      <td>12/08</td>\n",
       "      <td>16:00</td>\n",
       "    </tr>\n",
       "    <tr>\n",
       "      <th>5</th>\n",
       "      <td>Carolina</td>\n",
       "      <td>31</td>\n",
       "      <td>5555-6666</td>\n",
       "      <td>04/07</td>\n",
       "      <td>20:00</td>\n",
       "    </tr>\n",
       "  </tbody>\n",
       "</table>\n",
       "</div>"
      ],
      "text/plain": [
       "       Nome  Idade   Telefone   Data Horários\n",
       "0    Robson     12  1234-5678  12/10    12:00\n",
       "1    Josefa     20  8765-4321  04/07    08:30\n",
       "3    Cléber     45  7777-7777  08/11    08:30\n",
       "4      Rita     58  9182-7364  12/08    16:00\n",
       "5  Carolina     31  5555-6666  04/07    20:00"
      ]
     },
     "execution_count": 49,
     "metadata": {},
     "output_type": "execute_result"
    }
   ],
   "source": [
    "# Cancelamento de consultas:\n",
    "\n",
    "# Input para saber qual paciente irá desmarcar a consulta \n",
    "cancelamento = input(\"Digite o nome do paciente que deseja desmarcar a consulta: \")\n",
    "\n",
    "# Função que remove a linha do paciente (se existir) de acordo com o índice\n",
    "def cancelar():\n",
    "    indice = 0\n",
    "    if cancelamento in nomes:\n",
    "        while indice < len(nomes):\n",
    "            remover = df['Nome'][indice]\n",
    "            if remover == cancelamento:\n",
    "                return df.drop(indice, axis='index')\n",
    "            indice += 1\n",
    "    else:\n",
    "        print(\"Não há nenhum paciente com esse nome\")\n",
    "            \n",
    "cancelar()"
   ]
  },
  {
   "cell_type": "code",
   "execution_count": 57,
   "metadata": {},
   "outputs": [
    {
     "name": "stdout",
     "output_type": "stream",
     "text": [
      "Para o dia 12/10, há consultas agendas para os horários: ['12:00', '14:00']\n"
     ]
    }
   ],
   "source": [
    "# Visualização da lista de consultas para um dia específico:\n",
    "\n",
    "# Input para saber qual dia o funcionário gostaria de visualizar as consultas\n",
    "consulta = input(\"Qual dia você gostaria de ver as consultas agendadas?\")\n",
    "\n",
    "coluna_consultas = []\n",
    "\n",
    "# Função que analisa as datas existentes na coluna do df e, quando o input do funcionário condizer com uma data, adiciona todos os horários daquele dia à lista 'coluna_consultas'.\n",
    "def lista():\n",
    "    indice = 0\n",
    "    if consulta in datas:\n",
    "        while indice < len(datas):\n",
    "            consultas = df['Data'][indice]\n",
    "            if consultas == consulta:\n",
    "                horario_consulta = df['Horários'][indice]\n",
    "                coluna_consultas.append(horario_consulta)\n",
    "            indice += 1\n",
    "        return coluna_consultas\n",
    "\n",
    "#  Portanto, se essa lista estiver vazia, significa que não há nada agendado para aquele dia\n",
    "if lista() != None:\n",
    "    print(f'Para o dia {consulta}, há consultas agendas para os horários: {coluna_consultas}')\n",
    "else:\n",
    "    print(\"Não há nada agendado nesse dia\")"
   ]
  }
 ],
 "metadata": {
  "kernelspec": {
   "display_name": "Python 3",
   "language": "python",
   "name": "python3"
  },
  "language_info": {
   "codemirror_mode": {
    "name": "ipython",
    "version": 3
   },
   "file_extension": ".py",
   "mimetype": "text/x-python",
   "name": "python",
   "nbconvert_exporter": "python",
   "pygments_lexer": "ipython3",
   "version": "3.11.6"
  }
 },
 "nbformat": 4,
 "nbformat_minor": 2
}
