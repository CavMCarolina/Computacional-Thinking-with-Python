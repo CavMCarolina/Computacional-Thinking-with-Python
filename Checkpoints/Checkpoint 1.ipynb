{
 "cells": [
  {
   "attachments": {},
   "cell_type": "markdown",
   "metadata": {},
   "source": [
    "# Installs"
   ]
  },
  {
   "cell_type": "code",
   "execution_count": null,
   "metadata": {},
   "outputs": [],
   "source": [
    "pip install pandas"
   ]
  },
  {
   "cell_type": "code",
   "execution_count": 2,
   "metadata": {},
   "outputs": [],
   "source": [
    "import pandas as pd"
   ]
  },
  {
   "cell_type": "code",
   "execution_count": null,
   "metadata": {},
   "outputs": [],
   "source": [
    "pip install numpy"
   ]
  },
  {
   "cell_type": "code",
   "execution_count": 3,
   "metadata": {},
   "outputs": [],
   "source": [
    "import numpy as np"
   ]
  },
  {
   "attachments": {},
   "cell_type": "markdown",
   "metadata": {},
   "source": [
    "# Exercício 1:"
   ]
  },
  {
   "cell_type": "code",
   "execution_count": 31,
   "metadata": {},
   "outputs": [
    {
     "name": "stdout",
     "output_type": "stream",
     "text": [
      "Tupla final: ('Chevrolet', 'Fiat', 'Volvo', 'Audi', 'Mercedez', 'Toyota', 'Mitsubishi', 'Ford')\n"
     ]
    }
   ],
   "source": [
    "marca_carros = ('Chevrolet', 'Fiat', 'Honda', 'Audi', 'Mercedez', 'Toyota')\n",
    "\n",
    "marca_carros = list(marca_carros)\n",
    "marca_carros.insert(2, 'Volvo')\n",
    "marca_carros.remove('Honda')\n",
    "\n",
    "marca_carros_modificadas = tuple(marca_carros)\n",
    "tupla_carros = marca_carros_modificadas + ('Mitsubishi', 'Ford')\n",
    "print(\"Tupla final:\", tupla_carros)"
   ]
  },
  {
   "attachments": {},
   "cell_type": "markdown",
   "metadata": {},
   "source": [
    "# Exercício 2:"
   ]
  },
  {
   "cell_type": "code",
   "execution_count": 16,
   "metadata": {},
   "outputs": [
    {
     "name": "stdout",
     "output_type": "stream",
     "text": [
      "Soma dos quadrados do meu RM: 164\n"
     ]
    }
   ],
   "source": [
    "rm = [5,5,2,9,2,5]\n",
    "\n",
    "def soma_quadrado():\n",
    "    quadrados = []\n",
    "    for n in rm:\n",
    "        quadrados.append(n**2)\n",
    "    \n",
    "    soma = sum(quadrados)\n",
    "    return soma\n",
    "\n",
    "print(\"Soma dos quadrados do meu RM:\", soma_quadrado())"
   ]
  },
  {
   "attachments": {},
   "cell_type": "markdown",
   "metadata": {},
   "source": [
    "# Exercício 3:"
   ]
  },
  {
   "cell_type": "code",
   "execution_count": 47,
   "metadata": {},
   "outputs": [
    {
     "name": "stdout",
     "output_type": "stream",
     "text": [
      "Carolina Machado\n"
     ]
    }
   ],
   "source": [
    "def nome_completo():\n",
    "    nome = str(input(\"Digite seu primeiro nome: \"))\n",
    "    sobrenome = str(input(\"Digite seu segundo nome: \"))\n",
    "    nome_novo = nome[0].upper() + nome[1:].lower()\n",
    "    sobrenome_novo = sobrenome[0].upper() +sobrenome[1:].lower()\n",
    "\n",
    "    # O print vai direto com a formatação certa, não é necessário juntar e colocar espaçamento\n",
    "    print(nome_novo, sobrenome_novo)\n",
    "\n",
    "nome_completo()"
   ]
  },
  {
   "attachments": {},
   "cell_type": "markdown",
   "metadata": {},
   "source": [
    "# Exercício 4:"
   ]
  },
  {
   "cell_type": "code",
   "execution_count": 29,
   "metadata": {},
   "outputs": [
    {
     "name": "stdout",
     "output_type": "stream",
     "text": [
      "Quantidade máxima de vendas: 2500\n",
      "Quantidade mínima de vendas: 832\n",
      "Soma das vendas: 9032\n",
      "Média das vendas: 1505.33\n"
     ]
    }
   ],
   "source": [
    "carros = ['Chevrolet', 'Fiat', 'Honda', 'Audi', 'Mercedez', 'Toyota']\n",
    "vendas = [2000, 1300, 2500, 900, 832, 1500]\n",
    "\n",
    "info = {'Carros': carros,\n",
    "        'Vendas': vendas}\n",
    "\n",
    "df = pd.DataFrame(info)\n",
    "\n",
    "def estatistica_vendas():\n",
    "    maximo = df['Vendas'].max()\n",
    "    minimo = df['Vendas'].min()\n",
    "    soma = df['Vendas'].sum()\n",
    "    media = df['Vendas'].mean()\n",
    "\n",
    "    return maximo, minimo, soma, media\n",
    "\n",
    "maximo, minimo, soma, media = estatistica_vendas()\n",
    "print(f'Quantidade máxima de vendas: {maximo}\\nQuantidade mínima de vendas: {minimo}\\nSoma das vendas: {soma}\\nMédia das vendas: {media :.2f}')"
   ]
  },
  {
   "attachments": {},
   "cell_type": "markdown",
   "metadata": {},
   "source": [
    "# Exercício 5:"
   ]
  },
  {
   "cell_type": "code",
   "execution_count": 31,
   "metadata": {},
   "outputs": [
    {
     "name": "stdout",
     "output_type": "stream",
     "text": [
      "A) Temperatura Média: 29.63\n",
      "B) Dia mais quente: 27\n",
      "C) Dias que a temperatura foi superior a 30 °C: [3, 11, 12, 13, 14, 15, 16, 17, 27, 28, 29, 30]\n",
      "D) Quantidade de dias que a temperatura foi maior que a média: 14\n"
     ]
    }
   ],
   "source": [
    "temperatura = (28,30,32,29,27,26,25,26,28,29,35,31,32,33,34,33,31,30,29,28,27,26,25,26,27,28,38,31,32,33)\n",
    "\n",
    "temperatura = pd.Series(temperatura)\n",
    "\n",
    "def estatistica_temperatura():\n",
    "    media = temperatura.mean()\n",
    "\n",
    "    for n in temperatura:\n",
    "        if n == max(temperatura):\n",
    "            mais_quente = temperatura.idxmax() + 1\n",
    "\n",
    "    # .items() ~> itera os indices e os valores\n",
    "    maior_que_30 = []\n",
    "    for i, n in temperatura.items():\n",
    "        if n > 30:\n",
    "            maior_que_30.append(i + 1)\n",
    "    \n",
    "    lista_maior_que_média = []\n",
    "    for n in temperatura:\n",
    "        if n > media:\n",
    "            lista_maior_que_média.append(n)\n",
    "            maior_que_média = len(lista_maior_que_média)\n",
    "\n",
    "\n",
    "    return media, mais_quente, maior_que_30, maior_que_média\n",
    "\n",
    "media, mais_quente, maior_que_30, maior_que_média = estatistica_temperatura()\n",
    "print(f'A) Temperatura Média: {media :.2f}\\nB) Dia mais quente: {mais_quente}\\nC) Dias que a temperatura foi superior a 30 °C: {maior_que_30}\\nD) Quantidade de dias que a temperatura foi maior que a média: {maior_que_média}')"
   ]
  },
  {
   "attachments": {},
   "cell_type": "markdown",
   "metadata": {},
   "source": [
    "# Exercício 6:"
   ]
  },
  {
   "cell_type": "code",
   "execution_count": 37,
   "metadata": {},
   "outputs": [
    {
     "name": "stdout",
     "output_type": "stream",
     "text": [
      "A) Total de precipitação pluviométrica em 2023: 1640\n",
      "B) Mês com maior precipitação: 1\n",
      "C) Média: 136.67\n",
      "D) Meses que a precipitação foi maior que 150mm: [1, 2, 3, 11, 12]\n",
      "E) Quantidade de meses que a precipitação foi menor que 100: 5\n"
     ]
    }
   ],
   "source": [
    "precipitacao = [270,210,160,120,80,50,40,50,80,140,190,250]\n",
    "\n",
    "def estatistica_precipitacao():\n",
    "    total = np.sum(precipitacao)\n",
    "    # argmax = idxmax no pandas\n",
    "    maior_precipitacao = np.argmax(precipitacao) + 1\n",
    "    media = np.mean(precipitacao)\n",
    "\n",
    "    # enumerate ~> está separando os índices dos valores igual o .items()\n",
    "    maior_que_150 = []\n",
    "    for i, n in enumerate(precipitacao):\n",
    "        if n > 150:\n",
    "            maior_que_150.append(i +1)\n",
    "\n",
    "    lista_menor_que_100 = []\n",
    "    for n in precipitacao:\n",
    "        if n < 100:\n",
    "            lista_menor_que_100.append(n)\n",
    "            menor_que_100 = len(lista_menor_que_100)\n",
    "\n",
    "    return total, maior_precipitacao, media, maior_que_150, menor_que_100\n",
    "\n",
    "total, maior_precipitacao, media, maior_que_150, menor_que_100 = estatistica_precipitacao()\n",
    "print(f'A) Total de precipitação pluviométrica em 2023: {total}\\nB) Mês com maior precipitação: {maior_precipitacao}\\nC) Média: {media :.2f}\\nD) Meses que a precipitação foi maior que 150mm: {maior_que_150}\\nE) Quantidade de meses que a precipitação foi menor que 100: {menor_que_100}')"
   ]
  }
 ],
 "metadata": {
  "kernelspec": {
   "display_name": "Python 3",
   "language": "python",
   "name": "python3"
  },
  "language_info": {
   "codemirror_mode": {
    "name": "ipython",
    "version": 3
   },
   "file_extension": ".py",
   "mimetype": "text/x-python",
   "name": "python",
   "nbconvert_exporter": "python",
   "pygments_lexer": "ipython3",
   "version": "3.12.0"
  },
  "orig_nbformat": 4
 },
 "nbformat": 4,
 "nbformat_minor": 2
}
