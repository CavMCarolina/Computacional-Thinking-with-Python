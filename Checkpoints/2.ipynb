{
 "cells": [
  {
   "cell_type": "markdown",
   "metadata": {},
   "source": [
    "# Exercício 1:"
   ]
  },
  {
   "cell_type": "code",
   "execution_count": 15,
   "metadata": {},
   "outputs": [
    {
     "name": "stdout",
     "output_type": "stream",
     "text": [
      "Os itens cuja multiplicação é maior que 100 são: \n",
      "\n",
      "Feijão\n",
      "Açúcar\n",
      "Arroz\n",
      "Café em Grãos\n"
     ]
    }
   ],
   "source": [
    "# Definir listas:\n",
    "itens = ['Feijão', 'Leite', 'Açúcar', 'Arroz', 'Azeitona', 'Café em Grãos']\n",
    "estoque = [50, 20, 30, 50, 30, 90]\n",
    "precos = [5, 2, 6, 10, 3, 3]\n",
    "\n",
    "# Mostrar a introdução antes da estrutura for, para não ficar repetindo.\n",
    "print(\"Os itens cuja multiplicação é maior que 100 são: \\n\")\n",
    "\n",
    "# De acordo com seus respectivos índices, multiplicar os elementos das listas estoque e precos até o final das listas. Se o resultado for maior que 100, mostrar quais são os itens que correspondem a essa multiplicação.\n",
    "for p in range(len(itens)):\n",
    "    produto = estoque[p] * precos[p]\n",
    "    if produto > 100:\n",
    "        print(itens[p])"
   ]
  },
  {
   "cell_type": "code",
   "execution_count": 21,
   "metadata": {},
   "outputs": [
    {
     "name": "stdout",
     "output_type": "stream",
     "text": [
      "Os itens cuja multiplicação é maior que 100 são: [('Feijão', '250.00'), ('Açúcar', '180.00'), ('Arroz', '500.00'), ('Café em Grãos', '270.00')]\n"
     ]
    }
   ],
   "source": [
    "# OUTRA FORMA DE FAZER -> lista em linha\n",
    "# Definir listas:\n",
    "itens = ['Feijão', 'Leite', 'Açúcar', 'Arroz', 'Azeitona', 'Café em Grãos']\n",
    "estoque = [50, 20, 30, 50, 30, 90]\n",
    "precos = [5, 2, 6, 10, 3, 3]\n",
    "\n",
    "# Criar uma lista chamada combine que tenha os itens e as multiplicações de estoque e preços relacionados com o índice das listas. Porém, nessa lista só serão adicionados os elementos no qual a multiplicação seja maior que 100.\n",
    "combine = [(a, \"%2.2f\" % (b * c)) for a, b, c in zip(itens, estoque, precos) if b *c > 100]\n",
    "\n",
    "# Mostrar a lista dos itens com a multiplicação maior que 100.\n",
    "print(\"Os itens cuja multiplicação é maior que 100 são:\", combine)"
   ]
  },
  {
   "cell_type": "markdown",
   "metadata": {},
   "source": [
    "# Exercício 2:"
   ]
  },
  {
   "cell_type": "code",
   "execution_count": null,
   "metadata": {},
   "outputs": [],
   "source": [
    "# Definir listas:\n",
    "nomes_corretos = [\"João Silva\", \"Maria Oliveira\", \"Pedro Santos\", \"Ana Souza\", \"Carlos Pereira\"]\n",
    "senhas_corretas = [\"senha123\", \"abc456\", \"qwerty\", \"admin123\", \"letmein\"]\n",
    "cpfs_corretos = [\"123.456.789-00\", \"987.654.321-00\", \"456.789.123-00\", \"321.654.987-00\", \"789.123.456-00\"]\n",
    "\n",
    "# Criação de 3 variáveis para o usuário colocar seus dados.\n",
    "nome = str(input(\"Digite seu nome\"))\n",
    "senha = str(input(\"Digite sua senha\"))\n",
    "cpf = str(input(\"Digite seu cpf\"))\n",
    "\n",
    "# Estruta for para analisar se os dados do usuário estão corretos ou não e printar o passe de acordo com o resultado (o passe só serve para não aparecer várias vezes o print)\n",
    "for n in range(len(nomes_corretos)):\n",
    "    if nome == nomes_corretos[n] and senha == senhas_corretas[n] and cpf == cpfs_corretos[n]:\n",
    "        passe = \"Acesso permitido\"\n",
    "        break\n",
    "    else:\n",
    "        passe =  \"Acesso negado\"\n",
    "print(passe)"
   ]
  },
  {
   "cell_type": "markdown",
   "metadata": {},
   "source": [
    "# Exercício 3:"
   ]
  },
  {
   "cell_type": "markdown",
   "metadata": {},
   "source": [
    "## A)"
   ]
  },
  {
   "cell_type": "code",
   "execution_count": 107,
   "metadata": {},
   "outputs": [
    {
     "name": "stdout",
     "output_type": "stream",
     "text": [
      "O total de vendas de cada produto é: [('A', 650), ('B', 815), ('C', 605), ('D', 1190), ('E', 950), ('F', 1080), ('G', 1195)]\n"
     ]
    }
   ],
   "source": [
    "# Definir listas:\n",
    "produtos = [\"A\", \"B\", \"C\", \"D\", \"E\", \"F\", \"G\"]\n",
    "vendas_janeiro = [150, 200, 100, 300, 250, 230, 250]\n",
    "vendas_fevereiro = [120, 180, 150, 280, 200, 210, 240]\n",
    "vendas_março = [200, 220, 170, 320, 250, 230, 315]\n",
    "vendas_abril = [180, 215, 185, 290, 250, 410, 390]\n",
    "\n",
    "# criar uma lista que relacione cada produto com o seu total de vendas.\n",
    "total_produtos = [(a, b + c + d + e) for a, b, c, d, e in zip(produtos, vendas_janeiro, vendas_fevereiro, vendas_março, vendas_abril)]\n",
    "\n",
    "# printar o total de vendas de cada produto\n",
    "print(\"O total de vendas de cada produto é:\", total_produtos)"
   ]
  },
  {
   "cell_type": "markdown",
   "metadata": {},
   "source": [
    "## B)"
   ]
  },
  {
   "cell_type": "code",
   "execution_count": 10,
   "metadata": {},
   "outputs": [
    {
     "name": "stdout",
     "output_type": "stream",
     "text": [
      "{'Janeiro': ('D', 300), 'Fevereiro': ('D', 280), 'Março': ('D', 320), 'Abril': ('F', 410)}\n"
     ]
    }
   ],
   "source": [
    "# Definir listas:\n",
    "produtos = [\"A\", \"B\", \"C\", \"D\", \"E\", \"F\", \"G\"]\n",
    "vendas_janeiro = [150, 200, 100, 300, 250, 230, 250]\n",
    "vendas_fevereiro = [120, 180, 150, 280, 200, 210, 240]\n",
    "vendas_março = [200, 220, 170, 320, 250, 230, 315]\n",
    "vendas_abril = [180, 215, 185, 290, 250, 410, 390]\n",
    "\n",
    "# Dicionário vazio para colocar os dados posteriormente\n",
    "resultado = {}\n",
    "\n",
    "# for = analisa todos os elementos de todas as posições das listas\n",
    "# ao achar o maior elemento das listas de vendas, relaciona a mesma posição ao produto. Isso é feito para todos os meses, assim, cada mês será o indíce do dicionário, tendo o produto que foi mais vendido e a quantidade de vendas dele.\n",
    "for p in range(len(produtos)):\n",
    "        if max(vendas_janeiro) == vendas_janeiro[p]:\n",
    "            resultado[\"Janeiro\"] = (produtos[p], vendas_janeiro[p])\n",
    "        if max(vendas_fevereiro) == vendas_fevereiro[p]:\n",
    "            resultado[\"Fevereiro\"] = (produtos[p], vendas_fevereiro[p])\n",
    "        if max(vendas_março) == vendas_março[p]:\n",
    "            resultado[\"Março\"] = (produtos[p], vendas_março[p])\n",
    "        if max(vendas_abril) == vendas_abril[p]:\n",
    "            resultado[\"Abril\"] = (produtos[p], vendas_abril[p])\n",
    "\n",
    "# Mostrar o produto mais vendido de cada mês e a quantidade de vendas dele\n",
    "print(resultado)"
   ]
  },
  {
   "cell_type": "markdown",
   "metadata": {},
   "source": [
    "## C)"
   ]
  },
  {
   "cell_type": "code",
   "execution_count": 20,
   "metadata": {},
   "outputs": [
    {
     "name": "stdout",
     "output_type": "stream",
     "text": [
      "O produto com maior crescimento percentual de vendas foi o ['C'], com aumento de 0.5 entre os meses de janeiro e fevereiro\n"
     ]
    }
   ],
   "source": [
    "# Definir listas:\n",
    "produtos = [\"A\", \"B\", \"C\", \"D\", \"E\", \"F\", \"G\"]\n",
    "vendas_janeiro = [150, 200, 100, 300, 250, 230, 250]\n",
    "vendas_fevereiro = [120, 180, 150, 280, 200, 210, 240]\n",
    "vendas_março = [200, 220, 170, 320, 250, 230, 315]\n",
    "vendas_abril = [180, 215, 185, 290, 250, 410, 390]\n",
    "\n",
    "# listas vazias\n",
    "crescimento = []\n",
    "produto = []\n",
    "\n",
    "# estrutura for para calcular o crescimento entre os meses de janeiro e fevereiro, adicionando-os na lista vazia 'crescimento'\n",
    "for p in range(len(produtos)):\n",
    "    crescimento_p = (vendas_fevereiro[p] - vendas_janeiro[p])/100\n",
    "    crescimento.append(crescimento_p)\n",
    "\n",
    "# Já que só tem um crescimento, não precisamos criar uma estrutura para analisar qual é o maior. Podemos simplesmente relacionar o produto com o único crescimento que foi maior que 0.\n",
    "for r in range(len(produtos)):\n",
    "    if crescimento[r] > 0:\n",
    "        produto.append(produtos[r])\n",
    "\n",
    "# print para mostrar qual foi o produto que teve maior crescimento e quanto foi esse crescimento\n",
    "print(f'O produto com maior crescimento percentual de vendas foi o {produto}, com aumento de {max(crescimento)} entre os meses de janeiro e fevereiro')"
   ]
  },
  {
   "cell_type": "code",
   "execution_count": 17,
   "metadata": {},
   "outputs": [
    {
     "name": "stdout",
     "output_type": "stream",
     "text": [
      "O produto com maior crescimento nas vendas de janeiro para fevereiro foi: [('C', 0.5)]\n"
     ]
    }
   ],
   "source": [
    "# OUTRA FORMA DE FAZER\n",
    "# Definir listas:\n",
    "produtos = [\"A\", \"B\", \"C\", \"D\", \"E\", \"F\", \"G\"]\n",
    "vendas_janeiro = [150, 200, 100, 300, 250, 230, 250]\n",
    "vendas_fevereiro = [120, 180, 150, 280, 200, 210, 240]\n",
    "vendas_março = [200, 220, 170, 320, 250, 230, 315]\n",
    "vendas_abril = [180, 215, 185, 290, 250, 410, 390]\n",
    "\n",
    "# Cria uma lista 'crescimento' com os produtos que tiveram um crescimento nas vendas de janeiro para fevereiro e seu valor\n",
    "crescimento = [(a, (c - b)/100) for a, c, b in zip(produtos, vendas_fevereiro, vendas_janeiro) if c - b > 0]\n",
    "\n",
    "# Como só tem um produto que teve crescimento, não é preciso analisar qual foi o maior crescimento, então podemos apenas mostrar o resultado\n",
    "print(\"O produto com maior crescimento percentual nas vendas de janeiro para fevereiro foi:\", crescimento)\n"
   ]
  },
  {
   "cell_type": "markdown",
   "metadata": {},
   "source": [
    "## D)"
   ]
  },
  {
   "cell_type": "code",
   "execution_count": 100,
   "metadata": {},
   "outputs": [
    {
     "name": "stdout",
     "output_type": "stream",
     "text": [
      "Os produtos que tiveram uma queda nas vendas de março para abril foram: ['A', 'B', 'D']\n"
     ]
    }
   ],
   "source": [
    "# Definir as listas:\n",
    "produtos = [\"A\", \"B\", \"C\", \"D\", \"E\", \"F\", \"G\"]\n",
    "vendas_janeiro = [150, 200, 100, 300, 250, 230, 250]\n",
    "vendas_fevereiro = [120, 180, 150, 280, 200, 210, 240]\n",
    "vendas_março = [200, 220, 170, 320, 250, 230, 315]\n",
    "vendas_abril = [180, 215, 185, 290, 250, 410, 390]\n",
    "\n",
    "# listas vazias para inserir dados depois.\n",
    "queda = []\n",
    "produto = []\n",
    "\n",
    "# estrutura for para calcular a queda de cada produto e adicionar na lista vazia 'queda'\n",
    "for p in range(len(produtos)):\n",
    "    queda_p = vendas_abril[p] - vendas_março[p]\n",
    "    queda.append(queda_p)\n",
    "\n",
    "# estrutura for para analisar se cada produto teve mesmo uma queda e, se tiver, adicionar na lista vazia 'produto'\n",
    "for r in range(len(produtos)):\n",
    "    if queda[r] < 0:\n",
    "        produto.append(produtos[r])\n",
    "\n",
    "# printar os produtos que tiveram queda de vendas entre março e abril\n",
    "print(f'Os produtos que tiveram uma queda nas vendas de março para abril foram: {produto}')"
   ]
  },
  {
   "cell_type": "code",
   "execution_count": 22,
   "metadata": {},
   "outputs": [
    {
     "name": "stdout",
     "output_type": "stream",
     "text": [
      "Os produtos que tiveram uma queda nas vendas de março para abril foram:  [('A', -20), ('B', -5), ('D', -30)]\n"
     ]
    }
   ],
   "source": [
    "# OUTRA FORMA DE FAZER\n",
    "# Definir as listas:\n",
    "produtos = [\"A\", \"B\", \"C\", \"D\", \"E\", \"F\", \"G\"]\n",
    "vendas_janeiro = [150, 200, 100, 300, 250, 230, 250]\n",
    "vendas_fevereiro = [120, 180, 150, 280, 200, 210, 240]\n",
    "vendas_março = [200, 220, 170, 320, 250, 230, 315]\n",
    "vendas_abril = [180, 215, 185, 290, 250, 410, 390]\n",
    "\n",
    "# Criar uma lista 'queda' com os produtos que tiveram uma queda de abril para março e mostrar o valor da queda\n",
    "queda = [(a, e - d) for a, e, d in zip(produtos, vendas_abril, vendas_março) if (e-d) < 0]\n",
    "\n",
    "# Mostrar a lista com os produtos e as quedas\n",
    "print(\"Os produtos que tiveram uma queda nas vendas de março para abril foram: \", queda)"
   ]
  }
 ],
 "metadata": {
  "kernelspec": {
   "display_name": "Python 3",
   "language": "python",
   "name": "python3"
  },
  "language_info": {
   "codemirror_mode": {
    "name": "ipython",
    "version": 3
   },
   "file_extension": ".py",
   "mimetype": "text/x-python",
   "name": "python",
   "nbconvert_exporter": "python",
   "pygments_lexer": "ipython3",
   "version": "3.11.6"
  }
 },
 "nbformat": 4,
 "nbformat_minor": 2
}
