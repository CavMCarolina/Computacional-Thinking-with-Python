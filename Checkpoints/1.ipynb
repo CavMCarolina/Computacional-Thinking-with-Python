{
 "cells": [
  {
   "cell_type": "code",
   "execution_count": 1,
   "metadata": {},
   "outputs": [
    {
     "name": "stdout",
     "output_type": "stream",
     "text": [
      "Quantidade de kWh consumida inválida. Por favor, tente novamente.\n"
     ]
    }
   ],
   "source": [
    "# Entrada de Dados:\n",
    "instalaçao = str(input(\"Digite o tipo de instalação\")).lower()\n",
    "kwh = float(input(\"Digite a quantidade de kWh consumida na sua instalação\"))\n",
    "\n",
    "r = [\"residência\", \"residencia\", \"residencial\", \"r\"]\n",
    "c= [\"comércio\", \"comercio\", \"comercial\", \"c\"]\n",
    "i = [\"indústria\", \"industria\", \"industrial\", \"i\"]\n",
    "\n",
    "# Estrutura Condicionais:\n",
    "if instalaçao in r:\n",
    "    if 0 < kwh <= 500:\n",
    "        print(f'O preço a ser pago é de R$', kwh * 0.5) # Cálculo do Preço / Exibição do Resultado:\n",
    "    elif kwh > 500:\n",
    "        print(f'O preço a ser pago é de R$', kwh*0.75)\n",
    "    else:\n",
    "        print(\"Quantidade de kWh consumida inválida. Por favor, tente novamente.\")\n",
    "elif instalaçao in c:\n",
    "    if 0 < kwh <= 1000:\n",
    "        print(f'O preço a ser pago é de R$', kwh * 0.65)\n",
    "    elif kwh > 1000:\n",
    "        print(f'O preço a ser pago é de R$', kwh * 0.7)\n",
    "    else:\n",
    "        print(\"Quantidade de kWh consumida inválida. Por favor, tente novamente.\")\n",
    "elif instalaçao in i:\n",
    "    if 0 < kwh <= 5000:\n",
    "        print(f'O preço a ser pago é de R$', kwh * 0.65)\n",
    "    elif kwh > 5000:\n",
    "        print(f'O preço a ser pago é de R$', kwh * 0.7)\n",
    "    else:\n",
    "        print(\"Quantidade de kWh consumida inválida. Por favor, tente novamente.\")\n",
    "else: # Tratamento de Entradas Inválidas:\n",
    "    print(\"Instalação inválida. Por favor, tente novamente\")"
   ]
  },
  {
   "cell_type": "code",
   "execution_count": 8,
   "metadata": {},
   "outputs": [
    {
     "name": "stdout",
     "output_type": "stream",
     "text": [
      "O preço a ser pago é de R$ 6000.0\n"
     ]
    }
   ],
   "source": [
    "# Entrada de Dados:\n",
    "instalaçao = str(input(\"Digite o tipo de instalação\")).lower()\n",
    "energia = float(input(\"Digite a quantidade de energia consumida na sua instalação\"))\n",
    "\n",
    "r = [\"residência\", \"residencia\", \"residencial\", \"r\"]\n",
    "c= [\"comércio\", \"comercio\", \"comercial\", \"c\"]\n",
    "i = [\"indústria\", \"industria\", \"industrial\", \"i\"]\n",
    "\n",
    "# Estrutura Condicionais:\n",
    "if instalaçao in r and (0 < energia <= 500):\n",
    "        # Cálculo do Preço / Exibição do Resultado:\n",
    "        print(f'O preço a ser pago é de R$', energia * 0.5) \n",
    "elif instalaçao in r and (energia > 500):\n",
    "        print(f'O preço a ser pago é de R$', energia * 0.75)\n",
    "elif instalaçao in c and (0 < energia <= 1000):\n",
    "        print(f'O preço a ser pago é de R$', energia * 0.65)\n",
    "elif instalaçao in c and (energia > 1000):\n",
    "        print(f'O preço a ser pago é de R$', energia * 0.7)\n",
    "elif instalaçao in i and (0 < energia <= 5000):\n",
    "        print(f'O preço a ser pago é de R$', energia * 0.65)\n",
    "elif instalaçao in i and (energia > 5000):\n",
    "        print(f'O preço a ser pago é de R$', energia * 0.7)\n",
    "# Tratamento de Entradas Inválidas:\n",
    "elif instalaçao not in r and instalaçao not in c and instalaçao not in i: \n",
    "       print(\"Instalação inválida. Por favor, tente novamente\")\n",
    "else:\n",
    "    print(\"Quantidade de energia consumida inválida. Por favor, tente novamente\")"
   ]
  }
 ],
 "metadata": {
  "kernelspec": {
   "display_name": "Python 3",
   "language": "python",
   "name": "python3"
  },
  "language_info": {
   "codemirror_mode": {
    "name": "ipython",
    "version": 3
   },
   "file_extension": ".py",
   "mimetype": "text/x-python",
   "name": "python",
   "nbconvert_exporter": "python",
   "pygments_lexer": "ipython3",
   "version": "3.11.4"
  },
  "orig_nbformat": 4
 },
 "nbformat": 4,
 "nbformat_minor": 2
}
