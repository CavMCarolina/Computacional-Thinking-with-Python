{
 "cells": [
  {
   "cell_type": "code",
   "execution_count": 2,
   "metadata": {},
   "outputs": [
    {
     "name": "stdout",
     "output_type": "stream",
     "text": [
      "2\n",
      "3\n",
      "4\n",
      "4\n",
      "6\n",
      "8\n",
      "6\n",
      "9\n",
      "12\n"
     ]
    }
   ],
   "source": [
    "lista1 =[1,2,3]\n",
    "lista2 = [2,3,4]\n",
    "\n",
    "# Multiplica cada valor da lista1 com todos os valores da lista2\n",
    "for x in lista1:\n",
    "    for y in lista2:\n",
    "        print(x*y)"
   ]
  },
  {
   "cell_type": "code",
   "execution_count": 10,
   "metadata": {},
   "outputs": [
    {
     "name": "stdout",
     "output_type": "stream",
     "text": [
      "2\n",
      "2\n",
      "4\n",
      "6\n",
      "6\n",
      "12\n"
     ]
    }
   ],
   "source": [
    "lista1 =[1,2,3]\n",
    "lista2 = [2,2,4]\n",
    "\n",
    "# Não calcula NADA para o elemento 2\n",
    "for x in lista1:\n",
    "    for y in lista2:\n",
    "        if x == y:\n",
    "            break\n",
    "        print(x*y)"
   ]
  },
  {
   "cell_type": "code",
   "execution_count": 11,
   "metadata": {},
   "outputs": [
    {
     "name": "stdout",
     "output_type": "stream",
     "text": [
      "2\n",
      "2\n",
      "4\n",
      "8\n",
      "6\n",
      "6\n",
      "12\n"
     ]
    }
   ],
   "source": [
    "lista1 =[1,2,3]\n",
    "lista2 = [2,2,4]\n",
    "\n",
    "# Calcula tudo que não for igual\n",
    "for x in lista1:\n",
    "    for y in lista2:\n",
    "        if x == y:\n",
    "            continue\n",
    "        print(x*y)"
   ]
  },
  {
   "cell_type": "code",
   "execution_count": 17,
   "metadata": {},
   "outputs": [
    {
     "name": "stdout",
     "output_type": "stream",
     "text": [
      "1\n",
      "2\n",
      "3\n",
      "2\n",
      "4\n",
      "6\n",
      "3\n",
      "6\n",
      "9\n"
     ]
    }
   ],
   "source": [
    "for x in range(1,4):\n",
    "    for y in range(1,4):\n",
    "        print(x*y)\n",
    "\n",
    "# 1 * 1, 1 * 2, 1 * 3, 1 * 4\n",
    "# 2 * 1, 2 * 2, 2 * 3, 2 * 4 ..."
   ]
  },
  {
   "cell_type": "code",
   "execution_count": 4,
   "metadata": {},
   "outputs": [
    {
     "name": "stdout",
     "output_type": "stream",
     "text": [
      "2\n",
      "6\n",
      "8\n",
      "10\n",
      "12\n",
      "14\n",
      "16\n",
      "18\n",
      "20\n",
      "3\n",
      "6\n",
      "12\n",
      "15\n",
      "18\n",
      "21\n",
      "24\n",
      "27\n",
      "30\n"
     ]
    }
   ],
   "source": [
    "for i in range(2,4):\n",
    "    for j in range(1,11):\n",
    "        if i == j:\n",
    "            continue \n",
    "        print(i*j)\n",
    "\n",
    "# 2 * 1, NÃO 2 * 2, 2 * 3 ....\n",
    "# 3 * 1, 3 * 2, NÃO 3 * 3, 3 * 4 .... "
   ]
  },
  {
   "cell_type": "code",
   "execution_count": 1,
   "metadata": {},
   "outputs": [
    {
     "name": "stdout",
     "output_type": "stream",
     "text": [
      "Mínimo: 10, Máximo: 20\n"
     ]
    }
   ],
   "source": [
    "numeros = [10 , 11, 15, 18, 20]\n",
    "\n",
    "min = min(numeros)\n",
    "max = max(numeros)\n",
    "\n",
    "print(f'Mínimo: {min}, Máximo: {max}')"
   ]
  },
  {
   "cell_type": "code",
   "execution_count": 2,
   "metadata": {},
   "outputs": [
    {
     "name": "stdout",
     "output_type": "stream",
     "text": [
      "Média: 14.8, Mediana: 15\n"
     ]
    }
   ],
   "source": [
    "from statistics import mean, median\n",
    "\n",
    "numeros = [10 , 11, 15, 18, 20]\n",
    "\n",
    "media = mean(numeros)\n",
    "mediana = median(numeros)\n",
    "\n",
    "print(f'Média: {media}, Mediana: {mediana}')"
   ]
  },
  {
   "cell_type": "code",
   "execution_count": 8,
   "metadata": {},
   "outputs": [
    {
     "name": "stdout",
     "output_type": "stream",
     "text": [
      "Len = 5\n",
      "Range: 1\n",
      "Range: 2\n",
      "Range: 3\n",
      "Range: 4\n",
      "Range: 5\n"
     ]
    }
   ],
   "source": [
    "# len != range\n",
    "\n",
    "print(f'Len = {len(numeros)}')\n",
    "for x in range(1,6):\n",
    "    print(f'Range: {x}')"
   ]
  },
  {
   "cell_type": "code",
   "execution_count": 9,
   "metadata": {},
   "outputs": [
    {
     "name": "stdout",
     "output_type": "stream",
     "text": [
      "1\n",
      "3\n",
      "5\n",
      "7\n",
      "9\n"
     ]
    }
   ],
   "source": [
    "# início, final, de quantos em quantos pula\n",
    "for x in range(1, 10, 2):\n",
    "    print(x)"
   ]
  },
  {
   "cell_type": "code",
   "execution_count": 10,
   "metadata": {},
   "outputs": [
    {
     "name": "stdout",
     "output_type": "stream",
     "text": [
      "74\n"
     ]
    }
   ],
   "source": [
    "numeros = [10, 11, 15, 18, 20]\n",
    "\n",
    "soma = sum(numeros)\n",
    "print(soma)"
   ]
  },
  {
   "cell_type": "code",
   "execution_count": 12,
   "metadata": {},
   "outputs": [
    {
     "data": {
      "text/plain": [
       "45"
      ]
     },
     "execution_count": 12,
     "metadata": {},
     "output_type": "execute_result"
    }
   ],
   "source": [
    "numeros[0] + numeros[4] + numeros[2]"
   ]
  },
  {
   "cell_type": "code",
   "execution_count": 13,
   "metadata": {},
   "outputs": [
    {
     "name": "stdout",
     "output_type": "stream",
     "text": [
      "-54\n"
     ]
    }
   ],
   "source": [
    "from functools import reduce # Reduz a lista para um único elemento\n",
    "from operator import sub\n",
    "\n",
    "numeros = [10, 11, 15, 18, 20]\n",
    "\n",
    "# [10 - 11 - 15 - 18 - 20] -> [-1 -15 - 18 -20] ... [-54]\n",
    "resultado = reduce(sub, numeros)\n",
    "print(resultado)"
   ]
  },
  {
   "cell_type": "code",
   "execution_count": 14,
   "metadata": {},
   "outputs": [
    {
     "name": "stdout",
     "output_type": "stream",
     "text": [
      "a1\n",
      "a2\n",
      "a3\n",
      "b1\n",
      "b2\n",
      "b3\n",
      "c1\n",
      "c2\n",
      "c3\n"
     ]
    }
   ],
   "source": [
    "for letra in 'abc':\n",
    "    for numero in '123':\n",
    "        print(letra + numero)"
   ]
  },
  {
   "cell_type": "code",
   "execution_count": 17,
   "metadata": {},
   "outputs": [
    {
     "name": "stdout",
     "output_type": "stream",
     "text": [
      "1\n",
      "4\n",
      "8\n"
     ]
    }
   ],
   "source": [
    "soma = 0\n",
    "\n",
    "for x in [1, 2, 3, 4]:\n",
    "    if x == 2:\n",
    "        continue\n",
    "    soma += x\n",
    "    print(soma)"
   ]
  },
  {
   "attachments": {},
   "cell_type": "markdown",
   "metadata": {},
   "source": [
    "# Exercício 1:"
   ]
  },
  {
   "cell_type": "code",
   "execution_count": 15,
   "metadata": {},
   "outputs": [
    {
     "name": "stdout",
     "output_type": "stream",
     "text": [
      "[('A', '2.25'), ('B', '1.60'), ('C', '1.30'), ('D', '2.70')]\n"
     ]
    }
   ],
   "source": [
    "# Primeira tentativa:\n",
    "notas = [7.5, 8, 6.5, 9]\n",
    "peso = [0.3, 0.2, 0.2, 0.3]\n",
    "aluno = [\"A\", \"B\", \"C\", \"D\"]\n",
    "\n",
    "combine = [\"%2.2f\" % (a * b) for a, b in zip(notas, peso)]\n",
    "\n",
    "media = list(zip(aluno, combine))\n",
    "print(media)"
   ]
  },
  {
   "cell_type": "code",
   "execution_count": 12,
   "metadata": {},
   "outputs": [
    {
     "name": "stdout",
     "output_type": "stream",
     "text": [
      "{'A': '2.25', 'B': '1.60', 'C': '1.30', 'D': '2.70'}\n"
     ]
    }
   ],
   "source": [
    "# Jeito do prof:\n",
    "\n",
    "notas = [7.5, 8, 6.5, 9]\n",
    "peso = [0.3, 0.2, 0.2, 0.3]\n",
    "aluno = [\"A\", \"B\", \"C\", \"D\"]\n",
    "\n",
    "lista = []\n",
    "\n",
    "# Multiplicar cada nota com cada peso e adicionar na lista\n",
    "for i in range(len(notas)):\n",
    "    resultado = notas[i] * peso[i]\n",
    "    lista.append(f'{resultado:2.2f}')\n",
    "\n",
    "# Criar um dicionário -> usar string \n",
    "resultado_final = {}\n",
    "\n",
    "# Relacionar cada aluno com cada resultado e colocar no dicionário\n",
    "for i in range(len(aluno)):\n",
    "    resultado_final[aluno[i]] = lista[i]\n",
    "print(resultado_final)"
   ]
  },
  {
   "cell_type": "code",
   "execution_count": 14,
   "metadata": {},
   "outputs": [
    {
     "name": "stdout",
     "output_type": "stream",
     "text": [
      "{'A': '2.25', 'B': '1.60', 'C': '1.30', 'D': '2.70'}\n"
     ]
    }
   ],
   "source": [
    "# Segunda tentativa:\n",
    "notas = [7.5, 8, 6.5, 9]\n",
    "peso = [0.3, 0.2, 0.2, 0.3]\n",
    "aluno = [\"A\", \"B\", \"C\", \"D\"]\n",
    "\n",
    "combine = [\"%2.2f\" % (a * b) for a, b in zip(notas, peso)] \n",
    "\n",
    "media = {}\n",
    "for a in range(len(aluno)):\n",
    "    media[aluno[a]] = combine[a]\n",
    "print(media)\n"
   ]
  },
  {
   "cell_type": "code",
   "execution_count": 19,
   "metadata": {},
   "outputs": [
    {
     "name": "stdout",
     "output_type": "stream",
     "text": [
      "A média é: 7.85\n"
     ]
    }
   ],
   "source": [
    "# Média de um aluno só\n",
    "notas = [7.5, 8, 6.5, 9]\n",
    "peso = [0.3, 0.2, 0.2, 0.3]\n",
    "\n",
    "combine = sum([a * b for a, b in zip(notas, peso)])\n",
    "print(f'A média é:{combine: 2.2f}')"
   ]
  },
  {
   "attachments": {},
   "cell_type": "markdown",
   "metadata": {},
   "source": [
    "# Exercício 2:"
   ]
  },
  {
   "cell_type": "code",
   "execution_count": 16,
   "metadata": {},
   "outputs": [
    {
     "name": "stdout",
     "output_type": "stream",
     "text": [
      "Sua senha é: ['a', '4', 'r']\n"
     ]
    }
   ],
   "source": [
    "# Tentativa - FALHA:\n",
    "limite = int(input(\"Digite o tamanho da sua senha: \"))\n",
    "\n",
    "senha = []\n",
    "tamanho = 0\n",
    "\n",
    "while tamanho < limite:\n",
    "    caracter = input(\"Digite o caracter que deseja adicionar\")\n",
    "    if caracter == str:\n",
    "        senha.append(caracter)\n",
    "        tamanho += 1\n",
    "    else:\n",
    "        senha.append(caracter)\n",
    "        tamanho += 1\n",
    "\n",
    "print(f'Sua senha é: {senha}')"
   ]
  },
  {
   "cell_type": "code",
   "execution_count": 5,
   "metadata": {},
   "outputs": [
    {
     "name": "stdout",
     "output_type": "stream",
     "text": [
      "A senha gerada é 8fug64as7f195i32o\n"
     ]
    }
   ],
   "source": [
    "# Jeito do prof:\n",
    "\n",
    "import random\n",
    "\n",
    "letras = input(\"Insira as letras para a senha: \")\n",
    "numeros = input(\"Insira os números para a senha: \")\n",
    "\n",
    "# join = junta tudo\n",
    "# random = embaralha\n",
    "# sample = pega as amostras do input\n",
    "senha = ''.join(random.sample(letras + numeros, len(letras +numeros)))\n",
    "print(f'A senha gerada é {senha}')"
   ]
  }
 ],
 "metadata": {
  "kernelspec": {
   "display_name": "Python 3",
   "language": "python",
   "name": "python3"
  },
  "language_info": {
   "codemirror_mode": {
    "name": "ipython",
    "version": 3
   },
   "file_extension": ".py",
   "mimetype": "text/x-python",
   "name": "python",
   "nbconvert_exporter": "python",
   "pygments_lexer": "ipython3",
   "version": "3.11.6"
  },
  "orig_nbformat": 4
 },
 "nbformat": 4,
 "nbformat_minor": 2
}
