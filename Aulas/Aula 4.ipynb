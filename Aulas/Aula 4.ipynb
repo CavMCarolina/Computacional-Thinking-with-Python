{
 "cells": [
  {
   "attachments": {},
   "cell_type": "markdown",
   "metadata": {},
   "source": [
    "# Acumuladores:"
   ]
  },
  {
   "cell_type": "code",
   "execution_count": 2,
   "metadata": {},
   "outputs": [],
   "source": [
    "x = 0\n",
    "x = x + 1\n",
    "x = 1"
   ]
  },
  {
   "cell_type": "code",
   "execution_count": 3,
   "metadata": {},
   "outputs": [
    {
     "name": "stdout",
     "output_type": "stream",
     "text": [
      "Valor par\n",
      "Valor par\n",
      "Valor par\n",
      "Valor par\n"
     ]
    }
   ],
   "source": [
    "x = [0,1,2,3,4,5,6]\n",
    "\n",
    "for matriz in x:\n",
    "    if matriz %2 == 0:\n",
    "        print(\"Valor par\")"
   ]
  },
  {
   "cell_type": "code",
   "execution_count": 38,
   "metadata": {},
   "outputs": [
    {
     "name": "stdout",
     "output_type": "stream",
     "text": [
      "Esses valores são pares 2\n",
      "Esses valores são pares 4\n",
      "Esses valores são pares 6\n",
      "Esses valores são pares 8\n",
      "Esses valores são pares 10\n"
     ]
    }
   ],
   "source": [
    "lista = [1,2,3,4,5,6,7,8,9,10]\n",
    "\n",
    "for x in lista:\n",
    "    if x %2 == 0:\n",
    "        print(f'Esses valores são pares {x}')"
   ]
  },
  {
   "attachments": {},
   "cell_type": "markdown",
   "metadata": {},
   "source": [
    "# Atribuição +=:"
   ]
  },
  {
   "cell_type": "code",
   "execution_count": 8,
   "metadata": {},
   "outputs": [
    {
     "name": "stdout",
     "output_type": "stream",
     "text": [
      "A soma dos números é 1\n",
      "A soma dos números é 3\n",
      "A soma dos números é 6\n"
     ]
    }
   ],
   "source": [
    "soma = 0\n",
    "\n",
    "for numero in range (1,4): # range(1,4) = 1 até 3 (para no 4)\n",
    "    soma += numero\n",
    "    print(f'A soma dos números é {soma}')"
   ]
  },
  {
   "cell_type": "code",
   "execution_count": 10,
   "metadata": {},
   "outputs": [],
   "source": [
    "# Primeira Iteração:\n",
    "soma = 0\n",
    "soma = soma + numero\n",
    "soma = 0 + 1 # soma = 0, numero = 1\n",
    "soma = 1\n",
    "\n",
    "# Segunda Iteração:\n",
    "soma = soma + numero\n",
    "soma = 1 + 2 # soma = 1, numero = 2\n",
    "soma = 3\n",
    "\n",
    "# Terceira Iteração:\n",
    "soma = soma + numero\n",
    "soma = 3 + 3 # soma = 3, numero = 3\n",
    "soma = 6"
   ]
  },
  {
   "attachments": {},
   "cell_type": "markdown",
   "metadata": {},
   "source": [
    "# Atribuição -=:"
   ]
  },
  {
   "cell_type": "code",
   "execution_count": 16,
   "metadata": {},
   "outputs": [
    {
     "name": "stdout",
     "output_type": "stream",
     "text": [
      "A subtração dos números é -1\n",
      "A subtração dos números é -3\n",
      "A subtração dos números é -6\n"
     ]
    }
   ],
   "source": [
    "sub = 0\n",
    "\n",
    "for numero in range (1,4): # range(1,4) = 1 até 3 (para no 4)\n",
    "    sub -= numero\n",
    "    print(f'A subtração dos números é {sub}')"
   ]
  },
  {
   "cell_type": "code",
   "execution_count": 13,
   "metadata": {},
   "outputs": [],
   "source": [
    "# Primeira Iteração:\n",
    "sub = 0\n",
    "sub = sub - numero\n",
    "sub = 0 - 1 # sub = 0, numero = 1\n",
    "sub = -1\n",
    "\n",
    "# Segunda Iteração:\n",
    "sub = sub + numero\n",
    "sub = -1 - 2 # sub = -1, numero = 2\n",
    "sub = -3\n",
    "\n",
    "# Terceira Iteração:\n",
    "sub = sub + numero\n",
    "sub = -3 - 3 # sub = -3, numero = 3\n",
    "sub = -6"
   ]
  },
  {
   "attachments": {},
   "cell_type": "markdown",
   "metadata": {},
   "source": [
    "# Atribuição *=:"
   ]
  },
  {
   "cell_type": "code",
   "execution_count": 17,
   "metadata": {},
   "outputs": [
    {
     "name": "stdout",
     "output_type": "stream",
     "text": [
      "A multiplicação dos números é 1\n",
      "A multiplicação dos números é 2\n",
      "A multiplicação dos números é 6\n"
     ]
    }
   ],
   "source": [
    "mult = 1\n",
    "\n",
    "for numero in range (1,4): # range(1,4) = 1 até 3 (para no 4)\n",
    "    mult *= numero\n",
    "    print(f'A multiplicação dos números é {mult}')"
   ]
  },
  {
   "cell_type": "code",
   "execution_count": 18,
   "metadata": {},
   "outputs": [],
   "source": [
    "# Primeira Iteração:\n",
    "mult = 1\n",
    "mult = mult * numero\n",
    "mult = 1 * 1\n",
    "mult = 1\n",
    "\n",
    "# Primeira Iteração:\n",
    "mult = mult * numero\n",
    "mult = 1 * 2\n",
    "mult = 2\n",
    "\n",
    "# Terceira Iteração:\n",
    "mult = mult * numero\n",
    "mult = 2 * 3\n",
    "mult = 6"
   ]
  },
  {
   "attachments": {},
   "cell_type": "markdown",
   "metadata": {},
   "source": [
    "# Atribuição /=:"
   ]
  },
  {
   "cell_type": "code",
   "execution_count": 21,
   "metadata": {},
   "outputs": [
    {
     "name": "stdout",
     "output_type": "stream",
     "text": [
      "A divisão dos números é 2.0\n",
      "A divisão dos números é 1.0\n",
      "A divisão dos números é 0.3333333333333333\n"
     ]
    }
   ],
   "source": [
    "div = 2\n",
    "\n",
    "for numero in range (1,4): # range(1,4) = 1 até 3 (para no 4)\n",
    "    div /= numero\n",
    "    print(f'A divisão dos números é {div}')"
   ]
  },
  {
   "cell_type": "code",
   "execution_count": 19,
   "metadata": {},
   "outputs": [],
   "source": [
    "# Primeira Iteração:\n",
    "div = 2\n",
    "div = div/numero\n",
    "div = 2/1\n",
    "div = 2\n",
    "\n",
    "# Primeira Iteração:\n",
    "div = div/numero\n",
    "div = 2/2\n",
    "div = 1\n",
    "\n",
    "# Terceira Iteração:\n",
    "div = div/numero\n",
    "div = 1/3\n",
    "div = 1/3"
   ]
  },
  {
   "attachments": {},
   "cell_type": "markdown",
   "metadata": {},
   "source": [
    "# Exercício 1:"
   ]
  },
  {
   "cell_type": "code",
   "execution_count": 30,
   "metadata": {},
   "outputs": [
    {
     "name": "stdout",
     "output_type": "stream",
     "text": [
      "A soma de todos os valores é 1\n",
      "A soma de todos os valores é 3\n",
      "A soma de todos os valores é 6\n",
      "A soma de todos os valores é 10\n",
      "A soma de todos os valores é 15\n",
      "A soma de todos os valores é 21\n",
      "A soma de todos os valores é 28\n",
      "A soma de todos os valores é 36\n",
      "A soma de todos os valores é 45\n",
      "A soma de todos os valores é 55\n",
      "A soma de todos os valores é 66\n",
      "A soma de todos os valores é 78\n",
      "A soma de todos os valores é 91\n",
      "A soma de todos os valores é 105\n",
      "A soma de todos os valores é 120\n",
      "A soma de todos os valores é 136\n",
      "A soma de todos os valores é 153\n",
      "A soma de todos os valores é 171\n",
      "A soma de todos os valores é 190\n",
      "A soma de todos os valores é 210\n",
      "A soma de todos os valores é 231\n",
      "A soma de todos os valores é 253\n",
      "A soma de todos os valores é 276\n",
      "A soma de todos os valores é 300\n",
      "A soma de todos os valores é 325\n",
      "A soma de todos os valores é 351\n",
      "A soma de todos os valores é 378\n",
      "A soma de todos os valores é 406\n",
      "A soma de todos os valores é 435\n",
      "A soma de todos os valores é 465\n",
      "A soma de todos os valores é 496\n",
      "A soma de todos os valores é 528\n",
      "A soma de todos os valores é 561\n",
      "A soma de todos os valores é 595\n",
      "A soma de todos os valores é 630\n",
      "A soma de todos os valores é 666\n",
      "A soma de todos os valores é 703\n",
      "A soma de todos os valores é 741\n",
      "A soma de todos os valores é 780\n",
      "A soma de todos os valores é 820\n",
      "A soma de todos os valores é 861\n",
      "A soma de todos os valores é 903\n",
      "A soma de todos os valores é 946\n",
      "A soma de todos os valores é 990\n",
      "A soma de todos os valores é 1035\n",
      "A soma de todos os valores é 1081\n",
      "A soma de todos os valores é 1128\n",
      "A soma de todos os valores é 1176\n",
      "A soma de todos os valores é 1225\n",
      "A soma de todos os valores é 1275\n",
      "A soma de todos os valores é 1326\n",
      "A soma de todos os valores é 1378\n",
      "A soma de todos os valores é 1431\n",
      "A soma de todos os valores é 1485\n",
      "A soma de todos os valores é 1540\n",
      "A soma de todos os valores é 1596\n",
      "A soma de todos os valores é 1653\n",
      "A soma de todos os valores é 1711\n",
      "A soma de todos os valores é 1770\n",
      "A soma de todos os valores é 1830\n",
      "A soma de todos os valores é 1891\n",
      "A soma de todos os valores é 1953\n",
      "A soma de todos os valores é 2016\n",
      "A soma de todos os valores é 2080\n",
      "A soma de todos os valores é 2145\n",
      "A soma de todos os valores é 2211\n",
      "A soma de todos os valores é 2278\n",
      "A soma de todos os valores é 2346\n",
      "A soma de todos os valores é 2415\n",
      "A soma de todos os valores é 2485\n",
      "A soma de todos os valores é 2556\n",
      "A soma de todos os valores é 2628\n",
      "A soma de todos os valores é 2701\n",
      "A soma de todos os valores é 2775\n",
      "A soma de todos os valores é 2850\n",
      "A soma de todos os valores é 2926\n",
      "A soma de todos os valores é 3003\n",
      "A soma de todos os valores é 3081\n",
      "A soma de todos os valores é 3160\n",
      "A soma de todos os valores é 3240\n",
      "A soma de todos os valores é 3321\n",
      "A soma de todos os valores é 3403\n",
      "A soma de todos os valores é 3486\n",
      "A soma de todos os valores é 3570\n",
      "A soma de todos os valores é 3655\n",
      "A soma de todos os valores é 3741\n",
      "A soma de todos os valores é 3828\n",
      "A soma de todos os valores é 3916\n",
      "A soma de todos os valores é 4005\n",
      "A soma de todos os valores é 4095\n",
      "A soma de todos os valores é 4186\n",
      "A soma de todos os valores é 4278\n",
      "A soma de todos os valores é 4371\n",
      "A soma de todos os valores é 4465\n",
      "A soma de todos os valores é 4560\n",
      "A soma de todos os valores é 4656\n",
      "A soma de todos os valores é 4753\n",
      "A soma de todos os valores é 4851\n",
      "A soma de todos os valores é 4950\n",
      "A soma de todos os valores é 5050\n"
     ]
    }
   ],
   "source": [
    "soma = 0\n",
    "\n",
    "for x in range(1,101):\n",
    "    soma += x\n",
    "    print(\"A soma de todos os valores é\", soma)"
   ]
  },
  {
   "attachments": {},
   "cell_type": "markdown",
   "metadata": {},
   "source": [
    "# Exercício 2:"
   ]
  },
  {
   "cell_type": "code",
   "execution_count": 52,
   "metadata": {},
   "outputs": [
    {
     "name": "stdout",
     "output_type": "stream",
     "text": [
      "Esses valores são pares: 2\n",
      "A soma dos valores pares é: 2\n",
      "Esses valores são pares: 4\n",
      "A soma dos valores pares é: 6\n",
      "Esses valores são pares: 6\n",
      "A soma dos valores pares é: 12\n",
      "Esses valores são pares: 8\n",
      "A soma dos valores pares é: 20\n",
      "Esses valores são pares: 10\n",
      "A soma dos valores pares é: 30\n",
      "Esses valores são pares: 12\n",
      "A soma dos valores pares é: 42\n",
      "Esses valores são pares: 14\n",
      "A soma dos valores pares é: 56\n",
      "Esses valores são pares: 16\n",
      "A soma dos valores pares é: 72\n",
      "Esses valores são pares: 18\n",
      "A soma dos valores pares é: 90\n",
      "Esses valores são pares: 20\n",
      "A soma dos valores pares é: 110\n",
      "Esses valores são pares: 22\n",
      "A soma dos valores pares é: 132\n",
      "Esses valores são pares: 24\n",
      "A soma dos valores pares é: 156\n",
      "Esses valores são pares: 26\n",
      "A soma dos valores pares é: 182\n",
      "Esses valores são pares: 28\n",
      "A soma dos valores pares é: 210\n",
      "Esses valores são pares: 30\n",
      "A soma dos valores pares é: 240\n",
      "Esses valores são pares: 32\n",
      "A soma dos valores pares é: 272\n",
      "Esses valores são pares: 34\n",
      "A soma dos valores pares é: 306\n",
      "Esses valores são pares: 36\n",
      "A soma dos valores pares é: 342\n",
      "Esses valores são pares: 38\n",
      "A soma dos valores pares é: 380\n",
      "Esses valores são pares: 40\n",
      "A soma dos valores pares é: 420\n",
      "Esses valores são pares: 42\n",
      "A soma dos valores pares é: 462\n",
      "Esses valores são pares: 44\n",
      "A soma dos valores pares é: 506\n",
      "Esses valores são pares: 46\n",
      "A soma dos valores pares é: 552\n",
      "Esses valores são pares: 48\n",
      "A soma dos valores pares é: 600\n",
      "Esses valores são pares: 50\n",
      "A soma dos valores pares é: 650\n"
     ]
    }
   ],
   "source": [
    "soma = 0\n",
    "\n",
    "for pares in range(1,51):\n",
    "    if pares %2 == 0:\n",
    "        print(\"Esses valores são pares:\", pares)\n",
    "        soma += pares\n",
    "        print(\"A soma dos valores pares é:\", soma)"
   ]
  },
  {
   "attachments": {},
   "cell_type": "markdown",
   "metadata": {},
   "source": [
    "# Exercício 3:"
   ]
  },
  {
   "cell_type": "code",
   "execution_count": 48,
   "metadata": {},
   "outputs": [
    {
     "name": "stdout",
     "output_type": "stream",
     "text": [
      "Esses números são ímpares 1\n",
      "A média dos números é\n",
      "Esses números são ímpares 3\n",
      "A média dos números é\n",
      "Esses números são ímpares 5\n",
      "A média dos números é\n",
      "Esses números são ímpares 7\n",
      "A média dos números é\n",
      "Esses números são ímpares 9\n",
      "A média dos números é\n",
      "Esses números são ímpares 11\n",
      "A média dos números é\n",
      "Esses números são ímpares 13\n",
      "A média dos números é\n",
      "Esses números são ímpares 15\n",
      "A média dos números é\n",
      "Esses números são ímpares 17\n",
      "A média dos números é\n",
      "Esses números são ímpares 19\n",
      "A média dos números é\n",
      "Esses números são ímpares 21\n",
      "A média dos números é\n",
      "Esses números são ímpares 23\n",
      "A média dos números é\n",
      "Esses números são ímpares 25\n",
      "A média dos números é\n",
      "Esses números são ímpares 27\n",
      "A média dos números é\n",
      "Esses números são ímpares 29\n",
      "A média dos números é\n",
      "Esses números são ímpares 31\n",
      "A média dos números é\n",
      "Esses números são ímpares 33\n",
      "A média dos números é\n",
      "Esses números são ímpares 35\n",
      "A média dos números é\n",
      "Esses números são ímpares 37\n",
      "A média dos números é\n",
      "Esses números são ímpares 39\n",
      "A média dos números é\n",
      "Esses números são ímpares 41\n",
      "A média dos números é\n",
      "Esses números são ímpares 43\n",
      "A média dos números é\n",
      "Esses números são ímpares 45\n",
      "A média dos números é\n",
      "Esses números são ímpares 47\n",
      "A média dos números é\n",
      "Esses números são ímpares 49\n",
      "A média dos números é\n"
     ]
    }
   ],
   "source": [
    "soma = 0\n",
    "lista = range(1,51)\n",
    "\n",
    "for ímpares in range(1,51):\n",
    "    if ímpares %2 != 0:\n",
    "        print(\"Esses números são ímpares\", ímpares)\n",
    "        soma += ímpares\n",
    "        print(\"A média dos números é\")"
   ]
  },
  {
   "cell_type": "code",
   "execution_count": 56,
   "metadata": {},
   "outputs": [
    {
     "name": "stdout",
     "output_type": "stream",
     "text": [
      "Retorna lista de valores ímpares [1, 3, 5, 7, 9, 11, 13, 15, 17, 19, 21, 23, 25, 27, 29, 31, 33, 35, 37, 39, 41, 43, 45, 47, 49]\n",
      "A média será 25.0\n"
     ]
    }
   ],
   "source": [
    "# Jeito do prof:\n",
    "\n",
    "lista_impar = []\n",
    "soma_impar = 0\n",
    "\n",
    "for x in range(1,51):\n",
    "    if x %2 != 0:\n",
    "        soma_impar += x\n",
    "        lista_impar.append(x) # Lista de valores ímpares\n",
    "print(f'Retorna lista de valores ímpares {lista_impar}')\n",
    "\n",
    "media = soma_impar/len(lista_impar)\n",
    "print('A média será', media)"
   ]
  },
  {
   "attachments": {},
   "cell_type": "markdown",
   "metadata": {},
   "source": [
    "# Exercício 4:"
   ]
  },
  {
   "cell_type": "code",
   "execution_count": null,
   "metadata": {},
   "outputs": [],
   "source": [
    "valores1 = float(input(\"Insira os valores\"))\n",
    "valores2 = float(input(\"Insira os valores\"))\n",
    "valores3 = float(input(\"Insira os valores\"))"
   ]
  }
 ],
 "metadata": {
  "kernelspec": {
   "display_name": "Python 3",
   "language": "python",
   "name": "python3"
  },
  "language_info": {
   "codemirror_mode": {
    "name": "ipython",
    "version": 3
   },
   "file_extension": ".py",
   "mimetype": "text/x-python",
   "name": "python",
   "nbconvert_exporter": "python",
   "pygments_lexer": "ipython3",
   "version": "3.11.4"
  },
  "orig_nbformat": 4
 },
 "nbformat": 4,
 "nbformat_minor": 2
}
