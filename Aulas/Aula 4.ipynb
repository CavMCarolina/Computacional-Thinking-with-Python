{
 "cells": [
  {
   "attachments": {},
   "cell_type": "markdown",
   "metadata": {},
   "source": [
    "# Acumuladores:"
   ]
  },
  {
   "cell_type": "code",
   "execution_count": 2,
   "metadata": {},
   "outputs": [],
   "source": [
    "x = 0\n",
    "x = x + 1\n",
    "x = 1"
   ]
  },
  {
   "cell_type": "code",
   "execution_count": 3,
   "metadata": {},
   "outputs": [
    {
     "name": "stdout",
     "output_type": "stream",
     "text": [
      "Valor par\n",
      "Valor par\n",
      "Valor par\n",
      "Valor par\n"
     ]
    }
   ],
   "source": [
    "x = [0,1,2,3,4,5,6]\n",
    "\n",
    "for matriz in x:\n",
    "    if matriz %2 == 0:\n",
    "        print(\"Valor par\")"
   ]
  },
  {
   "cell_type": "code",
   "execution_count": 38,
   "metadata": {},
   "outputs": [
    {
     "name": "stdout",
     "output_type": "stream",
     "text": [
      "Esses valores são pares 2\n",
      "Esses valores são pares 4\n",
      "Esses valores são pares 6\n",
      "Esses valores são pares 8\n",
      "Esses valores são pares 10\n"
     ]
    }
   ],
   "source": [
    "lista = [1,2,3,4,5,6,7,8,9,10]\n",
    "\n",
    "for x in lista:\n",
    "    if x %2 == 0:\n",
    "        print(f'Esses valores são pares {x}')"
   ]
  },
  {
   "attachments": {},
   "cell_type": "markdown",
   "metadata": {},
   "source": [
    "# Atribuição +=:"
   ]
  },
  {
   "cell_type": "code",
   "execution_count": 6,
   "metadata": {},
   "outputs": [
    {
     "name": "stdout",
     "output_type": "stream",
     "text": [
      "A soma dos números é 1\n",
      "A soma dos números é 3\n",
      "A soma dos números é 6\n"
     ]
    }
   ],
   "source": [
    "soma = 0\n",
    "\n",
    "for numero in range (1,4): # range(1,4) = 1 até 3 (para no 4)\n",
    "    soma += numero\n",
    "    print(f'A soma dos números é {soma}')"
   ]
  },
  {
   "cell_type": "code",
   "execution_count": 10,
   "metadata": {},
   "outputs": [],
   "source": [
    "# Primeira Iteração:\n",
    "soma = 0\n",
    "soma = soma + numero\n",
    "soma = 0 + 1 # soma = 0, numero = 1\n",
    "soma = 1\n",
    "\n",
    "# Segunda Iteração:\n",
    "soma = soma + numero\n",
    "soma = 1 + 2 # soma = 1, numero = 2\n",
    "soma = 3\n",
    "\n",
    "# Terceira Iteração:\n",
    "soma = soma + numero\n",
    "soma = 3 + 3 # soma = 3, numero = 3\n",
    "soma = 6"
   ]
  },
  {
   "attachments": {},
   "cell_type": "markdown",
   "metadata": {},
   "source": [
    "# Atribuição -=:"
   ]
  },
  {
   "cell_type": "code",
   "execution_count": 16,
   "metadata": {},
   "outputs": [
    {
     "name": "stdout",
     "output_type": "stream",
     "text": [
      "A subtração dos números é -1\n",
      "A subtração dos números é -3\n",
      "A subtração dos números é -6\n"
     ]
    }
   ],
   "source": [
    "sub = 0\n",
    "\n",
    "for numero in range (1,4): # range(1,4) = 1 até 3 (para no 4)\n",
    "    sub -= numero\n",
    "    print(f'A subtração dos números é {sub}')"
   ]
  },
  {
   "cell_type": "code",
   "execution_count": 13,
   "metadata": {},
   "outputs": [],
   "source": [
    "# Primeira Iteração:\n",
    "sub = 0\n",
    "sub = sub - numero\n",
    "sub = 0 - 1 # sub = 0, numero = 1\n",
    "sub = -1\n",
    "\n",
    "# Segunda Iteração:\n",
    "sub = sub + numero\n",
    "sub = -1 - 2 # sub = -1, numero = 2\n",
    "sub = -3\n",
    "\n",
    "# Terceira Iteração:\n",
    "sub = sub + numero\n",
    "sub = -3 - 3 # sub = -3, numero = 3\n",
    "sub = -6"
   ]
  },
  {
   "attachments": {},
   "cell_type": "markdown",
   "metadata": {},
   "source": [
    "# Atribuição *=:"
   ]
  },
  {
   "cell_type": "code",
   "execution_count": 17,
   "metadata": {},
   "outputs": [
    {
     "name": "stdout",
     "output_type": "stream",
     "text": [
      "A multiplicação dos números é 1\n",
      "A multiplicação dos números é 2\n",
      "A multiplicação dos números é 6\n"
     ]
    }
   ],
   "source": [
    "mult = 1\n",
    "\n",
    "for numero in range (1,4): # range(1,4) = 1 até 3 (para no 4)\n",
    "    mult *= numero\n",
    "    print(f'A multiplicação dos números é {mult}')"
   ]
  },
  {
   "cell_type": "code",
   "execution_count": 18,
   "metadata": {},
   "outputs": [],
   "source": [
    "# Primeira Iteração:\n",
    "mult = 1\n",
    "mult = mult * numero\n",
    "mult = 1 * 1\n",
    "mult = 1\n",
    "\n",
    "# Primeira Iteração:\n",
    "mult = mult * numero\n",
    "mult = 1 * 2\n",
    "mult = 2\n",
    "\n",
    "# Terceira Iteração:\n",
    "mult = mult * numero\n",
    "mult = 2 * 3\n",
    "mult = 6"
   ]
  },
  {
   "attachments": {},
   "cell_type": "markdown",
   "metadata": {},
   "source": [
    "# Atribuição /=:"
   ]
  },
  {
   "cell_type": "code",
   "execution_count": 21,
   "metadata": {},
   "outputs": [
    {
     "name": "stdout",
     "output_type": "stream",
     "text": [
      "A divisão dos números é 2.0\n",
      "A divisão dos números é 1.0\n",
      "A divisão dos números é 0.3333333333333333\n"
     ]
    }
   ],
   "source": [
    "div = 2\n",
    "\n",
    "for numero in range (1,4): # range(1,4) = 1 até 3 (para no 4)\n",
    "    div /= numero\n",
    "    print(f'A divisão dos números é {div}')"
   ]
  },
  {
   "cell_type": "code",
   "execution_count": 19,
   "metadata": {},
   "outputs": [],
   "source": [
    "# Primeira Iteração:\n",
    "div = 2\n",
    "div = div/numero\n",
    "div = 2/1\n",
    "div = 2\n",
    "\n",
    "# Primeira Iteração:\n",
    "div = div/numero\n",
    "div = 2/2\n",
    "div = 1\n",
    "\n",
    "# Terceira Iteração:\n",
    "div = div/numero\n",
    "div = 1/3\n",
    "div = 1/3"
   ]
  },
  {
   "attachments": {},
   "cell_type": "markdown",
   "metadata": {},
   "source": [
    "# Exercício 1:"
   ]
  },
  {
   "cell_type": "code",
   "execution_count": 3,
   "metadata": {},
   "outputs": [
    {
     "name": "stdout",
     "output_type": "stream",
     "text": [
      "A soma de todos os valores é 5050\n"
     ]
    }
   ],
   "source": [
    "soma = 0\n",
    "\n",
    "for x in range(1,101):\n",
    "    soma += x\n",
    "print(\"A soma de todos os valores é\", soma)"
   ]
  },
  {
   "attachments": {},
   "cell_type": "markdown",
   "metadata": {},
   "source": [
    "# Exercício 2:"
   ]
  },
  {
   "cell_type": "code",
   "execution_count": 11,
   "metadata": {},
   "outputs": [
    {
     "name": "stdout",
     "output_type": "stream",
     "text": [
      "Esses valores são pares: [2, 4, 6, 8, 10, 12, 14, 16, 18, 20, 22, 24, 26, 28, 30, 32, 34, 36, 38, 40, 42, 44, 46, 48, 50]\n",
      "A soma dos valores pares é: 650\n"
     ]
    }
   ],
   "source": [
    "pares = []\n",
    "soma = 0\n",
    "\n",
    "for numero in range(1,51):\n",
    "    if numero %2 == 0:\n",
    "        soma += numero\n",
    "        pares.append(numero)   \n",
    "print(\"Esses valores são pares:\", pares)\n",
    "print(\"A soma dos valores pares é:\", soma)"
   ]
  },
  {
   "attachments": {},
   "cell_type": "markdown",
   "metadata": {},
   "source": [
    "# Exercício 3:"
   ]
  },
  {
   "cell_type": "code",
   "execution_count": 56,
   "metadata": {},
   "outputs": [
    {
     "name": "stdout",
     "output_type": "stream",
     "text": [
      "Retorna lista de valores ímpares [1, 3, 5, 7, 9, 11, 13, 15, 17, 19, 21, 23, 25, 27, 29, 31, 33, 35, 37, 39, 41, 43, 45, 47, 49]\n",
      "A média será 25.0\n"
     ]
    }
   ],
   "source": [
    "# Jeito do prof:\n",
    "lista_impar = []\n",
    "soma_impar = 0\n",
    "\n",
    "for x in range(1,51):\n",
    "    if x %2 != 0:\n",
    "        soma_impar += x\n",
    "        lista_impar.append(x) # Lista de valores ímpares\n",
    "print(f'Retorna lista de valores ímpares {lista_impar}')\n",
    "\n",
    "media = soma_impar/len(lista_impar)\n",
    "print('A média será', media)"
   ]
  }
 ],
 "metadata": {
  "kernelspec": {
   "display_name": "Python 3",
   "language": "python",
   "name": "python3"
  },
  "language_info": {
   "codemirror_mode": {
    "name": "ipython",
    "version": 3
   },
   "file_extension": ".py",
   "mimetype": "text/x-python",
   "name": "python",
   "nbconvert_exporter": "python",
   "pygments_lexer": "ipython3",
   "version": "3.11.4"
  },
  "orig_nbformat": 4
 },
 "nbformat": 4,
 "nbformat_minor": 2
}
