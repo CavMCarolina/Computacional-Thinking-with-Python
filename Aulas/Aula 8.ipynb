{
 "cells": [
  {
   "attachments": {},
   "cell_type": "markdown",
   "metadata": {},
   "source": [
    "# Depuração Checkpoint 2:\n",
    "(Com o código do prof)"
   ]
  },
  {
   "attachments": {},
   "cell_type": "markdown",
   "metadata": {},
   "source": [
    "## Exercício 1:"
   ]
  },
  {
   "cell_type": "code",
   "execution_count": null,
   "metadata": {},
   "outputs": [],
   "source": [
    "itens = ['Milho', 'Feijão', 'Leite', 'Açúcar', 'Arroz', 'Azeitona', 'Café em Grãos']\n",
    "estoque = [20, 50, 20, 30, 50, 30, 90]\n",
    "precos = [5, 5, 2, 6, 10, 3, 3]\n",
    "\n",
    "for i in range(len(itens)):\n",
    "    total = estoque[i] * precos[i]\n",
    "    if total > 120:\n",
    "        print(f'Produto: {itens[i]}, Estoque: {estoque[i]}, Preço: R${precos[i]:.2f}, Total: R${total:.2f}')"
   ]
  },
  {
   "attachments": {},
   "cell_type": "markdown",
   "metadata": {},
   "source": [
    "## Exercício 2:"
   ]
  },
  {
   "cell_type": "code",
   "execution_count": null,
   "metadata": {},
   "outputs": [],
   "source": [
    "nomes_corretos = [\"João Silva\", \"Maria Oliveira\", \"Pedro Santos\", \"Ana Souza\", \"Carlos Pereira\"]\n",
    "senhas_corretas = [\"senha123\", \"abc456\", \"qwerty\", \"admin123\", \"letmein\"]\n",
    "cpfs_corretos = [\"123.456.789-00\", \"987.654.321-00\", \"456.789.123-00\", \"321.654.987-00\", \"789.123.456-00\"]\n",
    "\n",
    "nome = input(\"Digite seu nome: \")\n",
    "senha = input(\"Digite sua senha: \")\n",
    "cpf = input(\"Digite seu cpf: \")\n",
    "\n",
    "if nome in nomes_corretos and senha in senhas_corretas and cpf in cpfs_corretos:\n",
    "    print(\"Acesso permitido\")\n",
    "else:\n",
    "    print(\"Acesso negado\")\n",
    "\n",
    "combine = zip(nomes_corretos, senhas_corretas, cpfs_corretos)\n",
    "\n",
    "for nomes_corretos, senhas_corretas, cpfs_corretos in combine:\n",
    "    if senha == senhas_corretas and nome == nomes_corretos and cpf == cpfs_corretos:\n",
    "        print(f'Combinação correta para: \\nNome: {nome}, Senha: {senha}, CPF: {cpf}')"
   ]
  },
  {
   "attachments": {},
   "cell_type": "markdown",
   "metadata": {},
   "source": [
    "# Exemplos:"
   ]
  },
  {
   "cell_type": "code",
   "execution_count": null,
   "metadata": {},
   "outputs": [],
   "source": [
    "pip install pandas"
   ]
  },
  {
   "cell_type": "code",
   "execution_count": 1,
   "metadata": {},
   "outputs": [],
   "source": [
    "import pandas as pd"
   ]
  },
  {
   "cell_type": "code",
   "execution_count": 2,
   "metadata": {},
   "outputs": [
    {
     "name": "stdout",
     "output_type": "stream",
     "text": [
      "Nome     Alice\n",
      "Idade       25\n",
      "Name: 0, dtype: object\n",
      "Nome     Bob\n",
      "Idade     30\n",
      "Name: 1, dtype: object\n",
      "Nome     Charlie\n",
      "Idade         22\n",
      "Name: 2, dtype: object\n"
     ]
    }
   ],
   "source": [
    "data = {'Nome': ['Alice', \"Bob\", \"Charlie\"],\n",
    "        'Idade': [25, 30, 22]}\n",
    "\n",
    "df = pd.DataFrame(data)\n",
    "\n",
    "i = 0\n",
    "\n",
    "while i < len(df):\n",
    "    # iloc = seleciona a linha de acordo com o i\n",
    "    print(df.iloc[i])\n",
    "    i += 1"
   ]
  },
  {
   "cell_type": "code",
   "execution_count": 3,
   "metadata": {},
   "outputs": [
    {
     "data": {
      "text/html": [
       "<div>\n",
       "<style scoped>\n",
       "    .dataframe tbody tr th:only-of-type {\n",
       "        vertical-align: middle;\n",
       "    }\n",
       "\n",
       "    .dataframe tbody tr th {\n",
       "        vertical-align: top;\n",
       "    }\n",
       "\n",
       "    .dataframe thead th {\n",
       "        text-align: right;\n",
       "    }\n",
       "</style>\n",
       "<table border=\"1\" class=\"dataframe\">\n",
       "  <thead>\n",
       "    <tr style=\"text-align: right;\">\n",
       "      <th></th>\n",
       "      <th>Nome</th>\n",
       "      <th>Idade</th>\n",
       "      <th>Tipo Moradia</th>\n",
       "    </tr>\n",
       "  </thead>\n",
       "  <tbody>\n",
       "    <tr>\n",
       "      <th>0</th>\n",
       "      <td>Alice</td>\n",
       "      <td>25</td>\n",
       "      <td>Casa</td>\n",
       "    </tr>\n",
       "    <tr>\n",
       "      <th>1</th>\n",
       "      <td>Bob</td>\n",
       "      <td>30</td>\n",
       "      <td>Casa</td>\n",
       "    </tr>\n",
       "    <tr>\n",
       "      <th>2</th>\n",
       "      <td>Charlie</td>\n",
       "      <td>22</td>\n",
       "      <td>Apartamento</td>\n",
       "    </tr>\n",
       "  </tbody>\n",
       "</table>\n",
       "</div>"
      ],
      "text/plain": [
       "      Nome  Idade Tipo Moradia\n",
       "0    Alice     25         Casa\n",
       "1      Bob     30         Casa\n",
       "2  Charlie     22  Apartamento"
      ]
     },
     "execution_count": 3,
     "metadata": {},
     "output_type": "execute_result"
    }
   ],
   "source": [
    "tipo_moradia = []\n",
    "indice = 0\n",
    "\n",
    "while indice < len(df):\n",
    "    idade = df['Idade'][indice]\n",
    "    if idade > 22:\n",
    "        tipo_moradia.append('Casa')\n",
    "    else:\n",
    "        tipo_moradia.append('Apartamento')\n",
    "    indice += 1\n",
    "\n",
    "df['Tipo Moradia'] = tipo_moradia\n",
    "df"
   ]
  },
  {
   "cell_type": "code",
   "execution_count": 5,
   "metadata": {},
   "outputs": [
    {
     "data": {
      "text/html": [
       "<div>\n",
       "<style scoped>\n",
       "    .dataframe tbody tr th:only-of-type {\n",
       "        vertical-align: middle;\n",
       "    }\n",
       "\n",
       "    .dataframe tbody tr th {\n",
       "        vertical-align: top;\n",
       "    }\n",
       "\n",
       "    .dataframe thead th {\n",
       "        text-align: right;\n",
       "    }\n",
       "</style>\n",
       "<table border=\"1\" class=\"dataframe\">\n",
       "  <thead>\n",
       "    <tr style=\"text-align: right;\">\n",
       "      <th></th>\n",
       "      <th>Nome</th>\n",
       "      <th>Idade</th>\n",
       "      <th>País</th>\n",
       "      <th>COVID</th>\n",
       "    </tr>\n",
       "  </thead>\n",
       "  <tbody>\n",
       "    <tr>\n",
       "      <th>0</th>\n",
       "      <td>Alice</td>\n",
       "      <td>25</td>\n",
       "      <td>Brasil</td>\n",
       "      <td>Tem COVID</td>\n",
       "    </tr>\n",
       "    <tr>\n",
       "      <th>1</th>\n",
       "      <td>Bob</td>\n",
       "      <td>30</td>\n",
       "      <td>Inglaterra</td>\n",
       "      <td>Não tem COVID</td>\n",
       "    </tr>\n",
       "    <tr>\n",
       "      <th>2</th>\n",
       "      <td>Charlie</td>\n",
       "      <td>22</td>\n",
       "      <td>Estados Unidos</td>\n",
       "      <td>Não tem COVID</td>\n",
       "    </tr>\n",
       "    <tr>\n",
       "      <th>3</th>\n",
       "      <td>Lucca</td>\n",
       "      <td>22</td>\n",
       "      <td>Itália</td>\n",
       "      <td>Tem COVID</td>\n",
       "    </tr>\n",
       "    <tr>\n",
       "      <th>4</th>\n",
       "      <td>Ana</td>\n",
       "      <td>38</td>\n",
       "      <td>Austrália</td>\n",
       "      <td>Não tem COVID</td>\n",
       "    </tr>\n",
       "    <tr>\n",
       "      <th>5</th>\n",
       "      <td>Fernanda</td>\n",
       "      <td>35</td>\n",
       "      <td>México</td>\n",
       "      <td>Não tem COVID</td>\n",
       "    </tr>\n",
       "  </tbody>\n",
       "</table>\n",
       "</div>"
      ],
      "text/plain": [
       "       Nome  Idade            País          COVID\n",
       "0     Alice     25          Brasil      Tem COVID\n",
       "1       Bob     30      Inglaterra  Não tem COVID\n",
       "2   Charlie     22  Estados Unidos  Não tem COVID\n",
       "3     Lucca     22          Itália      Tem COVID\n",
       "4       Ana     38       Austrália  Não tem COVID\n",
       "5  Fernanda     35          México  Não tem COVID"
      ]
     },
     "execution_count": 5,
     "metadata": {},
     "output_type": "execute_result"
    }
   ],
   "source": [
    "data = {\n",
    "    'Nome': ['Alice', 'Bob', 'Charlie', 'Lucca', 'Ana', 'Fernanda'],\n",
    "    'Idade': [25, 30, 22, 22, 38, 35],\n",
    "    'País': ['Brasil', 'Inglaterra', 'Estados Unidos', 'Itália', 'Austrália', 'México']\n",
    "}\n",
    "\n",
    "df = pd.DataFrame(data)\n",
    "\n",
    "COVID = []\n",
    "indice = 0\n",
    "\n",
    "while indice < len(df):\n",
    "    doença = df['País'][indice]\n",
    "    if doença == 'Brasil' or doença == 'Itália':\n",
    "        COVID.append('Tem COVID')\n",
    "    else:\n",
    "        COVID.append('Não tem COVID')\n",
    "    indice += 1\n",
    "\n",
    "df['COVID'] = COVID\n",
    "df"
   ]
  },
  {
   "cell_type": "code",
   "execution_count": 13,
   "metadata": {},
   "outputs": [
    {
     "data": {
      "text/html": [
       "<div>\n",
       "<style scoped>\n",
       "    .dataframe tbody tr th:only-of-type {\n",
       "        vertical-align: middle;\n",
       "    }\n",
       "\n",
       "    .dataframe tbody tr th {\n",
       "        vertical-align: top;\n",
       "    }\n",
       "\n",
       "    .dataframe thead th {\n",
       "        text-align: right;\n",
       "    }\n",
       "</style>\n",
       "<table border=\"1\" class=\"dataframe\">\n",
       "  <thead>\n",
       "    <tr style=\"text-align: right;\">\n",
       "      <th></th>\n",
       "      <th>Nome</th>\n",
       "      <th>Idade</th>\n",
       "      <th>País</th>\n",
       "      <th>COVID</th>\n",
       "      <th>Vacina</th>\n",
       "      <th>Prioridade</th>\n",
       "    </tr>\n",
       "  </thead>\n",
       "  <tbody>\n",
       "    <tr>\n",
       "      <th>0</th>\n",
       "      <td>Alice</td>\n",
       "      <td>25</td>\n",
       "      <td>Brasil</td>\n",
       "      <td>Tem COVID</td>\n",
       "      <td>Não pode tomar vacina</td>\n",
       "      <td>Não pode tomar vacina</td>\n",
       "    </tr>\n",
       "    <tr>\n",
       "      <th>1</th>\n",
       "      <td>Bob</td>\n",
       "      <td>30</td>\n",
       "      <td>Inglaterra</td>\n",
       "      <td>Não tem COVID</td>\n",
       "      <td>Precisa tomar vacina</td>\n",
       "      <td>Baixa prioridade</td>\n",
       "    </tr>\n",
       "    <tr>\n",
       "      <th>2</th>\n",
       "      <td>Charlie</td>\n",
       "      <td>22</td>\n",
       "      <td>Estados Unidos</td>\n",
       "      <td>Não tem COVID</td>\n",
       "      <td>Precisa tomar vacina</td>\n",
       "      <td>Baixa prioridade</td>\n",
       "    </tr>\n",
       "    <tr>\n",
       "      <th>3</th>\n",
       "      <td>Lucca</td>\n",
       "      <td>22</td>\n",
       "      <td>Itália</td>\n",
       "      <td>Tem COVID</td>\n",
       "      <td>Não pode tomar vacina</td>\n",
       "      <td>Não pode tomar vacina</td>\n",
       "    </tr>\n",
       "    <tr>\n",
       "      <th>4</th>\n",
       "      <td>Ana</td>\n",
       "      <td>38</td>\n",
       "      <td>Austrália</td>\n",
       "      <td>Não tem COVID</td>\n",
       "      <td>Precisa tomar vacina</td>\n",
       "      <td>Alta prioridade</td>\n",
       "    </tr>\n",
       "    <tr>\n",
       "      <th>5</th>\n",
       "      <td>Fernanda</td>\n",
       "      <td>35</td>\n",
       "      <td>México</td>\n",
       "      <td>Não tem COVID</td>\n",
       "      <td>Precisa tomar vacina</td>\n",
       "      <td>Alta prioridade</td>\n",
       "    </tr>\n",
       "  </tbody>\n",
       "</table>\n",
       "</div>"
      ],
      "text/plain": [
       "       Nome  Idade            País          COVID                 Vacina  \\\n",
       "0     Alice     25          Brasil      Tem COVID  Não pode tomar vacina   \n",
       "1       Bob     30      Inglaterra  Não tem COVID   Precisa tomar vacina   \n",
       "2   Charlie     22  Estados Unidos  Não tem COVID   Precisa tomar vacina   \n",
       "3     Lucca     22          Itália      Tem COVID  Não pode tomar vacina   \n",
       "4       Ana     38       Austrália  Não tem COVID   Precisa tomar vacina   \n",
       "5  Fernanda     35          México  Não tem COVID   Precisa tomar vacina   \n",
       "\n",
       "              Prioridade  \n",
       "0  Não pode tomar vacina  \n",
       "1       Baixa prioridade  \n",
       "2       Baixa prioridade  \n",
       "3  Não pode tomar vacina  \n",
       "4        Alta prioridade  \n",
       "5        Alta prioridade  "
      ]
     },
     "execution_count": 13,
     "metadata": {},
     "output_type": "execute_result"
    }
   ],
   "source": [
    "Vacina = []\n",
    "Prioridade = []\n",
    "\n",
    "indice = 0\n",
    "\n",
    "while indice < len(df):\n",
    "    vacina = df['COVID'][indice]\n",
    "    if vacina == 'Não tem COVID':\n",
    "        Vacina.append('Precisa tomar vacina')\n",
    "        prioridade = df['Idade'][indice]\n",
    "        if prioridade >= 35:\n",
    "            Prioridade.append('Alta prioridade')\n",
    "        else:\n",
    "            Prioridade.append('Baixa prioridade')\n",
    "    else:\n",
    "        Vacina.append('Não pode tomar vacina')\n",
    "        Prioridade.append('Não pode tomar vacina')\n",
    "    indice += 1\n",
    "\n",
    "df['Vacina'] = Vacina\n",
    "df['Prioridade'] = Prioridade\n",
    "df"
   ]
  },
  {
   "cell_type": "code",
   "execution_count": 14,
   "metadata": {},
   "outputs": [],
   "source": [
    "df.to_csv('Aula 8.csv')"
   ]
  }
 ],
 "metadata": {
  "kernelspec": {
   "display_name": "Python 3",
   "language": "python",
   "name": "python3"
  },
  "language_info": {
   "codemirror_mode": {
    "name": "ipython",
    "version": 3
   },
   "file_extension": ".py",
   "mimetype": "text/x-python",
   "name": "python",
   "nbconvert_exporter": "python",
   "pygments_lexer": "ipython3",
   "version": "3.11.4"
  },
  "orig_nbformat": 4
 },
 "nbformat": 4,
 "nbformat_minor": 2
}
