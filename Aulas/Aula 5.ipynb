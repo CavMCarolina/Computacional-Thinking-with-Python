{
 "cells": [
  {
   "attachments": {},
   "cell_type": "markdown",
   "metadata": {},
   "source": [
    "# While - Contadores Numéricos:"
   ]
  },
  {
   "cell_type": "code",
   "execution_count": 4,
   "metadata": {},
   "outputs": [
    {
     "name": "stdout",
     "output_type": "stream",
     "text": [
      "2\n",
      "3\n",
      "4\n"
     ]
    }
   ],
   "source": [
    "# Exemplo 1:\n",
    "\n",
    "fim = int(input(\"Digite o último número a imprimir: \"))\n",
    "x = 1\n",
    "\n",
    "while x <= fim:\n",
    "    x = x + 1\n",
    "    print(x)"
   ]
  },
  {
   "cell_type": "code",
   "execution_count": 7,
   "metadata": {},
   "outputs": [
    {
     "name": "stdout",
     "output_type": "stream",
     "text": [
      "2\n",
      "3\n",
      "4\n"
     ]
    }
   ],
   "source": [
    "fim = int(input(\"Digite o último número a imprimir: \"))\n",
    "x = 1\n",
    "\n",
    "while x <= fim:\n",
    "    x += 1\n",
    "    print(x)"
   ]
  },
  {
   "cell_type": "code",
   "execution_count": 8,
   "metadata": {},
   "outputs": [
    {
     "name": "stdout",
     "output_type": "stream",
     "text": [
      "1\n",
      "2\n",
      "3\n",
      "4\n",
      "5\n",
      "6\n",
      "7\n",
      "8\n",
      "9\n",
      "10\n"
     ]
    }
   ],
   "source": [
    "# Exemplo 2:\n",
    "\n",
    "i = 1\n",
    "\n",
    "while i <= 10:\n",
    "    print(i)\n",
    "    i += 1 "
   ]
  },
  {
   "cell_type": "code",
   "execution_count": 9,
   "metadata": {},
   "outputs": [
    {
     "name": "stdout",
     "output_type": "stream",
     "text": [
      "50\n",
      "40\n",
      "30\n",
      "20\n",
      "10\n"
     ]
    }
   ],
   "source": [
    "# Exemplo 3:\n",
    "\n",
    "lista1 = [10, 20, 30, 40, 50]\n",
    "\n",
    "# Inverte, de trás para frente\n",
    "nova_lista = reversed(lista1) \n",
    "\n",
    "for x in nova_lista:\n",
    "    print(x)"
   ]
  },
  {
   "cell_type": "code",
   "execution_count": 15,
   "metadata": {},
   "outputs": [
    {
     "name": "stdout",
     "output_type": "stream",
     "text": [
      "10 30 50 70 90 "
     ]
    }
   ],
   "source": [
    "# Exemplo 4:\n",
    "\n",
    "minha_lista = [10, 20, 30, 40, 50, 60, 70, 80, 90, 100]\n",
    "\n",
    "# Começa da posição 0 e pula 1 (mostra o 2)\n",
    "for i in minha_lista[0::2]:  \n",
    "    print(i, end= \" \")"
   ]
  },
  {
   "cell_type": "code",
   "execution_count": 19,
   "metadata": {},
   "outputs": [
    {
     "name": "stdout",
     "output_type": "stream",
     "text": [
      "[0, 1, 2, 3, 4]\n"
     ]
    }
   ],
   "source": [
    "# Exemplo 5:\n",
    "\n",
    "minha_lista = []\n",
    "\n",
    "i = 0\n",
    "\n",
    "while len(minha_lista) < 10:\n",
    "    minha_lista.append(i) # acrescenta valor na lista\n",
    "    i += 1\n",
    "    if i == 5:\n",
    "        break # para antes do 5\n",
    "print(minha_lista)"
   ]
  },
  {
   "cell_type": "code",
   "execution_count": 21,
   "metadata": {},
   "outputs": [
    {
     "name": "stdout",
     "output_type": "stream",
     "text": [
      "115\n"
     ]
    }
   ],
   "source": [
    "# Exemplo 6:\n",
    "\n",
    "minha_lista = [23, 45, 12, 10, 25]\n",
    "\n",
    "i = 0\n",
    "soma = 0\n",
    "\n",
    "while i < len(minha_lista):\n",
    "    soma += minha_lista[i]\n",
    "    i += 1\n",
    "print(soma)"
   ]
  },
  {
   "cell_type": "code",
   "execution_count": 23,
   "metadata": {},
   "outputs": [
    {
     "name": "stdout",
     "output_type": "stream",
     "text": [
      "5 * 1 = 5\n",
      "5 * 2 = 10\n",
      "5 * 3 = 15\n",
      "5 * 4 = 20\n",
      "5 * 5 = 25\n",
      "5 * 6 = 30\n",
      "5 * 7 = 35\n",
      "5 * 8 = 40\n",
      "5 * 9 = 45\n"
     ]
    }
   ],
   "source": [
    "# Exemplo 7 - Tabuada:\n",
    "\n",
    "a= 5\n",
    "b = 1\n",
    "\n",
    "while b <= 9:\n",
    "    print(\"%d * %d = %d\" %(a, b, a*b))\n",
    "    b += 1"
   ]
  },
  {
   "attachments": {},
   "cell_type": "markdown",
   "metadata": {},
   "source": [
    "# Exercício 1 - Tabuada Personalizada:"
   ]
  },
  {
   "cell_type": "code",
   "execution_count": 26,
   "metadata": {},
   "outputs": [
    {
     "name": "stdout",
     "output_type": "stream",
     "text": [
      "0 * 5 = 0\n",
      "1 * 5 = 5\n",
      "2 * 5 = 10\n",
      "3 * 5 = 15\n",
      "4 * 5 = 20\n",
      "5 * 5 = 25\n",
      "6 * 5 = 30\n",
      "7 * 5 = 35\n",
      "8 * 5 = 40\n",
      "9 * 5 = 45\n",
      "10 * 5 = 50\n"
     ]
    }
   ],
   "source": [
    "multiplo = int(input(\"Digite um número para ser o múltiplo da sua tabuada: \"))\n",
    "variavel = int(input(\"Digite o número inicial para sua tabuada: \"))\n",
    "limite = int(input(\"Digite até que número irá sua tabuada: \"))\n",
    "\n",
    "while variavel <= limite:\n",
    "    print(\"%d * %d = %d\" %(variavel, multiplo, variavel*multiplo))\n",
    "    variavel += 1"
   ]
  },
  {
   "attachments": {},
   "cell_type": "markdown",
   "metadata": {},
   "source": [
    "# While - Contadores Textuais:"
   ]
  },
  {
   "cell_type": "code",
   "execution_count": 29,
   "metadata": {},
   "outputs": [
    {
     "name": "stdout",
     "output_type": "stream",
     "text": [
      "As letras são e\n",
      "As letras são n\n",
      "As letras são e\n",
      "As letras são n\n",
      "As letras são h\n",
      "As letras são r\n",
      "As letras são i\n",
      "As letras são  \n",
      "As letras são d\n",
      "As letras são e\n",
      "As letras são  \n",
      "As letras são s\n",
      "As letras são o\n",
      "As letras são f\n",
      "As letras são t\n",
      "As letras são w\n",
      "As letras são r\n",
      "As letras são e\n"
     ]
    }
   ],
   "source": [
    "# Exemplo 1:\n",
    "\n",
    "palavra = \"engenharia de software\"\n",
    "i = 0\n",
    "\n",
    "while i < len(palavra):\n",
    "    if palavra[i] == \"g\" or palavra [i] == \"a\":\n",
    "        i += 1       \n",
    "        continue\n",
    "    print(\"As letras são\", palavra[i])\n",
    "    i += 1"
   ]
  },
  {
   "attachments": {},
   "cell_type": "markdown",
   "metadata": {},
   "source": [
    "# Exercício 2 - Múltipla escolha:"
   ]
  },
  {
   "cell_type": "code",
   "execution_count": 42,
   "metadata": {},
   "outputs": [
    {
     "name": "stdout",
     "output_type": "stream",
     "text": [
      "Sua pontuação é 2. Foi por pouco!\n"
     ]
    }
   ],
   "source": [
    "# Primeira tentativa:\n",
    "q1 = str(input(\"Digite a aternativa da questão 1: \")).lower()\n",
    "q2 = str(input(\"Digite a aternativa da questão 2: \")).lower()\n",
    "q3 = str(input(\"Digite a aternativa da questão 3: \")).lower()\n",
    "\n",
    "respostas = [\"a\", \"b\", \"c\", \"d\", \"e\"]\n",
    "\n",
    "if q1 == \"b\" and q2 ==\"a\" and q3 == \"d\":\n",
    "    print(\"Sua pontuação é 3. Parabéns!\")\n",
    "elif q1 == \"b\" and q2 == \"a\" and q3 != \"d\" or q1 == \"b\" and q2 != \"a\" and q3 == \"d\" or q1 != \"b\" and q2 == \"a\" and q3 == \"d\":\n",
    "    print(\"Sua pontuação é 2. Foi por pouco!\")\n",
    "elif q1 == \"b\" and q2 != \"a\" and q3 != \"d\" or q1 != \"b\" and q2 != \"a\" and q3 == \"d\" or q1 != \"b\" and q2 == \"a\" and q3 != \"d\":\n",
    "    print(\"Sua pontuação é 1.\")\n",
    "elif q1 not in respostas or q2 not in respostas or q3 not in respostas:\n",
    "    print(\"Digite uma alternativa válida.\")\n",
    "else:\n",
    "    print(\"Sua pontuação é 0. Mais sorte da próxima vez\")"
   ]
  },
  {
   "cell_type": "code",
   "execution_count": 53,
   "metadata": {},
   "outputs": [
    {
     "name": "stdout",
     "output_type": "stream",
     "text": [
      "Sua pontuação é de 3\n"
     ]
    }
   ],
   "source": [
    "# Segunda tentativa:\n",
    "q1 = str(input(\"Digite a aternativa da questão 1: \")).lower()\n",
    "q2 = str(input(\"Digite a aternativa da questão 2: \")).lower()\n",
    "q3 = str(input(\"Digite a aternativa da questão 3: \")).lower()\n",
    "\n",
    "respostas = [\"a\", \"b\", \"c\", \"d\", \"e\"]\n",
    "p = 0\n",
    "\n",
    "if q1 in respostas and q2 in respostas and q3 in respostas:\n",
    "    if q1 == \"b\":\n",
    "        p += 1\n",
    "    if q2 == \"a\":\n",
    "        p += 1\n",
    "    if q3 == \"d\":\n",
    "        p += 1\n",
    "    print(\"Sua pontuação é de\", p)\n",
    "else:\n",
    "    print(\"Retorne uma alternativa válida\")\n"
   ]
  },
  {
   "cell_type": "code",
   "execution_count": 1,
   "metadata": {},
   "outputs": [
    {
     "name": "stdout",
     "output_type": "stream",
     "text": [
      "Sua pontuação é de 3\n"
     ]
    }
   ],
   "source": [
    "# Jeito do prof:\n",
    "respostas_corretas = [\"b\", \"a\", \"d\"]\n",
    "\n",
    "pontuaçao = 0\n",
    "questao_atual = 0\n",
    "\n",
    "while questao_atual < 3:\n",
    "    questao_atual += 1\n",
    "    resposta = input(\"Digite a alternativa da questão: \")\n",
    "    if resposta == respostas_corretas[questao_atual - 1]: # pega a posição da questão na lista de respostas corretas\n",
    "        pontuaçao += 1\n",
    "print(f'Sua pontuação é de', pontuaçao)"
   ]
  },
  {
   "attachments": {},
   "cell_type": "markdown",
   "metadata": {},
   "source": [
    "# Exercício 3 - Preço em função da instituição:"
   ]
  },
  {
   "cell_type": "code",
   "execution_count": 2,
   "metadata": {},
   "outputs": [
    {
     "name": "stdout",
     "output_type": "stream",
     "text": [
      "Quantidade de energia consumida inválida. Por favor, tente novamente\n",
      "O preço a ser pago é de R$ 250.0\n",
      "O preço a ser pago é de R$ 455.0\n",
      "O preço a ser pago é de R$ 4200.0\n"
     ]
    }
   ],
   "source": [
    "instalaçao = [\"r\", \"i\", \"c\"]\n",
    "instituiçoes = 0\n",
    "\n",
    "while instituiçoes < 3:\n",
    "    inst = str(input(\"Digite a sua instalação\")).lower()\n",
    "    if inst == instalaçao[instituiçoes]:\n",
    "        energia = float(input(\"Insira a quantidade de energia consumida em kWh\"))\n",
    "        if inst == \"r\" and (0 < energia <= 500):\n",
    "              print(f'O preço a ser pago é de R$', energia * 0.5)\n",
    "              instituiçoes += 1\n",
    "        elif inst == \"r\" and (energia > 500):\n",
    "              print(f'O preço a ser pago é de R$', energia * 0.75)\n",
    "              instituiçoes += 1\n",
    "        elif inst == \"i\" and (0 < energia <= 5000):\n",
    "              print(f'O preço a ser pago é de R$', energia * 0.65)\n",
    "              instituiçoes += 1\n",
    "        elif inst == \"i\" and (energia > 5000):\n",
    "              print(f'O preço a ser pago é de R$', energia * 0.7)\n",
    "              instituiçoes += 1\n",
    "        elif inst == \"c\" and (0 < energia <= 1000):\n",
    "              print(f'O preço a ser pago é de R$', energia * 0.65)\n",
    "              instituiçoes += 1\n",
    "        elif inst == \"c\" and (energia > 1000):\n",
    "              print(f'O preço a ser pago é de R$', energia * 0.7)\n",
    "              instituiçoes += 1\n",
    "        else:\n",
    "              print(\"Quantidade de energia consumida inválida. Por favor, tente novamente\")\n",
    "    elif inst not in instalaçao:\n",
    "              print(\"Instalação inválida. Por favor, tente novamente\")"
   ]
  }
 ],
 "metadata": {
  "kernelspec": {
   "display_name": "Python 3",
   "language": "python",
   "name": "python3"
  },
  "language_info": {
   "codemirror_mode": {
    "name": "ipython",
    "version": 3
   },
   "file_extension": ".py",
   "mimetype": "text/x-python",
   "name": "python",
   "nbconvert_exporter": "python",
   "pygments_lexer": "ipython3",
   "version": "3.11.5"
  },
  "orig_nbformat": 4
 },
 "nbformat": 4,
 "nbformat_minor": 2
}
