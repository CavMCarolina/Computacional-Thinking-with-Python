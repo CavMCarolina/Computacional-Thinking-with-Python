{
 "cells": [
  {
   "attachments": {},
   "cell_type": "markdown",
   "metadata": {},
   "source": [
    "# Installs:"
   ]
  },
  {
   "cell_type": "code",
   "execution_count": null,
   "metadata": {},
   "outputs": [],
   "source": [
    "pip install pandas"
   ]
  },
  {
   "cell_type": "code",
   "execution_count": 2,
   "metadata": {},
   "outputs": [],
   "source": [
    "import pandas as pd"
   ]
  },
  {
   "cell_type": "code",
   "execution_count": null,
   "metadata": {},
   "outputs": [],
   "source": [
    "pip install numpy"
   ]
  },
  {
   "cell_type": "code",
   "execution_count": 23,
   "metadata": {},
   "outputs": [],
   "source": [
    "import numpy as np"
   ]
  },
  {
   "attachments": {},
   "cell_type": "markdown",
   "metadata": {},
   "source": [
    "# Exercícios"
   ]
  },
  {
   "attachments": {},
   "cell_type": "markdown",
   "metadata": {},
   "source": [
    "## Exercício 1:"
   ]
  },
  {
   "cell_type": "code",
   "execution_count": 6,
   "metadata": {},
   "outputs": [
    {
     "data": {
      "text/plain": [
       "['Roraima',\n",
       " 'Minas Gerais',\n",
       " 'Bahia',\n",
       " 'Rio Grande do Sul',\n",
       " 'Acre',\n",
       " 'Brasília',\n",
       " 'São Paulo',\n",
       " 'Rio de Janeiro']"
      ]
     },
     "execution_count": 6,
     "metadata": {},
     "output_type": "execute_result"
    }
   ],
   "source": [
    "estados = (['Roraima', 'Minas Gerais', 'Bahia', 'Rio Grande do Sul', 'Acre', 'Brasília'])\n",
    "\n",
    "estados_brasil = estados + (['São Paulo', 'Rio de Janeiro'])\n",
    "estados_brasil"
   ]
  },
  {
   "attachments": {},
   "cell_type": "markdown",
   "metadata": {},
   "source": [
    "## Exercício 2:"
   ]
  },
  {
   "cell_type": "code",
   "execution_count": 13,
   "metadata": {},
   "outputs": [
    {
     "data": {
      "text/plain": [
       "125.5"
      ]
     },
     "execution_count": 13,
     "metadata": {},
     "output_type": "execute_result"
    }
   ],
   "source": [
    "def calculo():\n",
    "    x = float(input(\"Digite um valor para x: \"))\n",
    "    return 10**2 + 5*x - 2\n",
    "\n",
    "calculo()"
   ]
  },
  {
   "attachments": {},
   "cell_type": "markdown",
   "metadata": {},
   "source": [
    "## Exercício 3:"
   ]
  },
  {
   "cell_type": "code",
   "execution_count": 14,
   "metadata": {},
   "outputs": [
    {
     "name": "stdout",
     "output_type": "stream",
     "text": [
      "Equação 1: 148.0\n",
      "Equação 2: 10.0\n",
      "Equação 3: 808.0\n"
     ]
    }
   ],
   "source": [
    "def equacoes():\n",
    "    x = float(input(\"Digite um valor para x: \"))\n",
    "    equacao1 = 10**2 + 5*x - 2\n",
    "\n",
    "    m = float(input(\"Digite um valor para a massa: \"))\n",
    "    a = float(input(\"Digite um valor para a acelaração: \"))\n",
    "    equacao2 = m * a\n",
    "\n",
    "    y = float(input(\"Digite um valor para y: \"))\n",
    "    equacao3 = y**3 + 10 * y**2 - 5*y + 10\n",
    "\n",
    "    return equacao1, equacao2, equacao3\n",
    "\n",
    "equacao1, equacao2, equacao3 = equacoes()\n",
    "print(f'Equação 1: {equacao1}\\nEquação 2: {equacao2}\\nEquação 3: {equacao3}')"
   ]
  },
  {
   "attachments": {},
   "cell_type": "markdown",
   "metadata": {},
   "source": [
    "## Exercício 4:"
   ]
  },
  {
   "cell_type": "code",
   "execution_count": 26,
   "metadata": {},
   "outputs": [
    {
     "ename": "KeyError",
     "evalue": "250",
     "output_type": "error",
     "traceback": [
      "\u001b[1;31m---------------------------------------------------------------------------\u001b[0m",
      "\u001b[1;31mValueError\u001b[0m                                Traceback (most recent call last)",
      "File \u001b[1;32mc:\\Python311\\Lib\\site-packages\\pandas\\core\\indexes\\range.py:413\u001b[0m, in \u001b[0;36mRangeIndex.get_loc\u001b[1;34m(self, key)\u001b[0m\n\u001b[0;32m    412\u001b[0m \u001b[39mtry\u001b[39;00m:\n\u001b[1;32m--> 413\u001b[0m     \u001b[39mreturn\u001b[39;00m \u001b[39mself\u001b[39;49m\u001b[39m.\u001b[39;49m_range\u001b[39m.\u001b[39;49mindex(new_key)\n\u001b[0;32m    414\u001b[0m \u001b[39mexcept\u001b[39;00m \u001b[39mValueError\u001b[39;00m \u001b[39mas\u001b[39;00m err:\n",
      "\u001b[1;31mValueError\u001b[0m: 250 is not in range",
      "\nThe above exception was the direct cause of the following exception:\n",
      "\u001b[1;31mKeyError\u001b[0m                                  Traceback (most recent call last)",
      "Cell \u001b[1;32mIn[26], line 17\u001b[0m\n\u001b[0;32m     13\u001b[0m     media \u001b[39m=\u001b[39m df[\u001b[39m'\u001b[39m\u001b[39mPreços\u001b[39m\u001b[39m'\u001b[39m]\u001b[39m.\u001b[39mmean()\n\u001b[0;32m     15\u001b[0m     \u001b[39mreturn\u001b[39;00m mais_vendida, menos_vendida, soma, media\n\u001b[1;32m---> 17\u001b[0m mais_vendida, menos_vendida, soma, media \u001b[39m=\u001b[39m estatistica_vendas()\n\u001b[0;32m     18\u001b[0m \u001b[39mprint\u001b[39m(mais_vendida)\n\u001b[0;32m     19\u001b[0m \u001b[39m# print(f'Mais vendeu: {mais_vendida}\\nMenos vendeu: {menos_vendida}\\nSoma: {soma}\\nMédia: {media}')\u001b[39;00m\n",
      "Cell \u001b[1;32mIn[26], line 10\u001b[0m, in \u001b[0;36mestatistica_vendas\u001b[1;34m()\u001b[0m\n\u001b[0;32m      9\u001b[0m \u001b[39mdef\u001b[39;00m \u001b[39mestatistica_vendas\u001b[39m():\n\u001b[1;32m---> 10\u001b[0m     mais_vendida \u001b[39m=\u001b[39m df[\u001b[39m'\u001b[39;49m\u001b[39mFrutas\u001b[39;49m\u001b[39m'\u001b[39;49m][df[\u001b[39m'\u001b[39;49m\u001b[39mPreços\u001b[39;49m\u001b[39m'\u001b[39;49m]\u001b[39m.\u001b[39;49mmax()]\n\u001b[0;32m     11\u001b[0m     menos_vendida \u001b[39m=\u001b[39m df[\u001b[39m'\u001b[39m\u001b[39mFrutas\u001b[39m\u001b[39m'\u001b[39m][df[\u001b[39m'\u001b[39m\u001b[39mPreços\u001b[39m\u001b[39m'\u001b[39m]\u001b[39m.\u001b[39mmin()]\n\u001b[0;32m     12\u001b[0m     soma \u001b[39m=\u001b[39m df[\u001b[39m'\u001b[39m\u001b[39mPreços\u001b[39m\u001b[39m'\u001b[39m]\u001b[39m.\u001b[39msum()\n",
      "File \u001b[1;32mc:\\Python311\\Lib\\site-packages\\pandas\\core\\series.py:1112\u001b[0m, in \u001b[0;36mSeries.__getitem__\u001b[1;34m(self, key)\u001b[0m\n\u001b[0;32m   1109\u001b[0m     \u001b[39mreturn\u001b[39;00m \u001b[39mself\u001b[39m\u001b[39m.\u001b[39m_values[key]\n\u001b[0;32m   1111\u001b[0m \u001b[39melif\u001b[39;00m key_is_scalar:\n\u001b[1;32m-> 1112\u001b[0m     \u001b[39mreturn\u001b[39;00m \u001b[39mself\u001b[39;49m\u001b[39m.\u001b[39;49m_get_value(key)\n\u001b[0;32m   1114\u001b[0m \u001b[39m# Convert generator to list before going through hashable part\u001b[39;00m\n\u001b[0;32m   1115\u001b[0m \u001b[39m# (We will iterate through the generator there to check for slices)\u001b[39;00m\n\u001b[0;32m   1116\u001b[0m \u001b[39mif\u001b[39;00m is_iterator(key):\n",
      "File \u001b[1;32mc:\\Python311\\Lib\\site-packages\\pandas\\core\\series.py:1228\u001b[0m, in \u001b[0;36mSeries._get_value\u001b[1;34m(self, label, takeable)\u001b[0m\n\u001b[0;32m   1225\u001b[0m     \u001b[39mreturn\u001b[39;00m \u001b[39mself\u001b[39m\u001b[39m.\u001b[39m_values[label]\n\u001b[0;32m   1227\u001b[0m \u001b[39m# Similar to Index.get_value, but we do not fall back to positional\u001b[39;00m\n\u001b[1;32m-> 1228\u001b[0m loc \u001b[39m=\u001b[39m \u001b[39mself\u001b[39;49m\u001b[39m.\u001b[39;49mindex\u001b[39m.\u001b[39;49mget_loc(label)\n\u001b[0;32m   1230\u001b[0m \u001b[39mif\u001b[39;00m is_integer(loc):\n\u001b[0;32m   1231\u001b[0m     \u001b[39mreturn\u001b[39;00m \u001b[39mself\u001b[39m\u001b[39m.\u001b[39m_values[loc]\n",
      "File \u001b[1;32mc:\\Python311\\Lib\\site-packages\\pandas\\core\\indexes\\range.py:415\u001b[0m, in \u001b[0;36mRangeIndex.get_loc\u001b[1;34m(self, key)\u001b[0m\n\u001b[0;32m    413\u001b[0m         \u001b[39mreturn\u001b[39;00m \u001b[39mself\u001b[39m\u001b[39m.\u001b[39m_range\u001b[39m.\u001b[39mindex(new_key)\n\u001b[0;32m    414\u001b[0m     \u001b[39mexcept\u001b[39;00m \u001b[39mValueError\u001b[39;00m \u001b[39mas\u001b[39;00m err:\n\u001b[1;32m--> 415\u001b[0m         \u001b[39mraise\u001b[39;00m \u001b[39mKeyError\u001b[39;00m(key) \u001b[39mfrom\u001b[39;00m \u001b[39merr\u001b[39;00m\n\u001b[0;32m    416\u001b[0m \u001b[39mif\u001b[39;00m \u001b[39misinstance\u001b[39m(key, Hashable):\n\u001b[0;32m    417\u001b[0m     \u001b[39mraise\u001b[39;00m \u001b[39mKeyError\u001b[39;00m(key)\n",
      "\u001b[1;31mKeyError\u001b[0m: 250"
     ]
    }
   ],
   "source": [
    "frutas = ['banana', 'maçã', 'pera', 'melancia', 'morango', 'melão']\n",
    "precos = [100, 150, 120, 40, 250, 53]\n",
    "\n",
    "vendas = {'Frutas': frutas,\n",
    "          'Preços': precos}\n",
    "\n",
    "df = pd.DataFrame(vendas)\n",
    "\n",
    "def estatistica_vendas():\n",
    "    mais_vendida = df.loc[df['Preços'].idxmin()]['Frutas']\n",
    "    menos_vendida = df['Frutas'][df['Preços'].min()]\n",
    "    soma = df['Preços'].sum()\n",
    "    media = df['Preços'].mean()\n",
    "\n",
    "    return mais_vendida, menos_vendida, soma, media\n",
    "\n",
    "mais_vendida, menos_vendida, soma, media = estatistica_vendas()\n",
    "print(mais_vendida)\n",
    "# print(f'Mais vendeu: {mais_vendida}\\nMenos vendeu: {menos_vendida}\\nSoma: {soma}\\nMédia: {media}')\n",
    "    "
   ]
  },
  {
   "cell_type": "code",
   "execution_count": 39,
   "metadata": {},
   "outputs": [
    {
     "name": "stdout",
     "output_type": "stream",
     "text": [
      "250\n"
     ]
    }
   ],
   "source": [
    "for preco in precos:\n",
    "    if preco == max(precos):\n",
    "        print(frutas[preco.index])"
   ]
  },
  {
   "cell_type": "code",
   "execution_count": 40,
   "metadata": {},
   "outputs": [
    {
     "data": {
      "text/plain": [
       "100"
      ]
     },
     "execution_count": 40,
     "metadata": {},
     "output_type": "execute_result"
    }
   ],
   "source": [
    "df['Preços'][0]"
   ]
  },
  {
   "attachments": {},
   "cell_type": "markdown",
   "metadata": {},
   "source": [
    "## Exercício 5:"
   ]
  },
  {
   "cell_type": "code",
   "execution_count": 24,
   "metadata": {},
   "outputs": [
    {
     "data": {
      "text/plain": [
       "array([['Janeiro', 'Fevereiro', 'Março', 'Abril', 'Maio', 'Junho',\n",
       "        'Julho', 'Agosto', 'Setembro', 'Outubro', 'Novembro', 'Dezembro'],\n",
       "       ['3.5', '3.55', '3.48', '3.6', '3.65', '3.7', '3.68', '3.75',\n",
       "        '3.8', '3.78', '3.85', '3.9']], dtype='<U32')"
      ]
     },
     "execution_count": 24,
     "metadata": {},
     "output_type": "execute_result"
    }
   ],
   "source": [
    "meses = ['Janeiro', 'Fevereiro', 'Março', 'Abril', 'Maio', 'Junho', 'Julho', 'Agosto', 'Setembro', 'Outubro', 'Novembro', 'Dezembro']\n",
    "precos = [3.5, 3.55, 3.48, 3.6, 3.65, 3.7, 3.68, 3.75, 3.8, 3.78, 3.85, 3.9]\n",
    "\n",
    "array = np.array([meses, precos])\n",
    "array"
   ]
  }
 ],
 "metadata": {
  "kernelspec": {
   "display_name": "Python 3",
   "language": "python",
   "name": "python3"
  },
  "language_info": {
   "codemirror_mode": {
    "name": "ipython",
    "version": 3
   },
   "file_extension": ".py",
   "mimetype": "text/x-python",
   "name": "python",
   "nbconvert_exporter": "python",
   "pygments_lexer": "ipython3",
   "version": "3.11.4"
  },
  "orig_nbformat": 4
 },
 "nbformat": 4,
 "nbformat_minor": 2
}
