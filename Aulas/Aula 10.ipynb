{
 "cells": [
  {
   "attachments": {},
   "cell_type": "markdown",
   "metadata": {},
   "source": [
    "# Funções:\n",
    "\n",
    "1- Toda função precisa de um def e return\n",
    "\n",
    "2- Aceitam parâmentros (opcionais)\n",
    "\n",
    "3- Depois de criar a função, fazer a documentação dela como comentário: quais são as variáveis, o que ela faz\n",
    "\n",
    "4- Chamar a função embaixo"
   ]
  },
  {
   "attachments": {},
   "cell_type": "markdown",
   "metadata": {},
   "source": [
    "## Exemplos:"
   ]
  },
  {
   "attachments": {},
   "cell_type": "markdown",
   "metadata": {},
   "source": [
    "### Exemplo 1:"
   ]
  },
  {
   "cell_type": "code",
   "execution_count": 13,
   "metadata": {},
   "outputs": [
    {
     "name": "stdout",
     "output_type": "stream",
     "text": [
      "3\n"
     ]
    }
   ],
   "source": [
    "def soma(a, b):\n",
    "    # Essa função vai realizar a soma de a e b, sendo a = 1 e b = 2\n",
    "    soma= a + b\n",
    "    return soma\n",
    "print(soma(1, 2))"
   ]
  },
  {
   "cell_type": "code",
   "execution_count": 14,
   "metadata": {},
   "outputs": [
    {
     "data": {
      "text/plain": [
       "3"
      ]
     },
     "execution_count": 14,
     "metadata": {},
     "output_type": "execute_result"
    }
   ],
   "source": [
    "# OU\n",
    "\n",
    "def soma(a, b):\n",
    "    # Essa função vai realizar a soma de a e b, sendo a = 1 e b = 2\n",
    "    return a + b\n",
    "soma(1, 2)"
   ]
  },
  {
   "attachments": {},
   "cell_type": "markdown",
   "metadata": {},
   "source": [
    "### Exemplo 2:"
   ]
  },
  {
   "cell_type": "code",
   "execution_count": 15,
   "metadata": {},
   "outputs": [
    {
     "data": {
      "text/plain": [
       "3"
      ]
     },
     "execution_count": 15,
     "metadata": {},
     "output_type": "execute_result"
    }
   ],
   "source": [
    "def sub(a,b):\n",
    "    # Essa função vai realizar a subtração de a e b, sendo a = 5 e b = 2\n",
    "    return a-b\n",
    "sub(5,2)"
   ]
  },
  {
   "attachments": {},
   "cell_type": "markdown",
   "metadata": {},
   "source": [
    "### Exemplo 3:"
   ]
  },
  {
   "cell_type": "code",
   "execution_count": 17,
   "metadata": {},
   "outputs": [
    {
     "data": {
      "text/plain": [
       "12"
      ]
     },
     "execution_count": 17,
     "metadata": {},
     "output_type": "execute_result"
    }
   ],
   "source": [
    "def mult(a,b):\n",
    "    # Essa função vai realizar a multiplicação de a e b, sendo a = 3 e b = 4\n",
    "    return a*b\n",
    "mult(3,4)"
   ]
  },
  {
   "attachments": {},
   "cell_type": "markdown",
   "metadata": {},
   "source": [
    "### Exemplo 4:"
   ]
  },
  {
   "cell_type": "code",
   "execution_count": 18,
   "metadata": {},
   "outputs": [
    {
     "data": {
      "text/plain": [
       "3.0"
      ]
     },
     "execution_count": 18,
     "metadata": {},
     "output_type": "execute_result"
    }
   ],
   "source": [
    "def div(a,b):\n",
    "    # Essa função vai realizar a divisão de a e b, sendo a = 24 e b = 8\n",
    "    return a/b\n",
    "div(24,8)"
   ]
  },
  {
   "attachments": {},
   "cell_type": "markdown",
   "metadata": {},
   "source": [
    "### Exemplo 5:"
   ]
  },
  {
   "cell_type": "code",
   "execution_count": 19,
   "metadata": {},
   "outputs": [
    {
     "data": {
      "text/plain": [
       "9.0"
      ]
     },
     "execution_count": 19,
     "metadata": {},
     "output_type": "execute_result"
    }
   ],
   "source": [
    "def area_quadrado(lado):\n",
    "    area = lado**2\n",
    "    return area\n",
    "\n",
    "lado = float(input(\"Insira o valor do lado do quadrado: \"))\n",
    "\n",
    "area_quadrado(lado)"
   ]
  },
  {
   "attachments": {},
   "cell_type": "markdown",
   "metadata": {},
   "source": [
    "### Exemplo 6:"
   ]
  },
  {
   "cell_type": "code",
   "execution_count": 20,
   "metadata": {},
   "outputs": [
    {
     "name": "stdout",
     "output_type": "stream",
     "text": [
      "True\n",
      "False\n",
      "True\n"
     ]
    }
   ],
   "source": [
    "def par(x):\n",
    "    return x % 2 == 0\n",
    "print(par(2))\n",
    "print(par(3))\n",
    "print(par(10))"
   ]
  },
  {
   "attachments": {},
   "cell_type": "markdown",
   "metadata": {},
   "source": [
    "### Exemplo 7:"
   ]
  },
  {
   "cell_type": "code",
   "execution_count": 37,
   "metadata": {},
   "outputs": [
    {
     "name": "stdout",
     "output_type": "stream",
     "text": [
      "10\n"
     ]
    }
   ],
   "source": [
    "def soma(a, b, imprime = False):\n",
    "    s = a + b\n",
    "    if imprime:\n",
    "        print(s)\n",
    "    return s\n",
    "\n",
    "print(soma(2, 8))"
   ]
  },
  {
   "cell_type": "code",
   "execution_count": 31,
   "metadata": {},
   "outputs": [
    {
     "name": "stdout",
     "output_type": "stream",
     "text": [
      "10\n"
     ]
    },
    {
     "data": {
      "text/plain": [
       "10"
      ]
     },
     "execution_count": 31,
     "metadata": {},
     "output_type": "execute_result"
    }
   ],
   "source": [
    "soma(2, 8, True)"
   ]
  },
  {
   "cell_type": "code",
   "execution_count": 32,
   "metadata": {},
   "outputs": [
    {
     "data": {
      "text/plain": [
       "10"
      ]
     },
     "execution_count": 32,
     "metadata": {},
     "output_type": "execute_result"
    }
   ],
   "source": [
    "soma(2, 8, False)"
   ]
  },
  {
   "attachments": {},
   "cell_type": "markdown",
   "metadata": {},
   "source": [
    "### Exemplo 8:"
   ]
  },
  {
   "cell_type": "code",
   "execution_count": 33,
   "metadata": {},
   "outputs": [
    {
     "name": "stdout",
     "output_type": "stream",
     "text": [
      "Olá, mundo!\n",
      "Python é legal\n",
      "Python é legal\n",
      "Python é legal\n"
     ]
    }
   ],
   "source": [
    "def exibir_mensagem(mensagem, vezes = 1):\n",
    "    for i in range(vezes):\n",
    "        print(mensagem)\n",
    "\n",
    "exibir_mensagem(\"Olá, mundo!\")\n",
    "exibir_mensagem(\"Python é legal\", 3)"
   ]
  },
  {
   "attachments": {},
   "cell_type": "markdown",
   "metadata": {},
   "source": [
    "### Exemplo 9:"
   ]
  },
  {
   "cell_type": "code",
   "execution_count": 34,
   "metadata": {},
   "outputs": [
    {
     "name": "stdout",
     "output_type": "stream",
     "text": [
      "par\n",
      "ímpar\n"
     ]
    }
   ],
   "source": [
    "# Função dentro de função\n",
    "\n",
    "def par(x):\n",
    "    return x % 2 == 0\n",
    "\n",
    "def par_ou_ímpar(x):\n",
    "    if par(x):\n",
    "        return \"par\"\n",
    "    else:\n",
    "        return \"ímpar\"\n",
    "    \n",
    "print(par_ou_ímpar(4))\n",
    "print(par_ou_ímpar(5))"
   ]
  },
  {
   "attachments": {},
   "cell_type": "markdown",
   "metadata": {},
   "source": [
    "### Exemplo 10:"
   ]
  },
  {
   "cell_type": "code",
   "execution_count": 38,
   "metadata": {},
   "outputs": [
    {
     "name": "stdout",
     "output_type": "stream",
     "text": [
      "0\n",
      "2\n",
      "None\n"
     ]
    }
   ],
   "source": [
    "def pesquise(lista, valor):\n",
    "    for i, x in enumerate(lista):\n",
    "        if x == valor:\n",
    "            return i\n",
    "    return None\n",
    "    \n",
    "L = [10, 20, 25, 30]\n",
    "\n",
    "print(pesquise(L, 10))\n",
    "print(pesquise(L, 25))\n",
    "print(pesquise(L, 15))"
   ]
  },
  {
   "attachments": {},
   "cell_type": "markdown",
   "metadata": {},
   "source": [
    "### Exemplo 11:"
   ]
  },
  {
   "cell_type": "code",
   "execution_count": 41,
   "metadata": {},
   "outputs": [
    {
     "name": "stdout",
     "output_type": "stream",
     "text": [
      "A soma é:  85\n",
      "A média é:  21.25\n"
     ]
    }
   ],
   "source": [
    "L = [10, 20, 25, 30]\n",
    "\n",
    "# Para cada valor na lista, soma o valor para o total\n",
    "def soma(L):\n",
    "    total = 0\n",
    "    for i in L:\n",
    "        total += i\n",
    "    return total\n",
    "\n",
    "def media(L):\n",
    "    return soma(L) / len(L)\n",
    "\n",
    "print(\"A soma é: \",soma(L))\n",
    "print(\"A média é: \", media(L))"
   ]
  },
  {
   "attachments": {},
   "cell_type": "markdown",
   "metadata": {},
   "source": [
    "## Exercícios:"
   ]
  },
  {
   "attachments": {},
   "cell_type": "markdown",
   "metadata": {},
   "source": [
    "### Exercício 1:"
   ]
  },
  {
   "cell_type": "code",
   "execution_count": 59,
   "metadata": {},
   "outputs": [
    {
     "name": "stdout",
     "output_type": "stream",
     "text": [
      "A média da lista é:  30.0\n"
     ]
    }
   ],
   "source": [
    "L = [10, 15, 20, 25, 30, 35, 40, 45, 50]\n",
    "\n",
    "def soma(L):\n",
    "    resultado = 0\n",
    "    for i in L:\n",
    "        resultado += i\n",
    "    return resultado\n",
    "\n",
    "def media(L):\n",
    "    return soma(L) / len(L)\n",
    "\n",
    "print(\"A média da lista é: \", media(L))"
   ]
  },
  {
   "attachments": {},
   "cell_type": "markdown",
   "metadata": {},
   "source": [
    "### Exercício 2:"
   ]
  },
  {
   "cell_type": "code",
   "execution_count": 60,
   "metadata": {},
   "outputs": [
    {
     "name": "stdout",
     "output_type": "stream",
     "text": [
      "A força é de 15.0N\n"
     ]
    }
   ],
   "source": [
    "massa = float(input(\"Insira a massa: \"))\n",
    "a = float(input(\"Insira a aceleração: \"))\n",
    "\n",
    "def força(massa, a):\n",
    "    return massa * a\n",
    "\n",
    "print(f'A força é de {força(massa, a)}N')"
   ]
  },
  {
   "attachments": {},
   "cell_type": "markdown",
   "metadata": {},
   "source": [
    "### Exercício 3:"
   ]
  },
  {
   "cell_type": "code",
   "execution_count": 44,
   "metadata": {},
   "outputs": [
    {
     "name": "stdout",
     "output_type": "stream",
     "text": [
      "A área do triângulo é: 6.0cm\n"
     ]
    }
   ],
   "source": [
    "base = float(input(\"Insira a base do triângulo em cm: \"))\n",
    "altura = float(input(\"Insira a altura do triângulo em cm: \"))\n",
    "\n",
    "def area(base, altura):\n",
    "    return (base * altura) / 2\n",
    "\n",
    "print(f'A área do triângulo é de {area(base, altura)}cm')"
   ]
  },
  {
   "attachments": {},
   "cell_type": "markdown",
   "metadata": {},
   "source": [
    "### Exercício 4:"
   ]
  },
  {
   "cell_type": "code",
   "execution_count": 61,
   "metadata": {},
   "outputs": [
    {
     "name": "stdout",
     "output_type": "stream",
     "text": [
      "O volume é 27.0cm³\n"
     ]
    }
   ],
   "source": [
    "lado = float(input(\"Insira o valor do lado do cubo em cm: \"))\n",
    "\n",
    "def volume(lado):\n",
    "    return lado**3\n",
    "\n",
    "print(f'O volume é {volume(lado)}cm³')"
   ]
  },
  {
   "cell_type": "code",
   "execution_count": 62,
   "metadata": {},
   "outputs": [
    {
     "name": "stdout",
     "output_type": "stream",
     "text": [
      "O volume do cubo é 64.0cm³\n"
     ]
    }
   ],
   "source": [
    "largura = float(input(\"Insira a largura do cubo em cm: \"))\n",
    "altura = float(input(\"Insira a altura do cubo em cm: \"))\n",
    "comprimento = float(input(\"Insira o cmprimento do cubo em cm: \"))\n",
    "\n",
    "def volume(largura, altura, comprimento):\n",
    "    return largura * altura * comprimento\n",
    "\n",
    "print(f'O volume do cubo é {volume(largura, altura, comprimento)}cm³')"
   ]
  },
  {
   "attachments": {},
   "cell_type": "markdown",
   "metadata": {},
   "source": [
    "### Exercício 5:"
   ]
  },
  {
   "cell_type": "code",
   "execution_count": 63,
   "metadata": {},
   "outputs": [
    {
     "name": "stdout",
     "output_type": "stream",
     "text": [
      "A área da sala é 7.2m²\n"
     ]
    }
   ],
   "source": [
    "largura = float(input(\"Insira a largura da sala em metros: \"))\n",
    "comprimento = float(input(\"Insira o comprimento da sala em metros: \"))\n",
    "\n",
    "def area(largura, comprimento):\n",
    "    return largura * comprimento\n",
    "\n",
    "print(f'A área da sala é {area(largura, comprimento)}m²')"
   ]
  },
  {
   "attachments": {},
   "cell_type": "markdown",
   "metadata": {},
   "source": [
    "## Média Móvel:"
   ]
  },
  {
   "cell_type": "code",
   "execution_count": 87,
   "metadata": {},
   "outputs": [
    {
     "name": "stdout",
     "output_type": "stream",
     "text": [
      "Médias móveis com janela 3: [58.33, 70.0, 81.67, 0.0, 0.0, 0.0, 0.0, 0.0]\n"
     ]
    }
   ],
   "source": [
    "def media_movel(lista, janela):\n",
    "    medias = []\n",
    "    for i in range(len(lista) - janela + 1):\n",
    "        sublista = lista[i:i - janela]\n",
    "        media = sum(sublista) / janela \n",
    "        medias.append(media)\n",
    "    return medias\n",
    "\n",
    "lista = [10, 15, 20, 25, 30, 35, 40, 45, 50, 55]\n",
    "janela = 3\n",
    "medias = media_movel(lista, janela)\n",
    "variavel = [round(numero, 2) for numero in medias]\n",
    "print(f'Médias móveis com janela {janela}: {variavel}')"
   ]
  }
 ],
 "metadata": {
  "kernelspec": {
   "display_name": "Python 3",
   "language": "python",
   "name": "python3"
  },
  "language_info": {
   "codemirror_mode": {
    "name": "ipython",
    "version": 3
   },
   "file_extension": ".py",
   "mimetype": "text/x-python",
   "name": "python",
   "nbconvert_exporter": "python",
   "pygments_lexer": "ipython3",
   "version": "3.11.4"
  },
  "orig_nbformat": 4
 },
 "nbformat": 4,
 "nbformat_minor": 2
}
