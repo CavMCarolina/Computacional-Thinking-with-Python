{
 "cells": [
  {
   "attachments": {},
   "cell_type": "markdown",
   "metadata": {},
   "source": [
    "# Validação de número inteiro:"
   ]
  },
  {
   "cell_type": "code",
   "execution_count": 7,
   "metadata": {},
   "outputs": [
    {
     "name": "stdout",
     "output_type": "stream",
     "text": [
      "Valor inválido. Por favor, tente novamente\n",
      "Valor válido: 7\n"
     ]
    }
   ],
   "source": [
    "def faixa_int(minimo, maximo):\n",
    "    # Se valor der inválido -> pergunta de novo \n",
    "    while True:\n",
    "        v = int(input(\"Insira um valor entre {} e {}\".format(minimo, maximo)))\n",
    "        if v < minimo or v > maximo:\n",
    "            print(\"Valor inválido. Por favor, tente novamente\")\n",
    "        else:\n",
    "            return v\n",
    "        \n",
    "minimo = 5\n",
    "maximo = 10\n",
    "\n",
    "valor = faixa_int(minimo, maximo)\n",
    "print(\"Valor válido:\", valor)"
   ]
  },
  {
   "attachments": {},
   "cell_type": "markdown",
   "metadata": {},
   "source": [
    "# Exercício 1 - Validação de String:"
   ]
  },
  {
   "cell_type": "code",
   "execution_count": 3,
   "metadata": {},
   "outputs": [
    {
     "name": "stdout",
     "output_type": "stream",
     "text": [
      "Palavra inválida. Por favor, tente novamente\n",
      "Palavra inválida. Por favor, tente novamente\n",
      "Palavra válida: string\n"
     ]
    }
   ],
   "source": [
    "def string(minimo, maximo):\n",
    "    while True:\n",
    "        p = str(input(f'Insira uma palavra com no mínimo {minimo} e no máximo {maximo} letras'))\n",
    "        if len(p) < minimo or len(p) > maximo:\n",
    "            print(\"Palavra inválida. Por favor, tente novamente\")\n",
    "        else:\n",
    "            return p\n",
    "\n",
    "minimo = 5\n",
    "maximo = 12\n",
    "\n",
    "palavra = string(minimo, maximo)\n",
    "print(\"Palavra válida:\", palavra)"
   ]
  },
  {
   "cell_type": "code",
   "execution_count": 10,
   "metadata": {},
   "outputs": [
    {
     "name": "stdout",
     "output_type": "stream",
     "text": [
      "Palavra inválida. Por favor, tente novamente.\n",
      "Palavra inválida. Por favor, tente novamente.\n",
      "Palavra válida: string\n"
     ]
    }
   ],
   "source": [
    "#  Jeito do prof:\n",
    "\n",
    "def string(minimo, maximo):\n",
    "    while True:\n",
    "        p = str(input(f'Insira uma palavra com no mínimo {minimo} e no máximo {maximo} letras'))\n",
    "        tamanho = len(p) \n",
    "        if tamanho < minimo or tamanho > maximo:\n",
    "            print(\"Palavra inválida. Por favor, tente novamente.\")\n",
    "        else:\n",
    "            return p \n",
    "        \n",
    "minimo = 5\n",
    "maximo = 12\n",
    "\n",
    "print(f'Palavra válida: {string(minimo, maximo)}')\n"
   ]
  },
  {
   "attachments": {},
   "cell_type": "markdown",
   "metadata": {},
   "source": [
    "# Exercício 2 - Validação com listas:"
   ]
  },
  {
   "cell_type": "code",
   "execution_count": 17,
   "metadata": {},
   "outputs": [
    {
     "name": "stdout",
     "output_type": "stream",
     "text": [
      "A lista contém a palavra: Chave\n"
     ]
    }
   ],
   "source": [
    "def validar(string, lista):\n",
    "    # Estrutura if --> não precisa \n",
    "    # Só colocar return string in lista\n",
    "    if string in lista:\n",
    "        return True\n",
    "    else:\n",
    "        return False\n",
    "        \n",
    "lista = [\"Crachá\", \"Chave\", \"Óculos\", \"Gaveta\", \"Livros\"]\n",
    "string = str(input(\"Insira uma palavra para a comparação\"))\n",
    "\n",
    "if validar(string, lista) == True:\n",
    "    print(\"A lista contém a palavra:\", string)\n",
    "else:\n",
    "    print(\"A lista não contém a palavra\", string)"
   ]
  },
  {
   "cell_type": "code",
   "execution_count": 18,
   "metadata": {},
   "outputs": [
    {
     "name": "stdout",
     "output_type": "stream",
     "text": [
      "True\n"
     ]
    }
   ],
   "source": [
    "# Jeito do prof:\n",
    "\n",
    "def validar_string(string, lista):\n",
    "    return string in lista\n",
    "\n",
    "nomes = ['João', 'Maria', 'José', 'Ana']\n",
    "resultado = validar_string('José', nomes)\n",
    "print(resultado)"
   ]
  },
  {
   "attachments": {},
   "cell_type": "markdown",
   "metadata": {},
   "source": [
    "# Funções como Parâmetro:"
   ]
  },
  {
   "cell_type": "code",
   "execution_count": 24,
   "metadata": {},
   "outputs": [
    {
     "name": "stdout",
     "output_type": "stream",
     "text": [
      "Imprime =  7\n",
      "Imprime =  4\n",
      "Soma = 7\n",
      "Subtração =  4\n"
     ]
    }
   ],
   "source": [
    "def soma(a, b):\n",
    "    return a + b\n",
    "\n",
    "def subtracao (a, b):\n",
    "    return a - b\n",
    "\n",
    "# Realiza as operações das funções anteriores\n",
    "def imprime(a, b, funcao_parametro):\n",
    "    print(\"Imprime = \", funcao_parametro(a, b))\n",
    "\n",
    "sum = soma(3, 4)\n",
    "sub = subtracao(9, 5)\n",
    "resultado_soma = imprime(3, 4, soma)\n",
    "resultado_sub = imprime(9, 5, subtracao)\n",
    "\n",
    "print(\"Soma =\", sum)\n",
    "print(\"Subtração = \", sub)"
   ]
  },
  {
   "attachments": {},
   "cell_type": "markdown",
   "metadata": {},
   "source": [
    "## Exercícios:"
   ]
  },
  {
   "cell_type": "code",
   "execution_count": 40,
   "metadata": {},
   "outputs": [
    {
     "name": "stdout",
     "output_type": "stream",
     "text": [
      "Média =  6.75\n"
     ]
    }
   ],
   "source": [
    "def sum (a, b):\n",
    "    return a + b\n",
    "\n",
    "def mult(a, b):\n",
    "    return a * b\n",
    "\n",
    "def sub(a, b):\n",
    "    return a - b\n",
    "\n",
    "def div(a, b):\n",
    "    return a / b\n",
    "\n",
    "def media(sum, mult, sub, div):\n",
    "    return (sum + mult + sub + div) / 4\n",
    "\n",
    "soma = sum(2, 3)\n",
    "multiplicacao = mult(3, 5)\n",
    "subtracao = sub(4, 2)\n",
    "divisao = div(20, 4)\n",
    "\n",
    "print(\"Média = \", media(soma, multiplicacao, subtracao, divisao))"
   ]
  },
  {
   "cell_type": "code",
   "execution_count": 44,
   "metadata": {},
   "outputs": [
    {
     "name": "stdout",
     "output_type": "stream",
     "text": [
      "Média =  6.75\n"
     ]
    }
   ],
   "source": [
    "# Jeito do prof:\n",
    "\n",
    "def sum (a, b):\n",
    "    return a + b\n",
    "\n",
    "def mult(a, b):\n",
    "    return a * b\n",
    "\n",
    "def sub(a, b):\n",
    "    return a - b\n",
    "\n",
    "def div(a, b):\n",
    "    return a / b\n",
    "\n",
    "l_soma = [2, 3]\n",
    "l_subtracao = [4, 2]\n",
    "l_multiplicacao = [3, 5]\n",
    "l_divisao = [20, 4]\n",
    "\n",
    "r_soma = sum(*l_soma)\n",
    "r_multiplicacao = mult(*l_multiplicacao)\n",
    "r_subtracao = sub(*l_subtracao)\n",
    "r_divisao = div(*l_divisao)\n",
    "\n",
    "def calcular_media(r_soma, r_multiplicacao, r_subtracao, r_divisao):\n",
    "    resultado = (r_soma + r_multiplicacao + r_subtracao + r_divisao) / 4\n",
    "    return resultado\n",
    "\n",
    "print(\"Média = \", calcular_media(r_soma, r_multiplicacao, r_subtracao, r_divisao))"
   ]
  },
  {
   "attachments": {},
   "cell_type": "markdown",
   "metadata": {},
   "source": [
    "# Função em Dataframe:"
   ]
  },
  {
   "cell_type": "code",
   "execution_count": null,
   "metadata": {},
   "outputs": [],
   "source": [
    "pip install pandas"
   ]
  },
  {
   "cell_type": "code",
   "execution_count": 46,
   "metadata": {},
   "outputs": [],
   "source": [
    "import pandas as pd"
   ]
  },
  {
   "cell_type": "code",
   "execution_count": 47,
   "metadata": {},
   "outputs": [
    {
     "data": {
      "text/plain": [
       "150"
      ]
     },
     "execution_count": 47,
     "metadata": {},
     "output_type": "execute_result"
    }
   ],
   "source": [
    "data = {'Coluna 1': [10, 20, 30, 40, 50],\n",
    "        'Coluna 2': [5, 10, 15, 20, 25],\n",
    "        'Coluna 3': ['a', 'b', 'c', 'd', 'e'],\n",
    "        'Coluna 4': ['x', 'y', 'z', 'w', 'v']}\n",
    "\n",
    "df = pd.DataFrame(data)\n",
    "\n",
    "def soma_coluna(coluna):\n",
    "    return coluna.sum()\n",
    "\n",
    "resultado_soma = soma_coluna(df['Coluna 1'])\n",
    "resultado_soma"
   ]
  },
  {
   "attachments": {},
   "cell_type": "markdown",
   "metadata": {},
   "source": [
    "## Exercício 1:"
   ]
  },
  {
   "cell_type": "code",
   "execution_count": 55,
   "metadata": {},
   "outputs": [
    {
     "data": {
      "text/html": [
       "<div>\n",
       "<style scoped>\n",
       "    .dataframe tbody tr th:only-of-type {\n",
       "        vertical-align: middle;\n",
       "    }\n",
       "\n",
       "    .dataframe tbody tr th {\n",
       "        vertical-align: top;\n",
       "    }\n",
       "\n",
       "    .dataframe thead th {\n",
       "        text-align: right;\n",
       "    }\n",
       "</style>\n",
       "<table border=\"1\" class=\"dataframe\">\n",
       "  <thead>\n",
       "    <tr style=\"text-align: right;\">\n",
       "      <th></th>\n",
       "      <th>Coluna 1</th>\n",
       "      <th>Coluna 2</th>\n",
       "      <th>Coluna 3</th>\n",
       "      <th>Coluna 4</th>\n",
       "      <th>Soma</th>\n",
       "    </tr>\n",
       "  </thead>\n",
       "  <tbody>\n",
       "    <tr>\n",
       "      <th>0</th>\n",
       "      <td>10</td>\n",
       "      <td>5</td>\n",
       "      <td>a</td>\n",
       "      <td>x</td>\n",
       "      <td>15</td>\n",
       "    </tr>\n",
       "    <tr>\n",
       "      <th>1</th>\n",
       "      <td>20</td>\n",
       "      <td>10</td>\n",
       "      <td>b</td>\n",
       "      <td>y</td>\n",
       "      <td>30</td>\n",
       "    </tr>\n",
       "    <tr>\n",
       "      <th>2</th>\n",
       "      <td>30</td>\n",
       "      <td>15</td>\n",
       "      <td>c</td>\n",
       "      <td>z</td>\n",
       "      <td>45</td>\n",
       "    </tr>\n",
       "    <tr>\n",
       "      <th>3</th>\n",
       "      <td>40</td>\n",
       "      <td>20</td>\n",
       "      <td>d</td>\n",
       "      <td>w</td>\n",
       "      <td>60</td>\n",
       "    </tr>\n",
       "    <tr>\n",
       "      <th>4</th>\n",
       "      <td>50</td>\n",
       "      <td>25</td>\n",
       "      <td>e</td>\n",
       "      <td>v</td>\n",
       "      <td>75</td>\n",
       "    </tr>\n",
       "  </tbody>\n",
       "</table>\n",
       "</div>"
      ],
      "text/plain": [
       "   Coluna 1  Coluna 2 Coluna 3 Coluna 4  Soma\n",
       "0        10         5        a        x    15\n",
       "1        20        10        b        y    30\n",
       "2        30        15        c        z    45\n",
       "3        40        20        d        w    60\n",
       "4        50        25        e        v    75"
      ]
     },
     "execution_count": 55,
     "metadata": {},
     "output_type": "execute_result"
    }
   ],
   "source": [
    "# Não pode colocar direto as colunas no parâmetro, pois ainda não foram definidas.\n",
    "# Para funcionar, teria que definir as colunas exatas como a e b (por exemplo)\n",
    "\n",
    "def soma_linhas(coluna1, coluna2):\n",
    "    return coluna1 + coluna2\n",
    "\n",
    "df['Soma'] = soma_linhas(df['Coluna 1'], df['Coluna 2'])\n",
    "df\n"
   ]
  },
  {
   "cell_type": "code",
   "execution_count": 56,
   "metadata": {},
   "outputs": [
    {
     "data": {
      "text/html": [
       "<div>\n",
       "<style scoped>\n",
       "    .dataframe tbody tr th:only-of-type {\n",
       "        vertical-align: middle;\n",
       "    }\n",
       "\n",
       "    .dataframe tbody tr th {\n",
       "        vertical-align: top;\n",
       "    }\n",
       "\n",
       "    .dataframe thead th {\n",
       "        text-align: right;\n",
       "    }\n",
       "</style>\n",
       "<table border=\"1\" class=\"dataframe\">\n",
       "  <thead>\n",
       "    <tr style=\"text-align: right;\">\n",
       "      <th></th>\n",
       "      <th>Coluna 1</th>\n",
       "      <th>Coluna 2</th>\n",
       "      <th>Coluna 3</th>\n",
       "      <th>Coluna 4</th>\n",
       "      <th>Soma</th>\n",
       "    </tr>\n",
       "  </thead>\n",
       "  <tbody>\n",
       "    <tr>\n",
       "      <th>0</th>\n",
       "      <td>10</td>\n",
       "      <td>5</td>\n",
       "      <td>a</td>\n",
       "      <td>x</td>\n",
       "      <td>15</td>\n",
       "    </tr>\n",
       "    <tr>\n",
       "      <th>1</th>\n",
       "      <td>20</td>\n",
       "      <td>10</td>\n",
       "      <td>b</td>\n",
       "      <td>y</td>\n",
       "      <td>30</td>\n",
       "    </tr>\n",
       "    <tr>\n",
       "      <th>2</th>\n",
       "      <td>30</td>\n",
       "      <td>15</td>\n",
       "      <td>c</td>\n",
       "      <td>z</td>\n",
       "      <td>45</td>\n",
       "    </tr>\n",
       "    <tr>\n",
       "      <th>3</th>\n",
       "      <td>40</td>\n",
       "      <td>20</td>\n",
       "      <td>d</td>\n",
       "      <td>w</td>\n",
       "      <td>60</td>\n",
       "    </tr>\n",
       "    <tr>\n",
       "      <th>4</th>\n",
       "      <td>50</td>\n",
       "      <td>25</td>\n",
       "      <td>e</td>\n",
       "      <td>v</td>\n",
       "      <td>75</td>\n",
       "    </tr>\n",
       "  </tbody>\n",
       "</table>\n",
       "</div>"
      ],
      "text/plain": [
       "   Coluna 1  Coluna 2 Coluna 3 Coluna 4  Soma\n",
       "0        10         5        a        x    15\n",
       "1        20        10        b        y    30\n",
       "2        30        15        c        z    45\n",
       "3        40        20        d        w    60\n",
       "4        50        25        e        v    75"
      ]
     },
     "execution_count": 56,
     "metadata": {},
     "output_type": "execute_result"
    }
   ],
   "source": [
    "# Jeito do prof:\n",
    "\n",
    "def soma_coluna(df):\n",
    "    df['Soma'] = df['Coluna 1'] + df['Coluna 2']\n",
    "    return df\n",
    "\n",
    "soma_coluna(df)"
   ]
  }
 ],
 "metadata": {
  "kernelspec": {
   "display_name": "Python 3",
   "language": "python",
   "name": "python3"
  },
  "language_info": {
   "codemirror_mode": {
    "name": "ipython",
    "version": 3
   },
   "file_extension": ".py",
   "mimetype": "text/x-python",
   "name": "python",
   "nbconvert_exporter": "python",
   "pygments_lexer": "ipython3",
   "version": "3.11.4"
  },
  "orig_nbformat": 4
 },
 "nbformat": 4,
 "nbformat_minor": 2
}
