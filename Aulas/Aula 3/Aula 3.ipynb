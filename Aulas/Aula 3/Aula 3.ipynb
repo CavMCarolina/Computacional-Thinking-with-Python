{
 "cells": [
  {
   "attachments": {},
   "cell_type": "markdown",
   "metadata": {},
   "source": [
    "# Install"
   ]
  },
  {
   "cell_type": "code",
   "execution_count": null,
   "metadata": {},
   "outputs": [],
   "source": [
    "pip install numpy"
   ]
  },
  {
   "cell_type": "code",
   "execution_count": null,
   "metadata": {},
   "outputs": [],
   "source": [
    "pip install pandas"
   ]
  },
  {
   "cell_type": "code",
   "execution_count": null,
   "metadata": {},
   "outputs": [],
   "source": [
    "pip install openpyxl\n",
    "# Salvar em excel"
   ]
  },
  {
   "cell_type": "code",
   "execution_count": null,
   "metadata": {},
   "outputs": [],
   "source": [
    "pip install matplotlib"
   ]
  },
  {
   "cell_type": "code",
   "execution_count": 63,
   "metadata": {},
   "outputs": [],
   "source": [
    "import numpy as np\n",
    "import pandas as pd\n",
    "import matplotlib.pyplot as plt"
   ]
  },
  {
   "attachments": {},
   "cell_type": "markdown",
   "metadata": {},
   "source": [
    "# Exemplos:"
   ]
  },
  {
   "attachments": {},
   "cell_type": "markdown",
   "metadata": {},
   "source": [
    "## NumPy:"
   ]
  },
  {
   "cell_type": "code",
   "execution_count": 9,
   "metadata": {},
   "outputs": [
    {
     "data": {
      "text/plain": [
       "array([ 1,  2,  3,  4,  5,  6,  7,  8,  9, 10])"
      ]
     },
     "execution_count": 9,
     "metadata": {},
     "output_type": "execute_result"
    }
   ],
   "source": [
    "array = np.array([1,2,3,4,5,6,7,8,9,10])\n",
    "array"
   ]
  },
  {
   "cell_type": "code",
   "execution_count": 10,
   "metadata": {},
   "outputs": [
    {
     "data": {
      "text/plain": [
       "4"
      ]
     },
     "execution_count": 10,
     "metadata": {},
     "output_type": "execute_result"
    }
   ],
   "source": [
    "quarto_elemento = array[3]\n",
    "quarto_elemento"
   ]
  },
  {
   "cell_type": "code",
   "execution_count": 11,
   "metadata": {},
   "outputs": [
    {
     "name": "stdout",
     "output_type": "stream",
     "text": [
      "Valores maiores que 5: [ 6  7  8  9 10]\n"
     ]
    }
   ],
   "source": [
    "array_maiores_que_5 = array[array > 5]\n",
    "print(\"Valores maiores que 5:\", array_maiores_que_5)"
   ]
  },
  {
   "cell_type": "code",
   "execution_count": 12,
   "metadata": {},
   "outputs": [
    {
     "name": "stdout",
     "output_type": "stream",
     "text": [
      "A soma dos arrays é: [ 7  9 11 13 15]\n"
     ]
    }
   ],
   "source": [
    "array1to5 = np.array([1,2,3,4,5])\n",
    "array6to10 = np.array([6,7,8,9,10])\n",
    "soma = array1to5 + array6to10\n",
    "\n",
    "print(\"A soma dos arrays é:\", soma)"
   ]
  },
  {
   "cell_type": "code",
   "execution_count": 13,
   "metadata": {},
   "outputs": [
    {
     "data": {
      "text/plain": [
       "12"
      ]
     },
     "execution_count": 13,
     "metadata": {},
     "output_type": "execute_result"
    }
   ],
   "source": [
    "soma_especifica = array1to5[1] + array6to10[4]\n",
    "soma_especifica"
   ]
  },
  {
   "cell_type": "code",
   "execution_count": 14,
   "metadata": {},
   "outputs": [
    {
     "name": "stdout",
     "output_type": "stream",
     "text": [
      "Média 5.5\n",
      "Desvio padrão 2.8722813232690143\n"
     ]
    }
   ],
   "source": [
    "# Média e desvio padrão de um array de 1 a 10\n",
    "\n",
    "print(\"Média\", array.mean())\n",
    "print(\"Desvio padrão\", array.std())"
   ]
  },
  {
   "cell_type": "code",
   "execution_count": 15,
   "metadata": {},
   "outputs": [
    {
     "name": "stdout",
     "output_type": "stream",
     "text": [
      "Concatenação: \n",
      " [ 1  2  3  4  5  6  7  8  9 10]\n"
     ]
    }
   ],
   "source": [
    "concatenacao = np.concatenate([array1to5, array6to10])\n",
    "print(\"Concatenação: \\n\", concatenacao)"
   ]
  },
  {
   "cell_type": "code",
   "execution_count": 16,
   "metadata": {},
   "outputs": [
    {
     "name": "stdout",
     "output_type": "stream",
     "text": [
      "Resultado Subtração: [-9 -7 -5 -3 -1  1  3  5  7  9]\n"
     ]
    }
   ],
   "source": [
    "# arange = range\n",
    "arr1 = np.arange(1, 11)\n",
    "arr2 = np.arange(10, 0 , -1)\n",
    "\n",
    "resultado = arr1 - arr2\n",
    "\n",
    "print(\"Resultado Subtração:\", resultado)"
   ]
  },
  {
   "cell_type": "code",
   "execution_count": 17,
   "metadata": {},
   "outputs": [
    {
     "data": {
      "text/plain": [
       "array([10,  9,  8,  7,  6,  5,  4,  3,  2,  1])"
      ]
     },
     "execution_count": 17,
     "metadata": {},
     "output_type": "execute_result"
    }
   ],
   "source": [
    "arr_ordenado = np.sort(arr1)[::-1]\n",
    "arr_ordenado"
   ]
  },
  {
   "cell_type": "code",
   "execution_count": 18,
   "metadata": {},
   "outputs": [
    {
     "name": "stdout",
     "output_type": "stream",
     "text": [
      "Valores Duplicados True\n"
     ]
    }
   ],
   "source": [
    "arr = np.array([0,4,2,6,9,6])\n",
    "print(\"Valores Duplicados\", np.unique(arr).size !=arr.size)"
   ]
  },
  {
   "cell_type": "code",
   "execution_count": 19,
   "metadata": {},
   "outputs": [
    {
     "name": "stdout",
     "output_type": "stream",
     "text": [
      "Slicing do terceiro ao sétimo elemento: \n",
      " [2 6 9 6]\n"
     ]
    }
   ],
   "source": [
    "print(\"Slicing do terceiro ao sétimo elemento: \\n\", arr[2:7])"
   ]
  },
  {
   "attachments": {},
   "cell_type": "markdown",
   "metadata": {},
   "source": [
    "## Dicionários:"
   ]
  },
  {
   "cell_type": "code",
   "execution_count": 20,
   "metadata": {},
   "outputs": [
    {
     "name": "stdout",
     "output_type": "stream",
     "text": [
      "90\n",
      "85\n"
     ]
    }
   ],
   "source": [
    "notas = {'João': 85, 'Maria': 90, 'Pedro': 88}\n",
    "print(notas['Maria'])\n",
    "print(notas['João'])"
   ]
  },
  {
   "cell_type": "code",
   "execution_count": 21,
   "metadata": {},
   "outputs": [
    {
     "data": {
      "text/plain": [
       "{'João': {'Matemática': 90, 'Português': 85, 'Ciências': 88},\n",
       " 'Maria': {'Matemática': 95, 'Português': 92, 'Ciências': 89},\n",
       " 'Pedro': {'Matemática': 80, 'Português': 75, 'Ciências': 82}}"
      ]
     },
     "execution_count": 21,
     "metadata": {},
     "output_type": "execute_result"
    }
   ],
   "source": [
    "notas_alunos = {\n",
    "    'João': {'Matemática': 90, 'Português': 85, 'Ciências': 88},\n",
    "    'Maria': {'Matemática': 95, 'Português': 92, 'Ciências': 89},\n",
    "    'Pedro': {'Matemática': 80, 'Português': 75, 'Ciências': 82}\n",
    "}\n",
    "\n",
    "notas_alunos\n",
    "# Mais fácil de visualizar em df"
   ]
  },
  {
   "cell_type": "code",
   "execution_count": 22,
   "metadata": {},
   "outputs": [
    {
     "name": "stdout",
     "output_type": "stream",
     "text": [
      "A nota de Maria em matemática é: 95\n"
     ]
    }
   ],
   "source": [
    "nota_maria_matematica = notas_alunos['Maria']['Matemática']\n",
    "print(\"A nota de Maria em matemática é:\", nota_maria_matematica)"
   ]
  },
  {
   "cell_type": "code",
   "execution_count": 23,
   "metadata": {},
   "outputs": [
    {
     "data": {
      "text/plain": [
       "{'João': {'Matemática': 90, 'Português': 85, 'Ciências': 88},\n",
       " 'Maria': {'Matemática': 95, 'Português': 92, 'Ciências': 89},\n",
       " 'Pedro': {'Matemática': 80, 'Português': 75, 'Ciências': 82},\n",
       " 'Ana': {'Matemática': 88, 'Português': 91, 'Ciências': 85}}"
      ]
     },
     "execution_count": 23,
     "metadata": {},
     "output_type": "execute_result"
    }
   ],
   "source": [
    "notas_alunos['Ana'] = {'Matemática': 88, 'Português': 91, 'Ciências': 85}\n",
    "notas_alunos"
   ]
  },
  {
   "cell_type": "code",
   "execution_count": 24,
   "metadata": {},
   "outputs": [
    {
     "data": {
      "text/html": [
       "<div>\n",
       "<style scoped>\n",
       "    .dataframe tbody tr th:only-of-type {\n",
       "        vertical-align: middle;\n",
       "    }\n",
       "\n",
       "    .dataframe tbody tr th {\n",
       "        vertical-align: top;\n",
       "    }\n",
       "\n",
       "    .dataframe thead th {\n",
       "        text-align: right;\n",
       "    }\n",
       "</style>\n",
       "<table border=\"1\" class=\"dataframe\">\n",
       "  <thead>\n",
       "    <tr style=\"text-align: right;\">\n",
       "      <th></th>\n",
       "      <th>João</th>\n",
       "      <th>Maria</th>\n",
       "      <th>Pedro</th>\n",
       "      <th>Ana</th>\n",
       "    </tr>\n",
       "  </thead>\n",
       "  <tbody>\n",
       "    <tr>\n",
       "      <th>Matemática</th>\n",
       "      <td>90</td>\n",
       "      <td>95</td>\n",
       "      <td>80</td>\n",
       "      <td>88</td>\n",
       "    </tr>\n",
       "    <tr>\n",
       "      <th>Português</th>\n",
       "      <td>85</td>\n",
       "      <td>92</td>\n",
       "      <td>75</td>\n",
       "      <td>91</td>\n",
       "    </tr>\n",
       "    <tr>\n",
       "      <th>Ciências</th>\n",
       "      <td>88</td>\n",
       "      <td>89</td>\n",
       "      <td>82</td>\n",
       "      <td>85</td>\n",
       "    </tr>\n",
       "  </tbody>\n",
       "</table>\n",
       "</div>"
      ],
      "text/plain": [
       "            João  Maria  Pedro  Ana\n",
       "Matemática    90     95     80   88\n",
       "Português     85     92     75   91\n",
       "Ciências      88     89     82   85"
      ]
     },
     "execution_count": 24,
     "metadata": {},
     "output_type": "execute_result"
    }
   ],
   "source": [
    "df = pd.DataFrame(notas_alunos)\n",
    "df"
   ]
  },
  {
   "cell_type": "code",
   "execution_count": 25,
   "metadata": {},
   "outputs": [
    {
     "data": {
      "text/html": [
       "<div>\n",
       "<style scoped>\n",
       "    .dataframe tbody tr th:only-of-type {\n",
       "        vertical-align: middle;\n",
       "    }\n",
       "\n",
       "    .dataframe tbody tr th {\n",
       "        vertical-align: top;\n",
       "    }\n",
       "\n",
       "    .dataframe thead th {\n",
       "        text-align: right;\n",
       "    }\n",
       "</style>\n",
       "<table border=\"1\" class=\"dataframe\">\n",
       "  <thead>\n",
       "    <tr style=\"text-align: right;\">\n",
       "      <th></th>\n",
       "      <th>João</th>\n",
       "      <th>Maria</th>\n",
       "    </tr>\n",
       "  </thead>\n",
       "  <tbody>\n",
       "    <tr>\n",
       "      <th>Matemática</th>\n",
       "      <td>90</td>\n",
       "      <td>95</td>\n",
       "    </tr>\n",
       "    <tr>\n",
       "      <th>Português</th>\n",
       "      <td>85</td>\n",
       "      <td>92</td>\n",
       "    </tr>\n",
       "    <tr>\n",
       "      <th>Ciências</th>\n",
       "      <td>88</td>\n",
       "      <td>89</td>\n",
       "    </tr>\n",
       "  </tbody>\n",
       "</table>\n",
       "</div>"
      ],
      "text/plain": [
       "            João  Maria\n",
       "Matemática    90     95\n",
       "Português     85     92\n",
       "Ciências      88     89"
      ]
     },
     "execution_count": 25,
     "metadata": {},
     "output_type": "execute_result"
    }
   ],
   "source": [
    "dois_alunos = df.loc[:, ['João', 'Maria']]\n",
    "dois_alunos"
   ]
  },
  {
   "cell_type": "code",
   "execution_count": 26,
   "metadata": {},
   "outputs": [
    {
     "data": {
      "text/html": [
       "<div>\n",
       "<style scoped>\n",
       "    .dataframe tbody tr th:only-of-type {\n",
       "        vertical-align: middle;\n",
       "    }\n",
       "\n",
       "    .dataframe tbody tr th {\n",
       "        vertical-align: top;\n",
       "    }\n",
       "\n",
       "    .dataframe thead th {\n",
       "        text-align: right;\n",
       "    }\n",
       "</style>\n",
       "<table border=\"1\" class=\"dataframe\">\n",
       "  <thead>\n",
       "    <tr style=\"text-align: right;\">\n",
       "      <th></th>\n",
       "      <th>João</th>\n",
       "      <th>Maria</th>\n",
       "      <th>Pedro</th>\n",
       "      <th>Ana</th>\n",
       "      <th>Data</th>\n",
       "    </tr>\n",
       "  </thead>\n",
       "  <tbody>\n",
       "    <tr>\n",
       "      <th>Matemática</th>\n",
       "      <td>90</td>\n",
       "      <td>95</td>\n",
       "      <td>80</td>\n",
       "      <td>88</td>\n",
       "      <td>2024-01-01</td>\n",
       "    </tr>\n",
       "    <tr>\n",
       "      <th>Português</th>\n",
       "      <td>85</td>\n",
       "      <td>92</td>\n",
       "      <td>75</td>\n",
       "      <td>91</td>\n",
       "      <td>2024-02-01</td>\n",
       "    </tr>\n",
       "    <tr>\n",
       "      <th>Ciências</th>\n",
       "      <td>88</td>\n",
       "      <td>89</td>\n",
       "      <td>82</td>\n",
       "      <td>85</td>\n",
       "      <td>2024-03-01</td>\n",
       "    </tr>\n",
       "  </tbody>\n",
       "</table>\n",
       "</div>"
      ],
      "text/plain": [
       "            João  Maria  Pedro  Ana       Data\n",
       "Matemática    90     95     80   88 2024-01-01\n",
       "Português     85     92     75   91 2024-02-01\n",
       "Ciências      88     89     82   85 2024-03-01"
      ]
     },
     "execution_count": 26,
     "metadata": {},
     "output_type": "execute_result"
    }
   ],
   "source": [
    "datas =['01-01-2024', '01-02-2024', '01-03-2024']\n",
    "datas_formatadas = pd.to_datetime(datas, format='%d-%m-%Y')\n",
    "\n",
    "df['Data'] = datas_formatadas\n",
    "df"
   ]
  },
  {
   "cell_type": "code",
   "execution_count": 27,
   "metadata": {},
   "outputs": [
    {
     "data": {
      "text/html": [
       "<div>\n",
       "<style scoped>\n",
       "    .dataframe tbody tr th:only-of-type {\n",
       "        vertical-align: middle;\n",
       "    }\n",
       "\n",
       "    .dataframe tbody tr th {\n",
       "        vertical-align: top;\n",
       "    }\n",
       "\n",
       "    .dataframe thead th {\n",
       "        text-align: right;\n",
       "    }\n",
       "</style>\n",
       "<table border=\"1\" class=\"dataframe\">\n",
       "  <thead>\n",
       "    <tr style=\"text-align: right;\">\n",
       "      <th></th>\n",
       "      <th>João</th>\n",
       "      <th>Maria</th>\n",
       "      <th>Pedro</th>\n",
       "      <th>Ana</th>\n",
       "      <th>Data</th>\n",
       "      <th>Ano</th>\n",
       "      <th>Mês</th>\n",
       "    </tr>\n",
       "  </thead>\n",
       "  <tbody>\n",
       "    <tr>\n",
       "      <th>Matemática</th>\n",
       "      <td>90</td>\n",
       "      <td>95</td>\n",
       "      <td>80</td>\n",
       "      <td>88</td>\n",
       "      <td>2024-01-01</td>\n",
       "      <td>2024</td>\n",
       "      <td>1</td>\n",
       "    </tr>\n",
       "    <tr>\n",
       "      <th>Português</th>\n",
       "      <td>85</td>\n",
       "      <td>92</td>\n",
       "      <td>75</td>\n",
       "      <td>91</td>\n",
       "      <td>2024-02-01</td>\n",
       "      <td>2024</td>\n",
       "      <td>2</td>\n",
       "    </tr>\n",
       "    <tr>\n",
       "      <th>Ciências</th>\n",
       "      <td>88</td>\n",
       "      <td>89</td>\n",
       "      <td>82</td>\n",
       "      <td>85</td>\n",
       "      <td>2024-03-01</td>\n",
       "      <td>2024</td>\n",
       "      <td>3</td>\n",
       "    </tr>\n",
       "  </tbody>\n",
       "</table>\n",
       "</div>"
      ],
      "text/plain": [
       "            João  Maria  Pedro  Ana       Data   Ano  Mês\n",
       "Matemática    90     95     80   88 2024-01-01  2024    1\n",
       "Português     85     92     75   91 2024-02-01  2024    2\n",
       "Ciências      88     89     82   85 2024-03-01  2024    3"
      ]
     },
     "execution_count": 27,
     "metadata": {},
     "output_type": "execute_result"
    }
   ],
   "source": [
    "df['Ano'] = df['Data'].dt.year\n",
    "df['Mês'] = df['Data'].dt.month\n",
    "df"
   ]
  },
  {
   "cell_type": "code",
   "execution_count": 34,
   "metadata": {},
   "outputs": [],
   "source": [
    "df.to_csv('exemplo1.csv')\n",
    "df.to_excel('exemplo2.xlsx')"
   ]
  },
  {
   "attachments": {},
   "cell_type": "markdown",
   "metadata": {},
   "source": [
    "# Desafio Pandas Series:"
   ]
  },
  {
   "cell_type": "code",
   "execution_count": 52,
   "metadata": {},
   "outputs": [
    {
     "data": {
      "text/html": [
       "<div>\n",
       "<style scoped>\n",
       "    .dataframe tbody tr th:only-of-type {\n",
       "        vertical-align: middle;\n",
       "    }\n",
       "\n",
       "    .dataframe tbody tr th {\n",
       "        vertical-align: top;\n",
       "    }\n",
       "\n",
       "    .dataframe thead th {\n",
       "        text-align: right;\n",
       "    }\n",
       "</style>\n",
       "<table border=\"1\" class=\"dataframe\">\n",
       "  <thead>\n",
       "    <tr style=\"text-align: right;\">\n",
       "      <th></th>\n",
       "      <th>Produto</th>\n",
       "      <th>Mês</th>\n",
       "      <th>Vendas</th>\n",
       "    </tr>\n",
       "  </thead>\n",
       "  <tbody>\n",
       "    <tr>\n",
       "      <th>0</th>\n",
       "      <td>Celular</td>\n",
       "      <td>01-01-2023</td>\n",
       "      <td>150</td>\n",
       "    </tr>\n",
       "    <tr>\n",
       "      <th>1</th>\n",
       "      <td>Celular</td>\n",
       "      <td>01-02-2023</td>\n",
       "      <td>180</td>\n",
       "    </tr>\n",
       "    <tr>\n",
       "      <th>2</th>\n",
       "      <td>Celular</td>\n",
       "      <td>01-03-2023</td>\n",
       "      <td>200</td>\n",
       "    </tr>\n",
       "    <tr>\n",
       "      <th>3</th>\n",
       "      <td>Tablet</td>\n",
       "      <td>01-01-2023</td>\n",
       "      <td>100</td>\n",
       "    </tr>\n",
       "    <tr>\n",
       "      <th>4</th>\n",
       "      <td>Tablet</td>\n",
       "      <td>01-02-2023</td>\n",
       "      <td>120</td>\n",
       "    </tr>\n",
       "    <tr>\n",
       "      <th>5</th>\n",
       "      <td>Tablet</td>\n",
       "      <td>01-03-2023</td>\n",
       "      <td>120</td>\n",
       "    </tr>\n",
       "    <tr>\n",
       "      <th>6</th>\n",
       "      <td>Notebook</td>\n",
       "      <td>01-01-2023</td>\n",
       "      <td>80</td>\n",
       "    </tr>\n",
       "    <tr>\n",
       "      <th>7</th>\n",
       "      <td>Notebook</td>\n",
       "      <td>01-02-2023</td>\n",
       "      <td>90</td>\n",
       "    </tr>\n",
       "    <tr>\n",
       "      <th>8</th>\n",
       "      <td>Notebook</td>\n",
       "      <td>01-03-2023</td>\n",
       "      <td>100</td>\n",
       "    </tr>\n",
       "  </tbody>\n",
       "</table>\n",
       "</div>"
      ],
      "text/plain": [
       "    Produto         Mês  Vendas\n",
       "0   Celular  01-01-2023     150\n",
       "1   Celular  01-02-2023     180\n",
       "2   Celular  01-03-2023     200\n",
       "3    Tablet  01-01-2023     100\n",
       "4    Tablet  01-02-2023     120\n",
       "5    Tablet  01-03-2023     120\n",
       "6  Notebook  01-01-2023      80\n",
       "7  Notebook  01-02-2023      90\n",
       "8  Notebook  01-03-2023     100"
      ]
     },
     "execution_count": 52,
     "metadata": {},
     "output_type": "execute_result"
    }
   ],
   "source": [
    "data = {\n",
    "    'Produto': ['Celular', 'Celular', 'Celular', 'Tablet', 'Tablet', 'Tablet', 'Notebook', 'Notebook', 'Notebook'],\n",
    "    'Mês': ['01-01-2023', '01-02-2023','01-03-2023', '01-01-2023', '01-02-2023','01-03-2023', '01-01-2023', '01-02-2023','01-03-2023'],\n",
    "    'Vendas': [150, 180, 200, 100, 120, 120, 80, 90, 100]\n",
    "}\n",
    "\n",
    "df = pd.DataFrame(data)\n",
    "df"
   ]
  },
  {
   "cell_type": "code",
   "execution_count": 53,
   "metadata": {},
   "outputs": [
    {
     "data": {
      "text/plain": [
       "Produto\n",
       "Celular     530\n",
       "Notebook    270\n",
       "Tablet      340\n",
       "Name: Vendas, dtype: int64"
      ]
     },
     "execution_count": 53,
     "metadata": {},
     "output_type": "execute_result"
    }
   ],
   "source": [
    "df['Mês'] = pd.to_datetime(df['Mês'], format='%d-%m-%Y')\n",
    "df['Ano'] = df['Mês'].dt.year\n",
    "df['Mês'] = df['Mês'].dt.month\n",
    "\n",
    "# Valor das vendas = series indexado pelo mês\n",
    "vendas_series = pd.Series(df['Vendas'].values, index=df['Mês'])\n",
    "\n",
    "# Ver a quantidade de vendas de cada produto\n",
    "produto_mais_vendido = df.groupby('Produto')['Vendas'].sum()\n",
    "produto_mais_vendido"
   ]
  },
  {
   "cell_type": "code",
   "execution_count": null,
   "metadata": {},
   "outputs": [],
   "source": [
    "produto_mais_vendido = df.groupby('Produto')['Vendas'].sum().idxmax()\n",
    "produto_menos_vendido = df.groupby('Produto')['Vendas'].sum().idxmin()"
   ]
  },
  {
   "cell_type": "code",
   "execution_count": 74,
   "metadata": {},
   "outputs": [
    {
     "name": "stdout",
     "output_type": "stream",
     "text": [
      "Mês de Maior Variação: 2\n",
      "Mês de Menor Variação: 3\n"
     ]
    },
    {
     "data": {
      "text/html": [
       "<div>\n",
       "<style scoped>\n",
       "    .dataframe tbody tr th:only-of-type {\n",
       "        vertical-align: middle;\n",
       "    }\n",
       "\n",
       "    .dataframe tbody tr th {\n",
       "        vertical-align: top;\n",
       "    }\n",
       "\n",
       "    .dataframe thead th {\n",
       "        text-align: right;\n",
       "    }\n",
       "</style>\n",
       "<table border=\"1\" class=\"dataframe\">\n",
       "  <thead>\n",
       "    <tr style=\"text-align: right;\">\n",
       "      <th></th>\n",
       "      <th>Produto</th>\n",
       "      <th>Mês</th>\n",
       "      <th>Vendas</th>\n",
       "      <th>Ano</th>\n",
       "      <th>Variação Percentual</th>\n",
       "    </tr>\n",
       "  </thead>\n",
       "  <tbody>\n",
       "    <tr>\n",
       "      <th>0</th>\n",
       "      <td>Celular</td>\n",
       "      <td>1</td>\n",
       "      <td>150</td>\n",
       "      <td>2023</td>\n",
       "      <td>NaN</td>\n",
       "    </tr>\n",
       "    <tr>\n",
       "      <th>1</th>\n",
       "      <td>Celular</td>\n",
       "      <td>2</td>\n",
       "      <td>180</td>\n",
       "      <td>2023</td>\n",
       "      <td>0.200000</td>\n",
       "    </tr>\n",
       "    <tr>\n",
       "      <th>2</th>\n",
       "      <td>Celular</td>\n",
       "      <td>3</td>\n",
       "      <td>200</td>\n",
       "      <td>2023</td>\n",
       "      <td>0.111111</td>\n",
       "    </tr>\n",
       "    <tr>\n",
       "      <th>3</th>\n",
       "      <td>Tablet</td>\n",
       "      <td>1</td>\n",
       "      <td>100</td>\n",
       "      <td>2023</td>\n",
       "      <td>NaN</td>\n",
       "    </tr>\n",
       "    <tr>\n",
       "      <th>4</th>\n",
       "      <td>Tablet</td>\n",
       "      <td>2</td>\n",
       "      <td>120</td>\n",
       "      <td>2023</td>\n",
       "      <td>0.200000</td>\n",
       "    </tr>\n",
       "    <tr>\n",
       "      <th>5</th>\n",
       "      <td>Tablet</td>\n",
       "      <td>3</td>\n",
       "      <td>120</td>\n",
       "      <td>2023</td>\n",
       "      <td>0.000000</td>\n",
       "    </tr>\n",
       "    <tr>\n",
       "      <th>6</th>\n",
       "      <td>Notebook</td>\n",
       "      <td>1</td>\n",
       "      <td>80</td>\n",
       "      <td>2023</td>\n",
       "      <td>NaN</td>\n",
       "    </tr>\n",
       "    <tr>\n",
       "      <th>7</th>\n",
       "      <td>Notebook</td>\n",
       "      <td>2</td>\n",
       "      <td>90</td>\n",
       "      <td>2023</td>\n",
       "      <td>0.125000</td>\n",
       "    </tr>\n",
       "    <tr>\n",
       "      <th>8</th>\n",
       "      <td>Notebook</td>\n",
       "      <td>3</td>\n",
       "      <td>100</td>\n",
       "      <td>2023</td>\n",
       "      <td>0.111111</td>\n",
       "    </tr>\n",
       "  </tbody>\n",
       "</table>\n",
       "</div>"
      ],
      "text/plain": [
       "    Produto  Mês  Vendas   Ano  Variação Percentual\n",
       "0   Celular    1     150  2023                  NaN\n",
       "1   Celular    2     180  2023             0.200000\n",
       "2   Celular    3     200  2023             0.111111\n",
       "3    Tablet    1     100  2023                  NaN\n",
       "4    Tablet    2     120  2023             0.200000\n",
       "5    Tablet    3     120  2023             0.000000\n",
       "6  Notebook    1      80  2023                  NaN\n",
       "7  Notebook    2      90  2023             0.125000\n",
       "8  Notebook    3     100  2023             0.111111"
      ]
     },
     "execution_count": 74,
     "metadata": {},
     "output_type": "execute_result"
    }
   ],
   "source": [
    "df['Variação Percentual'] = df.groupby('Produto')['Vendas'].pct_change()\n",
    "\n",
    "mes_maior_variacao = df.loc[df['Variação Percentual'].idxmax()]['Mês']\n",
    "mes_menor_variacao = df.loc[df['Variação Percentual'].idxmin()]['Mês']\n",
    "print(f'Mês de Maior Variação: {mes_maior_variacao}\\nMês de Menor Variação: {mes_menor_variacao}')\n",
    "\n",
    "df"
   ]
  },
  {
   "cell_type": "code",
   "execution_count": 56,
   "metadata": {},
   "outputs": [],
   "source": [
    "media_vendas = vendas_series.mean()\n",
    "medianda_vendas = vendas_series.median()\n",
    "min_vendas = vendas_series.min()\n",
    "max_vendas = vendas_series.max()"
   ]
  },
  {
   "cell_type": "code",
   "execution_count": 68,
   "metadata": {},
   "outputs": [
    {
     "data": {
      "text/plain": [
       "<Figure size 500x300 with 0 Axes>"
      ]
     },
     "metadata": {},
     "output_type": "display_data"
    },
    {
     "data": {
      "image/png": "[encoded data removed]",
      "text/plain": [
       "<Figure size 640x480 with 1 Axes>"
      ]
     },
     "metadata": {},
     "output_type": "display_data"
    }
   ],
   "source": [
    "df_grouped = df.groupby(['Mês', 'Produto'])['Vendas'].sum().unstack()\n",
    "\n",
    "# Plotar gráfico\n",
    "plt.figure(figsize=(5,3))\n",
    "# Não mostrar gráfico com barras juntas, separar\n",
    "df_grouped.plot(kind='bar', stacked=False)\n",
    "\n",
    "plt.title(\"Vendas por Produto ao longo do Tempo\")\n",
    "plt.xlabel(\"Mês\")\n",
    "plt.ylabel(\"Vendas\")\n",
    "plt.xticks(rotation=45)\n",
    "plt.legend(title='Produto')\n",
    "plt.grid(axis='y')\n",
    "plt.tight_layout()\n",
    "plt.show()"
   ]
  },
  {
   "attachments": {},
   "cell_type": "markdown",
   "metadata": {},
   "source": [
    "# Exercício:"
   ]
  },
  {
   "cell_type": "code",
   "execution_count": 75,
   "metadata": {},
   "outputs": [
    {
     "data": {
      "text/html": [
       "<div>\n",
       "<style scoped>\n",
       "    .dataframe tbody tr th:only-of-type {\n",
       "        vertical-align: middle;\n",
       "    }\n",
       "\n",
       "    .dataframe tbody tr th {\n",
       "        vertical-align: top;\n",
       "    }\n",
       "\n",
       "    .dataframe thead th {\n",
       "        text-align: right;\n",
       "    }\n",
       "</style>\n",
       "<table border=\"1\" class=\"dataframe\">\n",
       "  <thead>\n",
       "    <tr style=\"text-align: right;\">\n",
       "      <th></th>\n",
       "      <th>Data</th>\n",
       "      <th>Produto</th>\n",
       "      <th>Quantidade</th>\n",
       "    </tr>\n",
       "  </thead>\n",
       "  <tbody>\n",
       "    <tr>\n",
       "      <th>0</th>\n",
       "      <td>1/1/2024</td>\n",
       "      <td>Ar Frio</td>\n",
       "      <td>100</td>\n",
       "    </tr>\n",
       "    <tr>\n",
       "      <th>1</th>\n",
       "      <td>1/2/2024</td>\n",
       "      <td>Ar Frio</td>\n",
       "      <td>120</td>\n",
       "    </tr>\n",
       "    <tr>\n",
       "      <th>2</th>\n",
       "      <td>1/3/2024</td>\n",
       "      <td>Ar Frio</td>\n",
       "      <td>130</td>\n",
       "    </tr>\n",
       "    <tr>\n",
       "      <th>3</th>\n",
       "      <td>1/4/2024</td>\n",
       "      <td>Ar Frio</td>\n",
       "      <td>110</td>\n",
       "    </tr>\n",
       "    <tr>\n",
       "      <th>4</th>\n",
       "      <td>1/5/2024</td>\n",
       "      <td>Ar Frio</td>\n",
       "      <td>150</td>\n",
       "    </tr>\n",
       "    <tr>\n",
       "      <th>5</th>\n",
       "      <td>1/1/2024</td>\n",
       "      <td>Ventilador</td>\n",
       "      <td>150</td>\n",
       "    </tr>\n",
       "    <tr>\n",
       "      <th>6</th>\n",
       "      <td>1/2/2024</td>\n",
       "      <td>Ventilador</td>\n",
       "      <td>140</td>\n",
       "    </tr>\n",
       "    <tr>\n",
       "      <th>7</th>\n",
       "      <td>1/3/2024</td>\n",
       "      <td>Ventilador</td>\n",
       "      <td>160</td>\n",
       "    </tr>\n",
       "    <tr>\n",
       "      <th>8</th>\n",
       "      <td>1/4/2024</td>\n",
       "      <td>Ventilador</td>\n",
       "      <td>130</td>\n",
       "    </tr>\n",
       "    <tr>\n",
       "      <th>9</th>\n",
       "      <td>1/5/2024</td>\n",
       "      <td>Ventilador</td>\n",
       "      <td>170</td>\n",
       "    </tr>\n",
       "    <tr>\n",
       "      <th>10</th>\n",
       "      <td>1/1/2024</td>\n",
       "      <td>Ar Quente</td>\n",
       "      <td>80</td>\n",
       "    </tr>\n",
       "    <tr>\n",
       "      <th>11</th>\n",
       "      <td>1/2/2024</td>\n",
       "      <td>Ar Quente</td>\n",
       "      <td>90</td>\n",
       "    </tr>\n",
       "    <tr>\n",
       "      <th>12</th>\n",
       "      <td>1/3/2024</td>\n",
       "      <td>Ar Quente</td>\n",
       "      <td>100</td>\n",
       "    </tr>\n",
       "    <tr>\n",
       "      <th>13</th>\n",
       "      <td>1/4/2024</td>\n",
       "      <td>Ar Quente</td>\n",
       "      <td>85</td>\n",
       "    </tr>\n",
       "    <tr>\n",
       "      <th>14</th>\n",
       "      <td>1/5/2024</td>\n",
       "      <td>Ar Quente</td>\n",
       "      <td>95</td>\n",
       "    </tr>\n",
       "  </tbody>\n",
       "</table>\n",
       "</div>"
      ],
      "text/plain": [
       "        Data     Produto  Quantidade\n",
       "0   1/1/2024     Ar Frio         100\n",
       "1   1/2/2024     Ar Frio         120\n",
       "2   1/3/2024     Ar Frio         130\n",
       "3   1/4/2024     Ar Frio         110\n",
       "4   1/5/2024     Ar Frio         150\n",
       "5   1/1/2024  Ventilador         150\n",
       "6   1/2/2024  Ventilador         140\n",
       "7   1/3/2024  Ventilador         160\n",
       "8   1/4/2024  Ventilador         130\n",
       "9   1/5/2024  Ventilador         170\n",
       "10  1/1/2024   Ar Quente          80\n",
       "11  1/2/2024   Ar Quente          90\n",
       "12  1/3/2024   Ar Quente         100\n",
       "13  1/4/2024   Ar Quente          85\n",
       "14  1/5/2024   Ar Quente          95"
      ]
     },
     "execution_count": 75,
     "metadata": {},
     "output_type": "execute_result"
    }
   ],
   "source": [
    "tabela = {\n",
    "    'Data': ['1/1/2024', '1/2/2024', '1/3/2024', '1/4/2024', '1/5/2024','1/1/2024', '1/2/2024', '1/3/2024', '1/4/2024', '1/5/2024','1/1/2024', '1/2/2024', '1/3/2024', '1/4/2024', '1/5/2024'],\n",
    "    'Produto': ['Ar Frio', 'Ar Frio', 'Ar Frio', 'Ar Frio', 'Ar Frio', 'Ventilador', 'Ventilador', 'Ventilador', 'Ventilador', 'Ventilador', 'Ar Quente', 'Ar Quente', 'Ar Quente', 'Ar Quente', 'Ar Quente'],\n",
    "    'Quantidade': [100, 120, 130, 110, 150, 150, 140, 160, 130, 170, 80, 90, 100, 85, 95]\n",
    "}\n",
    "\n",
    "df = pd.DataFrame(tabela)\n",
    "df"
   ]
  },
  {
   "cell_type": "code",
   "execution_count": 76,
   "metadata": {},
   "outputs": [],
   "source": [
    "df.to_csv('Tabela.csv')"
   ]
  }
 ],
 "metadata": {
  "kernelspec": {
   "display_name": "Python 3",
   "language": "python",
   "name": "python3"
  },
  "language_info": {
   "codemirror_mode": {
    "name": "ipython",
    "version": 3
   },
   "file_extension": ".py",
   "mimetype": "text/x-python",
   "name": "python",
   "nbconvert_exporter": "python",
   "pygments_lexer": "ipython3",
   "version": "3.11.4"
  },
  "orig_nbformat": 4
 },
 "nbformat": 4,
 "nbformat_minor": 2
}
