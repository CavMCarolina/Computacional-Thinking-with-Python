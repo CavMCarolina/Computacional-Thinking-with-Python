{
 "cells": [
  {
   "cell_type": "code",
   "execution_count": 1,
   "metadata": {},
   "outputs": [
    {
     "name": "stdout",
     "output_type": "stream",
     "text": [
      "^C\n",
      "Note: you may need to restart the kernel to use updated packages.\n"
     ]
    },
    {
     "name": "stdout",
     "output_type": "stream",
     "text": [
      "Collecting sympy\n",
      "  Downloading sympy-1.12-py3-none-any.whl (5.7 MB)\n",
      "     ---------------------------------------- 0.0/5.7 MB ? eta -:--:--\n",
      "     ---------------------------------------- 0.0/5.7 MB ? eta -:--:--\n",
      "     ---------------------------------------- 0.0/5.7 MB 487.6 kB/s eta 0:00:12\n",
      "      --------------------------------------- 0.1/5.7 MB 919.0 kB/s eta 0:00:07\n",
      "     - -------------------------------------- 0.2/5.7 MB 1.5 MB/s eta 0:00:04\n",
      "     -- ------------------------------------- 0.4/5.7 MB 2.3 MB/s eta 0:00:03\n",
      "     ------- -------------------------------- 1.1/5.7 MB 5.2 MB/s eta 0:00:01\n",
      "     ------------ --------------------------- 1.8/5.7 MB 7.6 MB/s eta 0:00:01\n",
      "     ---------------- ----------------------- 2.4/5.7 MB 8.9 MB/s eta 0:00:01\n",
      "     -------------------- ------------------- 3.0/5.7 MB 9.5 MB/s eta 0:00:01\n",
      "     ----------------------- ---------------- 3.3/5.7 MB 9.6 MB/s eta 0:00:01\n",
      "     ------------------------------ --------- 4.3/5.7 MB 11.5 MB/s eta 0:00:01\n",
      "     -------------------------------------- - 5.5/5.7 MB 13.0 MB/s eta 0:00:01\n",
      "     ---------------------------------------- 5.7/5.7 MB 12.7 MB/s eta 0:00:00\n",
      "Collecting mpmath>=0.19 (from sympy)\n",
      "  Downloading mpmath-1.3.0-py3-none-any.whl (536 kB)\n",
      "     ---------------------------------------- 0.0/536.2 kB ? eta -:--:--\n",
      "     ------------------------------------- 536.2/536.2 kB 32.9 MB/s eta 0:00:00\n",
      "Installing collected packages: mpmath, sympy\n",
      "Successfully installed mpmath-1.3.0 sympy-1.12\n"
     ]
    }
   ],
   "source": [
    "pip install sympy"
   ]
  },
  {
   "cell_type": "code",
   "execution_count": null,
   "metadata": {},
   "outputs": [],
   "source": [
    "from sympy import *"
   ]
  },
  {
   "attachments": {},
   "cell_type": "markdown",
   "metadata": {},
   "source": [
    "# Equações"
   ]
  },
  {
   "cell_type": "code",
   "execution_count": null,
   "metadata": {},
   "outputs": [],
   "source": [
    "x = Symbol('x')"
   ]
  },
  {
   "cell_type": "code",
   "execution_count": null,
   "metadata": {},
   "outputs": [
    {
     "data": {
      "text/latex": [
       "$\\displaystyle 2 x + 10$"
      ],
      "text/plain": [
       "2*x + 10"
      ]
     },
     "execution_count": 10,
     "metadata": {},
     "output_type": "execute_result"
    }
   ],
   "source": [
    "2 * x + 10"
   ]
  },
  {
   "cell_type": "code",
   "execution_count": null,
   "metadata": {},
   "outputs": [
    {
     "data": {
      "text/latex": [
       "$\\displaystyle 2 x^{2} + 10 x - 5$"
      ],
      "text/plain": [
       "2*x**2 + 10*x - 5"
      ]
     },
     "execution_count": 13,
     "metadata": {},
     "output_type": "execute_result"
    }
   ],
   "source": [
    "2*x**2+10*x-5"
   ]
  },
  {
   "cell_type": "code",
   "execution_count": null,
   "metadata": {},
   "outputs": [
    {
     "data": {
      "text/latex": [
       "$\\displaystyle 8 x + 5$"
      ],
      "text/plain": [
       "8*x + 5"
      ]
     },
     "execution_count": 14,
     "metadata": {},
     "output_type": "execute_result"
    }
   ],
   "source": [
    "10*x-2*x+10-5\n"
   ]
  },
  {
   "cell_type": "code",
   "execution_count": null,
   "metadata": {},
   "outputs": [
    {
     "data": {
      "text/latex": [
       "$\\displaystyle 5 x^{2} - 8 x$"
      ],
      "text/plain": [
       "5*x**2 - 8*x"
      ]
     },
     "execution_count": 15,
     "metadata": {},
     "output_type": "execute_result"
    }
   ],
   "source": [
    "2*x**2+3*x**2+2*x-10*x"
   ]
  },
  {
   "attachments": {},
   "cell_type": "markdown",
   "metadata": {},
   "source": [
    "# Derivadas"
   ]
  },
  {
   "cell_type": "code",
   "execution_count": null,
   "metadata": {},
   "outputs": [
    {
     "data": {
      "text/latex": [
       "$\\displaystyle 10 x^{3} - 20 x + 50$"
      ],
      "text/plain": [
       "10*x**3 - 20*x + 50"
      ]
     },
     "execution_count": 19,
     "metadata": {},
     "output_type": "execute_result"
    }
   ],
   "source": [
    "10*x**3 - 20*x + 50"
   ]
  },
  {
   "cell_type": "code",
   "execution_count": null,
   "metadata": {},
   "outputs": [
    {
     "data": {
      "text/latex": [
       "$\\displaystyle 30 x^{2} - 20$"
      ],
      "text/plain": [
       "30*x**2 - 20"
      ]
     },
     "execution_count": 18,
     "metadata": {},
     "output_type": "execute_result"
    }
   ],
   "source": [
    "(10*x**3 - 20*x + 50).diff(x)"
   ]
  },
  {
   "cell_type": "code",
   "execution_count": null,
   "metadata": {},
   "outputs": [
    {
     "data": {
      "text/latex": [
       "$\\displaystyle \\frac{d}{d x} \\left(10 x^{3} - 20 x + 50\\right)$"
      ],
      "text/plain": [
       "Derivative(10*x**3 - 20*x + 50, x)"
      ]
     },
     "execution_count": 20,
     "metadata": {},
     "output_type": "execute_result"
    }
   ],
   "source": [
    "Derivative(10*x**3 - 20*x + 50)"
   ]
  },
  {
   "cell_type": "code",
   "execution_count": null,
   "metadata": {},
   "outputs": [
    {
     "data": {
      "text/latex": [
       "$\\displaystyle 30 x^{2} - 20$"
      ],
      "text/plain": [
       "30*x**2 - 20"
      ]
     },
     "execution_count": 21,
     "metadata": {},
     "output_type": "execute_result"
    }
   ],
   "source": [
    "Derivative(10*x**3 - 20*x + 50).doit()"
   ]
  },
  {
   "attachments": {},
   "cell_type": "markdown",
   "metadata": {},
   "source": [
    "# Integral"
   ]
  },
  {
   "cell_type": "code",
   "execution_count": null,
   "metadata": {},
   "outputs": [
    {
     "data": {
      "text/latex": [
       "$\\displaystyle \\int \\left(x^{2} + \\sin{\\left(x \\right)}\\right)\\, dx$"
      ],
      "text/plain": [
       "Integral(x**2 + sin(x), x)"
      ]
     },
     "execution_count": 22,
     "metadata": {},
     "output_type": "execute_result"
    }
   ],
   "source": [
    "Integral(x**2 + sin(x))"
   ]
  },
  {
   "attachments": {},
   "cell_type": "markdown",
   "metadata": {},
   "source": [
    "# Problema 1 - média:"
   ]
  },
  {
   "cell_type": "code",
   "execution_count": null,
   "metadata": {},
   "outputs": [
    {
     "data": {
      "text/plain": [
       "7.333333333333333"
      ]
     },
     "execution_count": 23,
     "metadata": {},
     "output_type": "execute_result"
    }
   ],
   "source": [
    "nota1 = 10\n",
    "nota2 = 7\n",
    "nota3 = 5\n",
    "\n",
    "média = (nota1 + nota2 + nota3)/3\n",
    "média"
   ]
  },
  {
   "cell_type": "code",
   "execution_count": null,
   "metadata": {},
   "outputs": [
    {
     "name": "stdout",
     "output_type": "stream",
     "text": [
      "Sua média final é: 2.0\n",
      "Aluno reprovado\n"
     ]
    }
   ],
   "source": [
    "nota1 = float(input(\"Digite sua primeira nota: \"))\n",
    "nota2 = float(input(\"Digite sua segunda nota: \"))\n",
    "nota3 = float(input(\"Digite sua terceira nota: \"))\n",
    "\n",
    "média = (nota1 + nota2 + nota3)/3\n",
    "\n",
    "print(\"Sua média final é:\", média)\n",
    "\n",
    "# Estrutura para atender uma condição\n",
    "if média >= 7:\n",
    "    print(\"Aluno Aprovado\")\n",
    "else:\n",
    "    print(\"Aluno reprovado\")"
   ]
  },
  {
   "attachments": {},
   "cell_type": "markdown",
   "metadata": {},
   "source": [
    "# Problema 2 -  Comparar A e B:"
   ]
  },
  {
   "cell_type": "code",
   "execution_count": null,
   "metadata": {},
   "outputs": [
    {
     "name": "stdout",
     "output_type": "stream",
     "text": [
      "O valor de B é maior que o valor de A 10.0\n"
     ]
    }
   ],
   "source": [
    "valor_a = float(input(\"Digite o valor de A: \"))\n",
    "valor_b = float(input(\"Digite o valor de B: \"))\n",
    "\n",
    "if valor_a > valor_b:\n",
    "    print('O valor A é maior que o valor B', valor_a)\n",
    "else:\n",
    "    print('O valor de B é maior que o valor de A', valor_b)"
   ]
  },
  {
   "cell_type": "code",
   "execution_count": null,
   "metadata": {},
   "outputs": [
    {
     "name": "stdout",
     "output_type": "stream",
     "text": [
      "O valor de B é maior que o valor de A 2.0\n"
     ]
    }
   ],
   "source": [
    "valor_a = float(input(\"Digite o valor de A: \"))\n",
    "valor_b = float(input(\"Digite o valor de B: \"))\n",
    "\n",
    "if valor_a == valor_b:\n",
    "    print('Os valores de A e B são equivalentes', valor_a)\n",
    "elif valor_a > valor_b:\n",
    "    print('O valor A é maior que o valor B', valor_a)\n",
    "else:\n",
    "    print('O valor de B é maior que o valor de A', valor_b)\n",
    "\n"
   ]
  },
  {
   "attachments": {},
   "cell_type": "markdown",
   "metadata": {},
   "source": [
    "# Problema 3 - área do círculo:"
   ]
  },
  {
   "cell_type": "code",
   "execution_count": null,
   "metadata": {},
   "outputs": [
    {
     "name": "stdout",
     "output_type": "stream",
     "text": [
      "Área do círculo é:  3.1416\n"
     ]
    }
   ],
   "source": [
    "raio = float(input('Insira o raio do seu círculo'))\n",
    "pi = 3.1416\n",
    "\n",
    "Área = pi*raio**2\n",
    "\n",
    "if raio <= 0:\n",
    "    print(\"Valor inadequado. Por favor, tente novamente\")\n",
    "else:\n",
    "    print(\"Área do círculo é: \", Área)\n"
   ]
  },
  {
   "cell_type": "code",
   "execution_count": null,
   "metadata": {},
   "outputs": [],
   "source": [
    "raio = float(input('Insira o raio do seu círculo'))\n",
    "pi = 3.1416\n",
    "\n",
    "Área = pi*raio**2\n",
    "\n",
    "if Área > 100:\n",
    "    print(\"Área desejada\", Área)\n",
    "else:\n",
    "    print(\"Área menor que a desejada\", Área)    "
   ]
  },
  {
   "cell_type": "code",
   "execution_count": null,
   "metadata": {},
   "outputs": [
    {
     "name": "stdout",
     "output_type": "stream",
     "text": [
      "Valor inadequado. Por favor, tente novamente\n"
     ]
    }
   ],
   "source": [
    "# Juntar as duas de cima:\n",
    "\n",
    "raio = float(input('Insira o raio do seu círculo'))\n",
    "pi = 3.1416\n",
    "\n",
    "Área = pi*raio**2\n",
    "\n",
    "if raio > 0:\n",
    " if Área > 100:\n",
    "    print(\"Área desejada\", Área)\n",
    " else:\n",
    "    print(\"Área menor que a desejada\", Área)\n",
    "else:\n",
    "    print(\"Valor inadequado. Por favor, tente novamente\")    "
   ]
  },
  {
   "cell_type": "code",
   "execution_count": null,
   "metadata": {},
   "outputs": [
    {
     "name": "stdout",
     "output_type": "stream",
     "text": [
      "Área desejada 314.15999999999997\n"
     ]
    }
   ],
   "source": [
    "# Uso do elif\n",
    "\n",
    "raio = float(input('Insira o raio do seu círculo'))\n",
    "pi = 3.1416\n",
    "\n",
    "Área = pi*raio**2\n",
    "\n",
    "if raio > 0 and Área > 100:\n",
    "    print(\"Área desejada\", Área)\n",
    "elif raio > 0:\n",
    "    print(\"Área menor que a desejada\", Área)\n",
    "else:\n",
    "    print(\"Valor inadequado. Por favor, tente novamente\")    "
   ]
  },
  {
   "attachments": {},
   "cell_type": "markdown",
   "metadata": {},
   "source": [
    "# Problema 4 - definir M ou H:"
   ]
  },
  {
   "cell_type": "code",
   "execution_count": null,
   "metadata": {},
   "outputs": [
    {
     "name": "stdout",
     "output_type": "stream",
     "text": [
      "É homem\n"
     ]
    }
   ],
   "source": [
    "sexo = str(input('Insira o sexo (feminino ou masculino)'))\n",
    "\n",
    "m = ['M', 'm', 'Masculino', 'masculino', 'MASCULINO']\n",
    "f = ['F', 'f', 'Feminino', 'feminino', 'FEMININO']\n",
    "\n",
    "if (sexo in m):\n",
    "    print('sexo masculino')\n",
    "elif (sexo in f):\n",
    "    print('sexo feminino')\n",
    "else:\n",
    "    print('texto inválido. Por favor, tente novamente')        "
   ]
  }
 ],
 "metadata": {
  "kernelspec": {
   "display_name": "Python 3",
   "language": "python",
   "name": "python3"
  },
  "language_info": {
   "codemirror_mode": {
    "name": "ipython",
    "version": 3
   },
   "file_extension": ".py",
   "mimetype": "text/x-python",
   "name": "python",
   "nbconvert_exporter": "python",
   "pygments_lexer": "ipython3",
   "version": "3.11.5"
  },
  "orig_nbformat": 4
 },
 "nbformat": 4,
 "nbformat_minor": 2
}
