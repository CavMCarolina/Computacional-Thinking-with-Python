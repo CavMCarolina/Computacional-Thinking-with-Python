{
 "cells": [
  {
   "attachments": {},
   "cell_type": "markdown",
   "metadata": {},
   "source": [
    "# Decomposição Funcional:"
   ]
  },
  {
   "attachments": {},
   "cell_type": "markdown",
   "metadata": {},
   "source": [
    "## Exemplos:"
   ]
  },
  {
   "cell_type": "code",
   "execution_count": 3,
   "metadata": {},
   "outputs": [
    {
     "data": {
      "text/plain": [
       "38"
      ]
     },
     "execution_count": 3,
     "metadata": {},
     "output_type": "execute_result"
    }
   ],
   "source": [
    "# Cria uma função para elevar um número ao quadrado e armazenar em outra variável\n",
    "def quadrado(n):\n",
    "    q = n**2\n",
    "    return q\n",
    "\n",
    "# Soma 3 variáveis que estão armazenando um número ao quadrado (utilizando a função anterior)\n",
    "def soma_quadrados(x, y, z):\n",
    "    a = quadrado(x)\n",
    "    b = quadrado(y)\n",
    "    c = quadrado(z)\n",
    "    return a + b + c\n",
    "\n",
    "soma_quadrados(2, 3, 5)"
   ]
  },
  {
   "attachments": {},
   "cell_type": "markdown",
   "metadata": {},
   "source": [
    "## Exercícios:"
   ]
  },
  {
   "cell_type": "code",
   "execution_count": 29,
   "metadata": {},
   "outputs": [
    {
     "name": "stdout",
     "output_type": "stream",
     "text": [
      "23.85\n"
     ]
    }
   ],
   "source": [
    "def area(c, l):\n",
    "    a = c * l\n",
    "    return a\n",
    "\n",
    "def print_area():\n",
    "    c = float(input(\"Digite o comprimento em cm: \"))\n",
    "    l = float(input(\"Digite a largura em cm: \"))\n",
    "    return print(\"%.2f\" % area(c, l))\n",
    "\n",
    "print_area()"
   ]
  },
  {
   "cell_type": "code",
   "execution_count": 26,
   "metadata": {},
   "outputs": [
    {
     "name": "stdout",
     "output_type": "stream",
     "text": [
      "Média: 30.0\n"
     ]
    }
   ],
   "source": [
    "lista = [10, 20, 30, 40, 50]\n",
    "\n",
    "def soma():\n",
    "    return sum(lista)\n",
    "\n",
    "def media():\n",
    "    return soma() / len(lista)\n",
    "\n",
    "print(f'Média: {media()}')"
   ]
  },
  {
   "cell_type": "code",
   "execution_count": 23,
   "metadata": {},
   "outputs": [
    {
     "name": "stdout",
     "output_type": "stream",
     "text": [
      "Máximo: 50\n",
      "Mínimo: 10\n",
      "Diferença: 40\n"
     ]
    }
   ],
   "source": [
    "lista = [10, 20, 30, 40, 50]\n",
    "\n",
    "def maximo():\n",
    "    return max(lista)\n",
    "\n",
    "def minimo():\n",
    "    return min(lista)\n",
    "\n",
    "def diferenca():\n",
    "    return maximo() - minimo()\n",
    "\n",
    "print(f'Máximo: {maximo()}\\nMínimo: {minimo()}\\nDiferença: {diferenca()}')"
   ]
  },
  {
   "cell_type": "code",
   "execution_count": 29,
   "metadata": {},
   "outputs": [
    {
     "name": "stdout",
     "output_type": "stream",
     "text": [
      "Valor do desconto: 715.20\n",
      "Valor final do salário: 4052.80\n"
     ]
    }
   ],
   "source": [
    "def salario():\n",
    "    salario = float(input(\"Digite o valor do seu salário: \"))\n",
    "    return salario\n",
    "\n",
    "def desconto(salario):\n",
    "    if salario > 0 and salario <= 2000:\n",
    "        desconto = salario * 0.1\n",
    "        d = salario - desconto\n",
    "    elif salario > 2000 and salario <= 4800:\n",
    "        desconto = salario * 0.15\n",
    "        d = salario - desconto\n",
    "    elif salario > 4800 and salario <= 6000:\n",
    "        desconto = salario * 0.2\n",
    "        d = salario - desconto\n",
    "    else:\n",
    "        desconto = salario * 0.3\n",
    "        d = salario - desconto\n",
    "    return desconto, d\n",
    "\n",
    "desconto, d = desconto(salario())\n",
    "\n",
    "def print_salario():\n",
    "    print(f'Valor do desconto: {desconto:.2f}')\n",
    "    print(f'Valor final do salário: {d:.2f}')\n",
    "\n",
    "print_salario()"
   ]
  },
  {
   "cell_type": "code",
   "execution_count": 24,
   "metadata": {},
   "outputs": [
    {
     "name": "stdout",
     "output_type": "stream",
     "text": [
      "Área: 28.27\n",
      "Seu círculo é pequeno\n"
     ]
    }
   ],
   "source": [
    "def area_circulo():\n",
    "    r = float(input(\"Digite o valor do raio: \"))\n",
    "    pi = 3.1416\n",
    "    a = pi * r**2\n",
    "    return a\n",
    "\n",
    "def classificacao(area):\n",
    "    if area > 100:\n",
    "        c = print(f'Área: {area:.2f}\\nSeu círculo é grande')\n",
    "    elif area > 50:\n",
    "        c = print(f'Área: {area:.2f}\\nSeu círculo é médio')\n",
    "    elif area > 0 and area <= 50:\n",
    "        c = print(f'Área: {area:.2f}\\nSeu círculo é pequeno')\n",
    "    return c\n",
    "\n",
    "classificacao(area_circulo())"
   ]
  },
  {
   "cell_type": "code",
   "execution_count": 53,
   "metadata": {},
   "outputs": [
    {
     "data": {
      "text/plain": [
       "[5, 12, 21, 32]"
      ]
     },
     "execution_count": 53,
     "metadata": {},
     "output_type": "execute_result"
    }
   ],
   "source": [
    "lista1 = [1, 2, 3, 4]\n",
    "lista2 = [5, 6, 7, 8]\n",
    "\n",
    "def multiplacar(a, b):\n",
    "    resultado = a * b\n",
    "    return resultado\n",
    "\n",
    "def multiplicacao_por_indice():\n",
    "    mult = []\n",
    "    for n in range(len(lista1)):\n",
    "        mult.append(multiplacar(lista1[n], lista2[n]))\n",
    "\n",
    "    return mult\n",
    "\n",
    "multiplicacao_por_indice()"
   ]
  },
  {
   "attachments": {},
   "cell_type": "markdown",
   "metadata": {},
   "source": [
    "### Calculadora:"
   ]
  },
  {
   "cell_type": "code",
   "execution_count": 79,
   "metadata": {},
   "outputs": [
    {
     "data": {
      "text/plain": [
       "('+', 7.0)"
      ]
     },
     "execution_count": 79,
     "metadata": {},
     "output_type": "execute_result"
    }
   ],
   "source": [
    "# Calcula apenas uma operação por vez:\n",
    "def soma(a, b):\n",
    "    return a + b\n",
    "\n",
    "def subtracao(a, b):\n",
    "    return a - b\n",
    "\n",
    "def divisao(a, b):\n",
    "    return a / b\n",
    "\n",
    "def multiplicacao(a, b):\n",
    "    return a * b\n",
    "\n",
    "def calcular():\n",
    "    op = input(\"Qual operação deseja fazer? Responda apenas com +, -, / ou * \")\n",
    "    a = float(input(\"Qual será o seu primeiro número?\"))\n",
    "    b = float(input(\"Qual será o seu segundo número?\"))\n",
    "\n",
    "    if op == '+':\n",
    "        return op, soma(a, b)\n",
    "    elif op == '-':\n",
    "        return op, subtracao(a, b)\n",
    "    elif op == '/':\n",
    "        return op, divisao(a, b)\n",
    "    elif op == '*':\n",
    "        return op, multiplicacao(a, b)\n",
    "    else:\n",
    "        print(\"Por favor, insira uma operação válida\")\n",
    "        return calcular()\n",
    "\n",
    "calcular()"
   ]
  },
  {
   "cell_type": "code",
   "execution_count": 80,
   "metadata": {},
   "outputs": [
    {
     "data": {
      "text/plain": [
       "[5, 2, 2.0, 10]"
      ]
     },
     "execution_count": 80,
     "metadata": {},
     "output_type": "execute_result"
    }
   ],
   "source": [
    "# Calcula uma expressão numérica\n",
    "def soma(a, b):\n",
    "    return a + b\n",
    "\n",
    "def subtracao(a, b):\n",
    "    return a - b\n",
    "\n",
    "def divisao(a, b):\n",
    "    return a / b\n",
    "\n",
    "def multiplicacao(a, b):\n",
    "    return a * b\n",
    "\n",
    "def calcular(operacoes):\n",
    "    resultado = []\n",
    "    for op, a, b in operacoes:\n",
    "        if op == '+':\n",
    "            resultado.append(soma(a, b))\n",
    "        elif op == '-':\n",
    "            resultado.append(subtracao(a, b))\n",
    "        elif op == '/':\n",
    "            resultado.append(divisao(a, b))\n",
    "        else:\n",
    "            resultado.append(multiplicacao(a, b))\n",
    "    return resultado\n",
    "\n",
    "expressao = [('+', 2, 3), ('-', 4, 2), ('/', 10, 5), ('*', 2, 5)]\n",
    "calcular(expressao)"
   ]
  }
 ],
 "metadata": {
  "kernelspec": {
   "display_name": "Python 3",
   "language": "python",
   "name": "python3"
  },
  "language_info": {
   "codemirror_mode": {
    "name": "ipython",
    "version": 3
   },
   "file_extension": ".py",
   "mimetype": "text/x-python",
   "name": "python",
   "nbconvert_exporter": "python",
   "pygments_lexer": "ipython3",
   "version": "3.11.4"
  },
  "orig_nbformat": 4
 },
 "nbformat": 4,
 "nbformat_minor": 2
}
