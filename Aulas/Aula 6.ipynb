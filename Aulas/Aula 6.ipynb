{
 "cells": [
  {
   "cell_type": "code",
   "execution_count": null,
   "metadata": {},
   "outputs": [],
   "source": [
    "# Listas relacionadas com informação faltando:\n",
    "\n",
    "# Var 1 |  Var 2 | Var 3 | Saída\n",
    "#  ---  |  ---   |  ---  |  ---\n",
    "#  ---  |        |  ---  |   ?\n",
    "\n",
    "# Opções:\n",
    "# 1- Dropar tudo (código com 1 milhão de linahs pode ficar com 1k)\n",
    "# 2- Preencher com informações da própria coluna, como média, mediana, soma, etc.\n",
    "  # OBS: só é possível fazer isso se os dados seguirem o padrão "
   ]
  },
  {
   "cell_type": "code",
   "execution_count": 1,
   "metadata": {},
   "outputs": [
    {
     "name": "stdout",
     "output_type": "stream",
     "text": [
      "[1, 2, 3, 4, 5, 6]\n"
     ]
    }
   ],
   "source": [
    "# Exemplo 1:\n",
    "\n",
    "lista1 = [1,2,3]\n",
    "lista2 = [4,5,6]\n",
    "\n",
    "soma = lista1 + lista2\n",
    "print(soma)"
   ]
  },
  {
   "cell_type": "code",
   "execution_count": 2,
   "metadata": {},
   "outputs": [
    {
     "name": "stdout",
     "output_type": "stream",
     "text": [
      "[5, 7, 9]\n"
     ]
    }
   ],
   "source": [
    "# Exemplo 2:\n",
    "\n",
    "lista1 = [1,2,3]\n",
    "lista2 = [4,5,6]\n",
    "\n",
    "# zip = permite fazer operações matemáticas com o que está dentro da lista\n",
    "combine = [a + b for a, b in zip(lista1, lista2)]\n",
    "print(combine)\n",
    "\n",
    "# Código explicado:\n",
    "# a = lista1 e b = lista2\n",
    "# a + b = somar valores da lista\n",
    "# for = percorre as listas, mudar o valor que vai somar de a e b de acordo com a posição\n",
    "# zip = Permite combinar os valores percorridos"
   ]
  },
  {
   "cell_type": "code",
   "execution_count": 12,
   "metadata": {},
   "outputs": [
    {
     "name": "stdout",
     "output_type": "stream",
     "text": [
      "{('Honda', 134), ('Mitsubishi', 120), ('Volvo', 180), ('BMW', 300)}\n"
     ]
    }
   ],
   "source": [
    "# Exemplo 3:\n",
    "\n",
    "carro = ['Mitsubishi', 'Honda', 'Volvo', 'BMW', 'BMW']\n",
    "potencia = [120, 134, 180, 300, 300]\n",
    "\n",
    "combine = set(zip(carro, potencia))\n",
    "# set = junta texto e número, não mostra repedidos e não é ordenado\n",
    "print(combine)"
   ]
  },
  {
   "cell_type": "code",
   "execution_count": 7,
   "metadata": {},
   "outputs": [
    {
     "name": "stdout",
     "output_type": "stream",
     "text": [
      "0 Messi 36\n",
      "1 Zidane 51\n",
      "2 Ronaldo Fenômeno 47\n"
     ]
    }
   ],
   "source": [
    "# Exemplo 4:\n",
    "\n",
    "nomes = ['Messi', 'Zidane', 'Ronaldo Fenômeno']\n",
    "idades = [36, 51, 47]\n",
    "\n",
    "for i, (nome, idade) in enumerate(zip(nomes, idades)):\n",
    "    print(i, nome,idade)"
   ]
  },
  {
   "cell_type": "code",
   "execution_count": 11,
   "metadata": {},
   "outputs": [
    {
     "name": "stdout",
     "output_type": "stream",
     "text": [
      "[(1, 'a', 'peixes'), (2, 'b', 'pássaros'), (3, 'c', 'répteis')]\n"
     ]
    }
   ],
   "source": [
    "# Exemplo 5:\n",
    "\n",
    "lista1 = [1, 2, 3]\n",
    "lista2 = ['a', 'b', 'c']\n",
    "lista3 = ['peixes', 'pássaros', 'répteis']\n",
    "\n",
    "combine = list(zip(lista1, lista2, lista3))\n",
    "print(combine)"
   ]
  },
  {
   "cell_type": "code",
   "execution_count": 9,
   "metadata": {},
   "outputs": [
    {
     "name": "stdout",
     "output_type": "stream",
     "text": [
      "['b', 'd']\n"
     ]
    }
   ],
   "source": [
    "# Exemplo 6 - Mostrar apenas as letras da lista 2 que estiverem em posição par na lista 1:\n",
    "\n",
    "lista1 = [1, 2, 3, 4, 5]\n",
    "lista2 = ['a', 'b', 'c', 'd', 'e']\n",
    "\n",
    "combine = [b for a, b in zip(lista1, lista2) if a %2 == 0]\n",
    "print(combine)"
   ]
  },
  {
   "cell_type": "code",
   "execution_count": 35,
   "metadata": {},
   "outputs": [
    {
     "name": "stdout",
     "output_type": "stream",
     "text": [
      "[(1, 10), (2, 20), (3, 30), (4, 100), (5, 100)]\n"
     ]
    }
   ],
   "source": [
    "# Exemplo 7:\n",
    "\n",
    "lista1 = [1, 2, 3, 4, 5]\n",
    "lista2 = [10, 20, 30]\n",
    "\n",
    "from itertools import zip_longest\n",
    "\n",
    "# Verifica o comprimento das listas e possibilita o preenchimento da lista com menor comprimento\n",
    "combine = list(zip_longest(lista1, lista2, fillvalue = 100))\n",
    "print(combine)"
   ]
  },
  {
   "attachments": {},
   "cell_type": "markdown",
   "metadata": {},
   "source": [
    "# Exercícios:"
   ]
  },
  {
   "cell_type": "code",
   "execution_count": 10,
   "metadata": {},
   "outputs": [
    {
     "name": "stdout",
     "output_type": "stream",
     "text": [
      "['c', 'd', 'e']\n"
     ]
    }
   ],
   "source": [
    "# Exercício 1:\n",
    "\n",
    "lista1 = [1, 2, 3, 4, 5]\n",
    "lista2 = ['a', 'b', 'c', 'd', 'e']\n",
    "\n",
    "combine = [b for a, b in zip(lista1, lista2) if a >= 3]\n",
    "print(combine)"
   ]
  },
  {
   "cell_type": "code",
   "execution_count": 14,
   "metadata": {},
   "outputs": [
    {
     "name": "stdout",
     "output_type": "stream",
     "text": [
      "Os números pares são [8, 12, 0] e os ímpares [9, 7, 13, 21, 25]\n"
     ]
    }
   ],
   "source": [
    "# Exercício 2:\n",
    "\n",
    "pares = []\n",
    "impares = []\n",
    "lista = [9, 8, 7, 12, 0, 13, 21, 25]\n",
    "\n",
    "for numero in lista:\n",
    "    if numero %2 == 0:\n",
    "        pares.append(numero)\n",
    "    elif numero %2 != 0:\n",
    "        impares.append(numero)\n",
    "print(f'Os números pares são {pares} e os ímpares {impares}')"
   ]
  },
  {
   "cell_type": "code",
   "execution_count": 29,
   "metadata": {},
   "outputs": [
    {
     "name": "stdout",
     "output_type": "stream",
     "text": [
      "[('João', 45, 'diabetes'), ('Pedro', 30, 'diabetes')]\n"
     ]
    }
   ],
   "source": [
    "# Exercício 3 - Jeito do prof\n",
    "\n",
    "pacientes = ['João', 'Maria', 'Pedro', 'Ana']\n",
    "idades = [45, 60, 30, 50]\n",
    "condiçao = ['diabetes', 'hipertensão', 'diabetes', 'asma']\n",
    "\n",
    "combine = [(a, b, c) for a, b, c in zip(pacientes, idades, condiçao) if c == 'diabetes']\n",
    "print(combine)\n"
   ]
  },
  {
   "cell_type": "code",
   "execution_count": 34,
   "metadata": {},
   "outputs": [
    {
     "name": "stdout",
     "output_type": "stream",
     "text": [
      "[('banana', 25.0), ('laranja', 6.0), ('uva', 6), ('maçã', 6), ('pera', 27.0)]\n"
     ]
    }
   ],
   "source": [
    "# Exercício 4:\n",
    "\n",
    "preço = [2.50, 1.20, 3, 2, 4.50]\n",
    "quantidade = [10, 5, 2, 3, 6]\n",
    "frutas = ['banana', 'laranja', 'uva', 'maçã', 'pera']\n",
    "\n",
    "combine = [a*b for a, b, c in zip(preço, quantidade, frutas)]\n",
    "total = list(zip(frutas, combine))\n",
    "print(total)"
   ]
  }
 ],
 "metadata": {
  "kernelspec": {
   "display_name": "Python 3",
   "language": "python",
   "name": "python3"
  },
  "language_info": {
   "codemirror_mode": {
    "name": "ipython",
    "version": 3
   },
   "file_extension": ".py",
   "mimetype": "text/x-python",
   "name": "python",
   "nbconvert_exporter": "python",
   "pygments_lexer": "ipython3",
   "version": "3.11.4"
  },
  "orig_nbformat": 4
 },
 "nbformat": 4,
 "nbformat_minor": 2
}
