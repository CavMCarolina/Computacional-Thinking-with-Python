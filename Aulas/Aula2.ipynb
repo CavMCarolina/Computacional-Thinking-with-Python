{
 "cells": [
  {
   "attachments": {},
   "cell_type": "markdown",
   "metadata": {},
   "source": [
    "# Correção de Exercícios:"
   ]
  },
  {
   "cell_type": "code",
   "execution_count": 9,
   "metadata": {},
   "outputs": [
    {
     "name": "stdout",
     "output_type": "stream",
     "text": [
      "sexo feminino\n",
      "FEMININO\n"
     ]
    }
   ],
   "source": [
    "#Exercício 1 - Sexualidade:\n",
    "\n",
    "sexo = str(input('Insira o sexo (feminino ou masculino)'))\n",
    "\n",
    "m = ['M', 'm', 'Masculino', 'masculino', 'MASCULINO']\n",
    "f = ['F', 'f', 'Feminino', 'feminino', 'FEMININO']\n",
    "\n",
    "if (sexo in m):\n",
    "    print('sexo masculino')\n",
    "elif (sexo in f):\n",
    "    print('sexo feminino')\n",
    "else:\n",
    "    print('texto inválido. Por favor, tente novamente')\n",
    "\n",
    "print(sexo)"
   ]
  },
  {
   "cell_type": "code",
   "execution_count": 11,
   "metadata": {},
   "outputs": [
    {
     "name": "stdout",
     "output_type": "stream",
     "text": [
      "A energia é: 150000000.0 GJoules\n",
      "Massa é: 5.0 Kg\n"
     ]
    }
   ],
   "source": [
    "# Exercício 2 - Potência:\n",
    "\n",
    "massa = float(input(\"Inserir o valor da massa em kg\"))\n",
    "\n",
    "#pow = 10**8\n",
    "energia = massa * (3* pow(10,8) ** 2)/10**9\n",
    "\n",
    "print(\"A energia é:\", energia, \"GJoules\")\n",
    "print(\"Massa é:\", massa,\"Kg\")"
   ]
  },
  {
   "cell_type": "code",
   "execution_count": 10,
   "metadata": {},
   "outputs": [
    {
     "name": "stdout",
     "output_type": "stream",
     "text": [
      "Adulto-Jovem\n",
      "34 anos\n"
     ]
    }
   ],
   "source": [
    "# Exercício 3 - Idade:\n",
    "\n",
    "idade = int(input(\"Inserir idade: \"))\n",
    "\n",
    "if idade >0 and idade <= 12:\n",
    "    print(\"Criança\")\n",
    "elif idade > 12 and idade <= 20:\n",
    "    print(\"Adolescente\")\n",
    "elif idade > 20 and idade <= 40:\n",
    "    print(\"Adulto-Jovem\")\n",
    "elif idade > 40 and idade <= 65:\n",
    "    print(\"Meia-Idade\")\n",
    "elif idade <= 0:\n",
    "    print(\"Idade inválida\")\n",
    "else:\n",
    "    print(\"Idoso\") \n",
    "\n",
    "print(idade,\"anos\")"
   ]
  },
  {
   "cell_type": "code",
   "execution_count": 17,
   "metadata": {},
   "outputs": [
    {
     "name": "stdout",
     "output_type": "stream",
     "text": [
      "Sua média foi de 7.0\n",
      "Suas notas foram: 8.0 , 6.0 , 4.0 , 7.0\n",
      "A menor nota foi removida da média:  4.0\n"
     ]
    }
   ],
   "source": [
    "# Exercício 4 - Média com 3 maiores notas:\n",
    "\n",
    "n1 = float(input(\"Insira sua primeira nota: \"))\n",
    "n2 = float(input(\"Insira sua segunda nota: \"))\n",
    "n3 = float(input(\"Insira sua terceira nota: \"))\n",
    "n4 = float(input(\"Insira sua última nota: \"))\n",
    "\n",
    "notas = [n1, n2, n3, n4] # lista das notas\n",
    "nota_minima = min(notas) # min = calcula a nota mínima\n",
    "notas.remove(nota_minima) # remove a nota mínima\n",
    "media = sum(notas)/3 # média das notas restantes\n",
    "\n",
    "print(\"Sua média foi de\", media)\n",
    "print(\"Suas notas foram:\", n1,\",\", n2,\",\", n3,\",\", n4)\n",
    "print(\"A menor nota foi removida da média: \", nota_minima)"
   ]
  },
  {
   "cell_type": "code",
   "execution_count": 38,
   "metadata": {},
   "outputs": [
    {
     "name": "stdout",
     "output_type": "stream",
     "text": [
      "Corrente = 0.0 A\n",
      "Resistência = 5.0 Ω\n",
      "Tensão = 2.0 V\n",
      "0.8\n"
     ]
    }
   ],
   "source": [
    "# Exercicio 5 - Potência:\n",
    "\n",
    "i = float(input(\"Insira um valor para a corrente\"))\n",
    "R = float(input(\"Insira um valor para a resistência\"))\n",
    "V = float(input(\"Insira um valor para a tensão\"))\n",
    "\n",
    "print(\"Corrente =\", i, \"A\")\n",
    "print(\"Resistência =\", R, \"Ω\")\n",
    "print(\"Tensão =\", V, \"V\")\n",
    "\n",
    "if i != 0 and V != 0 and R != 0:\n",
    "    print(i*V)\n",
    "elif i ==0 and R == 0:\n",
    "    print(\"Não é possível calcular a potência\")\n",
    "elif V==0 and R==0:\n",
    "    print(\"Não é possível calcular a potência\")\n",
    "elif V==0 and i==0:\n",
    "    print(\"Não é possível calcular a potência\")\n",
    "elif i==0:\n",
    "    print(V**2/R)\n",
    "elif V==0:\n",
    "    print(i**2*R)\n",
    "elif R==0:\n",
    "    print(i*V)\n",
    "else:\n",
    "    print(\"Valor inválido. Por favor, tente novamente.\")"
   ]
  },
  {
   "attachments": {},
   "cell_type": "markdown",
   "metadata": {},
   "source": [
    "# Conceitos de Variáveis"
   ]
  }
 ],
 "metadata": {
  "kernelspec": {
   "display_name": "Python 3",
   "language": "python",
   "name": "python3"
  },
  "language_info": {
   "codemirror_mode": {
    "name": "ipython",
    "version": 3
   },
   "file_extension": ".py",
   "mimetype": "text/x-python",
   "name": "python",
   "nbconvert_exporter": "python",
   "pygments_lexer": "ipython3",
   "version": "3.11.4"
  },
  "orig_nbformat": 4
 },
 "nbformat": 4,
 "nbformat_minor": 2
}
