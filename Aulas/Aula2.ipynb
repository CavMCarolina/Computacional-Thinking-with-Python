{
 "cells": [
  {
   "attachments": {},
   "cell_type": "markdown",
   "metadata": {},
   "source": [
    "# Correção de Exercícios:"
   ]
  },
  {
   "cell_type": "code",
   "execution_count": 9,
   "metadata": {},
   "outputs": [
    {
     "name": "stdout",
     "output_type": "stream",
     "text": [
      "sexo feminino\n",
      "FEMININO\n"
     ]
    }
   ],
   "source": [
    "#Exercício 1 - Sexualidade:\n",
    "\n",
    "sexo = str(input('Insira o sexo (feminino ou masculino)'))\n",
    "\n",
    "m = ['M', 'm', 'Masculino', 'masculino', 'MASCULINO']\n",
    "f = ['F', 'f', 'Feminino', 'feminino', 'FEMININO']\n",
    "\n",
    "if (sexo in m):\n",
    "    print('sexo masculino')\n",
    "elif (sexo in f):\n",
    "    print('sexo feminino')\n",
    "else:\n",
    "    print('texto inválido. Por favor, tente novamente')\n",
    "\n",
    "print(sexo)"
   ]
  },
  {
   "cell_type": "code",
   "execution_count": 11,
   "metadata": {},
   "outputs": [
    {
     "name": "stdout",
     "output_type": "stream",
     "text": [
      "A energia é: 150000000.0 GJoules\n",
      "Massa é: 5.0 Kg\n"
     ]
    }
   ],
   "source": [
    "# Exercício 2 - Potência:\n",
    "\n",
    "massa = float(input(\"Inserir o valor da massa em kg\"))\n",
    "\n",
    "#pow = 10**8\n",
    "energia = massa * (3* pow(10,8) ** 2)/10**9\n",
    "\n",
    "print(\"A energia é:\", energia, \"GJoules\")\n",
    "print(\"Massa é:\", massa,\"Kg\")"
   ]
  },
  {
   "cell_type": "code",
   "execution_count": 10,
   "metadata": {},
   "outputs": [
    {
     "name": "stdout",
     "output_type": "stream",
     "text": [
      "Adulto-Jovem\n",
      "34 anos\n"
     ]
    }
   ],
   "source": [
    "# Exercício 3 - Idade:\n",
    "\n",
    "idade = int(input(\"Inserir idade: \"))\n",
    "\n",
    "if idade >0 and idade <= 12:\n",
    "    print(\"Criança\")\n",
    "elif idade > 12 and idade <= 20:\n",
    "    print(\"Adolescente\")\n",
    "elif idade > 20 and idade <= 40:\n",
    "    print(\"Adulto-Jovem\")\n",
    "elif idade > 40 and idade <= 65:\n",
    "    print(\"Meia-Idade\")\n",
    "elif idade <= 0:\n",
    "    print(\"Idade inválida\")\n",
    "else:\n",
    "    print(\"Idoso\") \n",
    "\n",
    "print(idade,\"anos\")"
   ]
  },
  {
   "cell_type": "code",
   "execution_count": 17,
   "metadata": {},
   "outputs": [
    {
     "name": "stdout",
     "output_type": "stream",
     "text": [
      "Sua média foi de 7.0\n",
      "Suas notas foram: 8.0 , 6.0 , 4.0 , 7.0\n",
      "A menor nota foi removida da média:  4.0\n"
     ]
    }
   ],
   "source": [
    "# Exercício 4 - Média com 3 maiores notas:\n",
    "\n",
    "n1 = float(input(\"Insira sua primeira nota: \"))\n",
    "n2 = float(input(\"Insira sua segunda nota: \"))\n",
    "n3 = float(input(\"Insira sua terceira nota: \"))\n",
    "n4 = float(input(\"Insira sua última nota: \"))\n",
    "\n",
    "notas = [n1, n2, n3, n4] # lista das notas\n",
    "nota_minima = min(notas) # min = calcula a nota mínima\n",
    "notas.remove(nota_minima) # remove a nota mínima\n",
    "media = sum(notas)/3 # média das notas restantes\n",
    "\n",
    "print(\"Sua média foi de\", media)\n",
    "print(\"Suas notas foram:\", n1,\",\", n2,\",\", n3,\",\", n4)\n",
    "print(\"A menor nota foi removida da média: \", nota_minima)"
   ]
  },
  {
   "cell_type": "code",
   "execution_count": 38,
   "metadata": {},
   "outputs": [
    {
     "name": "stdout",
     "output_type": "stream",
     "text": [
      "Corrente = 0.0 A\n",
      "Resistência = 5.0 Ω\n",
      "Tensão = 2.0 V\n",
      "0.8\n"
     ]
    }
   ],
   "source": [
    "# Exercicio 5 - Potência:\n",
    "\n",
    "i = float(input(\"Insira um valor para a corrente\"))\n",
    "R = float(input(\"Insira um valor para a resistência\"))\n",
    "V = float(input(\"Insira um valor para a tensão\"))\n",
    "\n",
    "print(\"Corrente =\", i, \"A\")\n",
    "print(\"Resistência =\", R, \"Ω\")\n",
    "print(\"Tensão =\", V, \"V\")\n",
    "\n",
    "if i != 0 and V != 0 and R != 0:\n",
    "    print(i*V)\n",
    "elif i ==0 and R == 0:\n",
    "    print(\"Não é possível calcular a potência\")\n",
    "elif V==0 and R==0:\n",
    "    print(\"Não é possível calcular a potência\")\n",
    "elif V==0 and i==0:\n",
    "    print(\"Não é possível calcular a potência\")\n",
    "elif i==0:\n",
    "    print(V**2/R)\n",
    "elif V==0:\n",
    "    print(i**2*R)\n",
    "elif R==0:\n",
    "    print(i*V)\n",
    "else:\n",
    "    print(\"Valor inválido. Por favor, tente novamente.\")"
   ]
  },
  {
   "attachments": {},
   "cell_type": "markdown",
   "metadata": {},
   "source": [
    "# Conceitos de Variáveis"
   ]
  },
  {
   "cell_type": "code",
   "execution_count": 43,
   "metadata": {},
   "outputs": [],
   "source": [
    "a = True\n",
    "b = False\n",
    "c = True"
   ]
  },
  {
   "cell_type": "code",
   "execution_count": 44,
   "metadata": {},
   "outputs": [
    {
     "data": {
      "text/plain": [
       "False"
      ]
     },
     "execution_count": 44,
     "metadata": {},
     "output_type": "execute_result"
    }
   ],
   "source": [
    "a and b"
   ]
  },
  {
   "cell_type": "code",
   "execution_count": 45,
   "metadata": {},
   "outputs": [
    {
     "data": {
      "text/plain": [
       "True"
      ]
     },
     "execution_count": 45,
     "metadata": {},
     "output_type": "execute_result"
    }
   ],
   "source": [
    "b or c"
   ]
  },
  {
   "attachments": {},
   "cell_type": "markdown",
   "metadata": {},
   "source": [
    "# Expressões Lógicas"
   ]
  },
  {
   "cell_type": "code",
   "execution_count": 1,
   "metadata": {},
   "outputs": [
    {
     "name": "stdout",
     "output_type": "stream",
     "text": [
      "A média será:  7.666666666666667\n",
      "Matérias:  6.0 8.0 9.0\n",
      "Aprovado\n"
     ]
    }
   ],
   "source": [
    "materia1 = float(input(\"Valor da primeira matéria: \"))\n",
    "materia2 = float(input(\"Valor da segunda matéria: \"))\n",
    "materia3 = float(input(\"Valor da terceira matéria: \"))\n",
    "\n",
    "soma = [materia1, materia2, materia3]\n",
    "\n",
    "media = sum(soma)/3\n",
    "\n",
    "print(\"A média será: \", media)\n",
    "print(\"Matérias: \", materia1, materia2, materia3)\n",
    "\n",
    "if 7 <= media <= 10:\n",
    "    print(\"Aprovado\")\n",
    "elif 0 <= media < 7:\n",
    "    print(\"Reprovado\")\n",
    "else:\n",
    "    print(\"Erro. Por favor, coloque números válidos\")"
   ]
  },
  {
   "cell_type": "markdown",
   "metadata": {},
   "source": [
    "# String:"
   ]
  },
  {
   "cell_type": "code",
   "execution_count": 1,
   "metadata": {},
   "outputs": [
    {
     "data": {
      "text/plain": [
       "'joão e maria comem pão'"
      ]
     },
     "execution_count": 1,
     "metadata": {},
     "output_type": "execute_result"
    }
   ],
   "source": [
    "a = \"joão e maria comem pão\"\n",
    "a"
   ]
  },
  {
   "cell_type": "code",
   "execution_count": 2,
   "metadata": {},
   "outputs": [
    {
     "data": {
      "text/plain": [
       "22"
      ]
     },
     "execution_count": 2,
     "metadata": {},
     "output_type": "execute_result"
    }
   ],
   "source": [
    "# len = conta a quantidade de caracteres, contando com espaço\n",
    "b = len(\"joão e maria comem pão\")\n",
    "b"
   ]
  },
  {
   "cell_type": "code",
   "execution_count": 4,
   "metadata": {},
   "outputs": [
    {
     "data": {
      "text/plain": [
       "'i'"
      ]
     },
     "execution_count": 4,
     "metadata": {},
     "output_type": "execute_result"
    }
   ],
   "source": [
    "# traz as letras que correspondem a posição dentro do colchete, começando pela 0\n",
    "a[10]"
   ]
  },
  {
   "cell_type": "code",
   "execution_count": 5,
   "metadata": {},
   "outputs": [
    {
     "data": {
      "text/plain": [
       "'j'"
      ]
     },
     "execution_count": 5,
     "metadata": {},
     "output_type": "execute_result"
    }
   ],
   "source": [
    "a[0]"
   ]
  },
  {
   "cell_type": "code",
   "execution_count": 6,
   "metadata": {},
   "outputs": [
    {
     "data": {
      "text/plain": [
       "' e mar'"
      ]
     },
     "execution_count": 6,
     "metadata": {},
     "output_type": "execute_result"
    }
   ],
   "source": [
    "# Fatiamento\n",
    "a[4:10]"
   ]
  },
  {
   "cell_type": "code",
   "execution_count": 7,
   "metadata": {},
   "outputs": [
    {
     "data": {
      "text/plain": [
       "'ia comem pão'"
      ]
     },
     "execution_count": 7,
     "metadata": {},
     "output_type": "execute_result"
    }
   ],
   "source": [
    "a[10:]"
   ]
  },
  {
   "cell_type": "code",
   "execution_count": 8,
   "metadata": {},
   "outputs": [
    {
     "data": {
      "text/plain": [
       "'Python'"
      ]
     },
     "execution_count": 8,
     "metadata": {},
     "output_type": "execute_result"
    }
   ],
   "source": [
    "# Concatenação\n",
    "s = \"Py\"\n",
    "s + \"thon\""
   ]
  },
  {
   "cell_type": "code",
   "execution_count": 9,
   "metadata": {},
   "outputs": [
    {
     "data": {
      "text/plain": [
       "'Python é Interessante'"
      ]
     },
     "execution_count": 9,
     "metadata": {},
     "output_type": "execute_result"
    }
   ],
   "source": [
    "a = \"Python\"\n",
    "a + \" é \" + \"Interessante\" #lembrar dos espaços"
   ]
  },
  {
   "cell_type": "code",
   "execution_count": 10,
   "metadata": {},
   "outputs": [
    {
     "data": {
      "text/plain": [
       "'Python é Interessante'"
      ]
     },
     "execution_count": 10,
     "metadata": {},
     "output_type": "execute_result"
    }
   ],
   "source": [
    "a = \"Python\"\n",
    "b = \" é \"\n",
    "c = \"Interessante\"\n",
    "a + b + c"
   ]
  },
  {
   "cell_type": "code",
   "execution_count": 12,
   "metadata": {},
   "outputs": [
    {
     "data": {
      "text/plain": [
       "'20.6'"
      ]
     },
     "execution_count": 12,
     "metadata": {},
     "output_type": "execute_result"
    }
   ],
   "source": [
    "# Composição\n",
    "# %d = inteiros; %f = decimais(float); %s = string \n",
    "\n",
    "\"%2.1f\" % 20.555\n"
   ]
  },
  {
   "cell_type": "code",
   "execution_count": 13,
   "metadata": {},
   "outputs": [
    {
     "data": {
      "text/plain": [
       "'00003'"
      ]
     },
     "execution_count": 13,
     "metadata": {},
     "output_type": "execute_result"
    }
   ],
   "source": [
    "# direita do ponto = limitar casas depois da vírgula\n",
    "\"%.5d\" % 3"
   ]
  },
  {
   "cell_type": "code",
   "execution_count": 14,
   "metadata": {},
   "outputs": [
    {
     "data": {
      "text/plain": [
       "'João tem 20 anos e apenas R$1200.00 no bolso'"
      ]
     },
     "execution_count": 14,
     "metadata": {},
     "output_type": "execute_result"
    }
   ],
   "source": [
    "\"%s tem %d anos e apenas R$%.2f no bolso\"%(\"João\", 20, 1200)\n",
    "\n",
    "# %s = string\n",
    "# %d = inteiro\n",
    "# %f = float"
   ]
  },
  {
   "cell_type": "code",
   "execution_count": 15,
   "metadata": {},
   "outputs": [
    {
     "data": {
      "text/plain": [
       "'João tem 22 anos e apenas R$500.50 no bolso'"
      ]
     },
     "execution_count": 15,
     "metadata": {},
     "output_type": "execute_result"
    }
   ],
   "source": [
    "nome = \"João\"\n",
    "idade = 22\n",
    "grana = 500.50\n",
    "\n",
    "\"%s tem %d anos e apenas R$%.2f no bolso\"%(nome, idade, grana)"
   ]
  },
  {
   "cell_type": "code",
   "execution_count": 16,
   "metadata": {},
   "outputs": [
    {
     "data": {
      "text/plain": [
       "'João tem 22 anos e R$500.5 no bolso.'"
      ]
     },
     "execution_count": 16,
     "metadata": {},
     "output_type": "execute_result"
    }
   ],
   "source": [
    "# format = preencher lacunas\n",
    "\"{} tem {} anos e R${} no bolso.\".format(nome, idade, grana)"
   ]
  },
  {
   "cell_type": "code",
   "execution_count": 17,
   "metadata": {},
   "outputs": [
    {
     "data": {
      "text/plain": [
       "'João tem 22 anos e apenas R$500.5 no bolso'"
      ]
     },
     "execution_count": 17,
     "metadata": {},
     "output_type": "execute_result"
    }
   ],
   "source": [
    "f\"{nome} tem {idade} anos e apenas R${grana} no bolso\""
   ]
  },
  {
   "attachments": {},
   "cell_type": "markdown",
   "metadata": {},
   "source": [
    "# Sequência e Tempo:"
   ]
  },
  {
   "cell_type": "code",
   "execution_count": null,
   "metadata": {},
   "outputs": [],
   "source": [
    "# Sequência e Tempo:\n",
    "\n",
    "divida = 0\n",
    "\n",
    "divida = divida + float(input(\"Valor da compra\"))\n",
    "pagamento = float(input(\"Valor pago\"))\n",
    "\n",
    "divida = divida - pagamento\n",
    "divida = divida + float(input(\"Valor da compra\"))\n",
    "pagamento = float(input(\"Valor pago\"))\n",
    "\n",
    "divida = divida - pagamento\n",
    "\n",
    "print(\"O valor da dívida será: \", divida)"
   ]
  },
  {
   "attachments": {},
   "cell_type": "markdown",
   "metadata": {},
   "source": [
    "# Entrada de Dados:"
   ]
  },
  {
   "cell_type": "code",
   "execution_count": 2,
   "metadata": {},
   "outputs": [
    {
     "name": "stdout",
     "output_type": "stream",
     "text": [
      "Seja bem-vindo(a) Carolina!\n"
     ]
    }
   ],
   "source": [
    "nome = input(\"Digite seu nome: \")\n",
    "print(f'Seja bem-vindo(a) {nome}!')"
   ]
  },
  {
   "cell_type": "code",
   "execution_count": 1,
   "metadata": {},
   "outputs": [
    {
     "name": "stdout",
     "output_type": "stream",
     "text": [
      "O valor do bônus será: R$24000.00\n"
     ]
    }
   ],
   "source": [
    "# int = converte o valor para um número inteiro \n",
    "\n",
    "anos = int(input(\"Anos de trabalho\"))\n",
    "valor_por_ano = float(input(\"Valor por ano\"))\n",
    "\n",
    "bonus = valor_por_ano * anos\n",
    "\n",
    "print(f'O valor do bônus será: R${bonus:5.2f}')"
   ]
  }
 ],
 "metadata": {
  "kernelspec": {
   "display_name": "Python 3",
   "language": "python",
   "name": "python3"
  },
  "language_info": {
   "codemirror_mode": {
    "name": "ipython",
    "version": 3
   },
   "file_extension": ".py",
   "mimetype": "text/x-python",
   "name": "python",
   "nbconvert_exporter": "python",
   "pygments_lexer": "ipython3",
   "version": "3.11.5"
  },
  "orig_nbformat": 4
 },
 "nbformat": 4,
 "nbformat_minor": 2
}
