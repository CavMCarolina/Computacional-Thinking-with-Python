{
 "cells": [
  {
   "attachments": {},
   "cell_type": "markdown",
   "metadata": {},
   "source": [
    "# Tupla x Lista\n",
    "\n",
    "## Tupla:\n",
    "- É uma sequência de dados imutáveis;\n",
    "- Utiliza-se entre parênteses ( );\n",
    "- Iteração mais rápida;\n",
    "- Consome menos memória;\n",
    "- Maior segurança;\n",
    "- Menos métodos embutidos;\n",
    "- Útil para operações somente leitura, como acessar elementos\n",
    "\n",
    "## Lista:\n",
    "- Sequência de dados mutáveis;\n",
    "- Utiliza-se entre colchetes [ ];\n",
    "- Iteração mais lenta;\n",
    "- Consome mais memória;\n",
    "- Mais proprensa a erros;\n",
    "- Muitos métodos integrados;\n",
    "- Útil para operações de inserção e exclusão (ex: agendamento de consultas)\n",
    "\n",
    "# Vetor:\n",
    "- Lista que armazena um único tipo de dados\n",
    "- Unidimensional = [1, 2, 3, 4]\n",
    "- Bidimensional = [[1, 2, 3], [4, 5, 6,], [7, 8 ,9]]\n",
    "- Tridimensional = [\n",
    " Camada]"
   ]
  },
  {
   "attachments": {},
   "cell_type": "markdown",
   "metadata": {},
   "source": [
    "# Exemplos - Tupla:"
   ]
  },
  {
   "cell_type": "code",
   "execution_count": 1,
   "metadata": {},
   "outputs": [
    {
     "name": "stdout",
     "output_type": "stream",
     "text": [
      "6 7 1 3\n"
     ]
    }
   ],
   "source": [
    "# Tupla dentro de tupla:\n",
    "tuplas = ((6, 7, 8), (1, 2, 3))\n",
    "a = tuplas[0][0]\n",
    "b = tuplas[0][1]\n",
    "c = tuplas[1][0]\n",
    "d = tuplas[1][2]\n",
    "\n",
    "print(a, b, c, d)"
   ]
  },
  {
   "cell_type": "code",
   "execution_count": 3,
   "metadata": {},
   "outputs": [
    {
     "name": "stdout",
     "output_type": "stream",
     "text": [
      "s t r i n g\n"
     ]
    }
   ],
   "source": [
    "# Tupla -> string\n",
    "string = (('t', 'i', 's'), ('r', 'n', 'g'))\n",
    "s = string[0][2]\n",
    "t = string[0][0]\n",
    "r = string[1][0]\n",
    "i = string[0][1]\n",
    "n = string[1][1]\n",
    "g = string[1][2]\n",
    "\n",
    "print(s, t, r, i, n, g)"
   ]
  },
  {
   "cell_type": "code",
   "execution_count": 11,
   "metadata": {},
   "outputs": [
    {
     "data": {
      "text/plain": [
       "('foo', [1, 2], True)"
      ]
     },
     "execution_count": 11,
     "metadata": {},
     "output_type": "execute_result"
    }
   ],
   "source": [
    "tupla = tuple(['foo', [1, 2], True])\n",
    "tupla"
   ]
  },
  {
   "cell_type": "code",
   "execution_count": 5,
   "metadata": {},
   "outputs": [
    {
     "ename": "TypeError",
     "evalue": "'tuple' object does not support item assignment",
     "output_type": "error",
     "traceback": [
      "\u001b[1;31m---------------------------------------------------------------------------\u001b[0m",
      "\u001b[1;31mTypeError\u001b[0m                                 Traceback (most recent call last)",
      "Cell \u001b[1;32mIn[5], line 1\u001b[0m\n\u001b[1;32m----> 1\u001b[0m tupla[\u001b[39m2\u001b[39;49m] \u001b[39m=\u001b[39m \u001b[39mFalse\u001b[39;00m\n",
      "\u001b[1;31mTypeError\u001b[0m: 'tuple' object does not support item assignment"
     ]
    }
   ],
   "source": [
    "# Imutável\n",
    "tupla[2] = False"
   ]
  },
  {
   "cell_type": "code",
   "execution_count": 13,
   "metadata": {},
   "outputs": [
    {
     "data": {
      "text/plain": [
       "('foo', [1, 2, 3, 5], True)"
      ]
     },
     "execution_count": 13,
     "metadata": {},
     "output_type": "execute_result"
    }
   ],
   "source": [
    "# Caso um dos objetos dentro da tupla seja mutável (como uma lista), é possível modificá-la\n",
    "tupla[1].append(3)\n",
    "tupla[1].append(5)\n",
    "tupla"
   ]
  },
  {
   "cell_type": "code",
   "execution_count": 15,
   "metadata": {},
   "outputs": [
    {
     "data": {
      "text/plain": [
       "('hoje', 'foo', [1, 2], True)"
      ]
     },
     "execution_count": 15,
     "metadata": {},
     "output_type": "execute_result"
    }
   ],
   "source": [
    "tupla = tuple(['foo', [1, 2], True])\n",
    "lista = list(tupla)\n",
    "lista.insert(0, 'hoje')\n",
    "nova_tupla = tuple(lista)\n",
    "nova_tupla"
   ]
  },
  {
   "cell_type": "code",
   "execution_count": 16,
   "metadata": {},
   "outputs": [
    {
     "data": {
      "text/plain": [
       "('foo', 'hoje', [1, 2], True)"
      ]
     },
     "execution_count": 16,
     "metadata": {},
     "output_type": "execute_result"
    }
   ],
   "source": [
    "# tupla[0] = tupla.index('foo') + 1 ~> tupla x lista\n",
    "tupla = tuple(['foo', [1, 2], True])\n",
    "lista = list(tupla)\n",
    "posicao_insercao = lista.index('foo') + 1 # adicionar o 'hoje' DEPOIS do 'foo'\n",
    "lista.insert(posicao_insercao, 'hoje')\n",
    "nova_tupla = tuple(lista)\n",
    "nova_tupla"
   ]
  },
  {
   "cell_type": "code",
   "execution_count": 17,
   "metadata": {},
   "outputs": [
    {
     "data": {
      "text/plain": [
       "(4, None, 'foo', 6, 0, 'bar', 1)"
      ]
     },
     "execution_count": 17,
     "metadata": {},
     "output_type": "execute_result"
    }
   ],
   "source": [
    "# Junção de tuplas\n",
    "(4, None, 'foo') + (6, 0) + ('bar', 1)"
   ]
  },
  {
   "cell_type": "code",
   "execution_count": 18,
   "metadata": {},
   "outputs": [
    {
     "name": "stdout",
     "output_type": "stream",
     "text": [
      "8\n",
      "16\n",
      "24\n"
     ]
    }
   ],
   "source": [
    "tupla = (4, 8, 12)\n",
    "\n",
    "for n in tupla:\n",
    "    novo_numero = n * 2\n",
    "    print(novo_numero)"
   ]
  },
  {
   "cell_type": "code",
   "execution_count": 20,
   "metadata": {},
   "outputs": [
    {
     "data": {
      "text/plain": [
       "(8, 16, 24)"
      ]
     },
     "execution_count": 20,
     "metadata": {},
     "output_type": "execute_result"
    }
   ],
   "source": [
    "tupla = (4, 8, 12)\n",
    "nova_tupla = []\n",
    "\n",
    "for n in tupla:\n",
    "    novo_numero = n * 2\n",
    "    nova_tupla.append(novo_numero)\n",
    "\n",
    "nova_tupla = tuple(nova_tupla)\n",
    "nova_tupla"
   ]
  },
  {
   "cell_type": "code",
   "execution_count": 22,
   "metadata": {},
   "outputs": [
    {
     "name": "stdout",
     "output_type": "stream",
     "text": [
      "Tupla 1: (4, 5, 6)\n",
      "Tupla 2: (4, 5, (6, 7))\n"
     ]
    }
   ],
   "source": [
    "tupla = (4, 5, 6)\n",
    "a, b, c = tupla\n",
    "\n",
    "tupla2 = 4, 5, (6, 7)\n",
    "a, b, (c, d) = tupla2\n",
    "\n",
    "print(f'Tupla 1: {tupla}\\nTupla 2: {tupla2}')"
   ]
  },
  {
   "cell_type": "code",
   "execution_count": 25,
   "metadata": {},
   "outputs": [
    {
     "name": "stdout",
     "output_type": "stream",
     "text": [
      "2 1\n"
     ]
    }
   ],
   "source": [
    "# Inversão de variáveis\n",
    "a, b = 1, 2\n",
    "b, a = a, b\n",
    "\n",
    "print(a, b)"
   ]
  },
  {
   "cell_type": "code",
   "execution_count": 69,
   "metadata": {},
   "outputs": [
    {
     "name": "stdout",
     "output_type": "stream",
     "text": [
      "[4, None, 'foo', 7, 8, (2, 3)]\n"
     ]
    }
   ],
   "source": [
    "# [4, None, 'foo'] + [7, 8, (2, 3)]\n",
    "x = [4, None, 'foo']\n",
    "x.extend([7, 8, (2, 3)])\n",
    "print(x)"
   ]
  },
  {
   "cell_type": "code",
   "execution_count": 70,
   "metadata": {},
   "outputs": [
    {
     "name": "stdout",
     "output_type": "stream",
     "text": [
      "[1, 2, 3, 4, 5, 6, 7, 8, 9]\n"
     ]
    }
   ],
   "source": [
    "lista = [[1, 2, 3], [4, 5, 6], [7, 8, 9]] # pedaco = listas dentro da lista (não os números)\n",
    "\n",
    "all = []\n",
    "\n",
    "for pedaco in lista:\n",
    "    all.extend(pedaco)\n",
    "print(all)"
   ]
  },
  {
   "cell_type": "code",
   "execution_count": 23,
   "metadata": {},
   "outputs": [
    {
     "name": "stdout",
     "output_type": "stream",
     "text": [
      "[1, 2, 3, 5, 7] ['He', 'saw', 'six', 'small', 'foxes']\n"
     ]
    }
   ],
   "source": [
    "\n",
    "a= [7, 2, 5, 1, 3]\n",
    "a.sort() # ~> organiza em valor crescente\n",
    "\n",
    "b = ['saw', 'small', 'He', 'foxes', 'six']\n",
    "b.sort(key=len) # ~> organiza pelo tamanho da palavra (e por ordem alfabética automaticamente)\n",
    "# b.sort() ~> apenas ordem alfabética\n",
    "\n",
    "print(a, b)"
   ]
  },
  {
   "cell_type": "code",
   "execution_count": 83,
   "metadata": {},
   "outputs": [
    {
     "name": "stdout",
     "output_type": "stream",
     "text": [
      "[2, 3, 7, 5]\n",
      "[7]\n",
      "[7, 2, 3, 7, 5]\n",
      "[7, 5, 6, 0, 1]\n",
      "[5, 6, 0, 1]\n"
     ]
    }
   ],
   "source": [
    "# Pegar apenas uma parte da lista:\n",
    "seq = [7, 2, 3, 7, 5, 6, 0, 1]\n",
    "print(seq[1:5])\n",
    "print(seq[3:4])\n",
    "print(seq[:5])\n",
    "print(seq[3:])\n",
    "print(seq[-4:]) # pega os 4 últimos números"
   ]
  },
  {
   "cell_type": "code",
   "execution_count": 84,
   "metadata": {},
   "outputs": [
    {
     "name": "stdout",
     "output_type": "stream",
     "text": [
      "[7, 3, 5, 0]\n",
      "[7, 7, 0]\n"
     ]
    }
   ],
   "source": [
    "# :: = espaçamento do intervalo\n",
    "print(seq[::2])\n",
    "print(seq[::3])"
   ]
  },
  {
   "attachments": {},
   "cell_type": "markdown",
   "metadata": {},
   "source": [
    "# Exercícios:"
   ]
  },
  {
   "attachments": {},
   "cell_type": "markdown",
   "metadata": {},
   "source": [
    "## Lista de exercícios 1:"
   ]
  },
  {
   "cell_type": "code",
   "execution_count": 31,
   "metadata": {},
   "outputs": [],
   "source": [
    "frutas = ('maçã', 'banana', 'laranja', 'uva')"
   ]
  },
  {
   "cell_type": "code",
   "execution_count": 32,
   "metadata": {},
   "outputs": [
    {
     "data": {
      "text/plain": [
       "'banana'"
      ]
     },
     "execution_count": 32,
     "metadata": {},
     "output_type": "execute_result"
    }
   ],
   "source": [
    "frutas[1]"
   ]
  },
  {
   "cell_type": "code",
   "execution_count": 33,
   "metadata": {},
   "outputs": [
    {
     "data": {
      "text/plain": [
       "('maçã', 'banana', 'manga', 'uva')"
      ]
     },
     "execution_count": 33,
     "metadata": {},
     "output_type": "execute_result"
    }
   ],
   "source": [
    "lista = list(frutas)\n",
    "lista.remove('laranja')\n",
    "lista.insert(2, 'manga')\n",
    "tupla_modificada = tuple(lista)\n",
    "tupla_modificada"
   ]
  },
  {
   "cell_type": "code",
   "execution_count": 35,
   "metadata": {},
   "outputs": [
    {
     "data": {
      "text/plain": [
       "('maçã', 'banana', 'manga', 'uva', 'abacaxi', 'limão')"
      ]
     },
     "execution_count": 35,
     "metadata": {},
     "output_type": "execute_result"
    }
   ],
   "source": [
    "frutas_concatenadas = tupla_modificada + ('abacaxi', 'limão')\n",
    "frutas_concatenadas"
   ]
  },
  {
   "cell_type": "code",
   "execution_count": 36,
   "metadata": {},
   "outputs": [
    {
     "name": "stdout",
     "output_type": "stream",
     "text": [
      "Uva está na lista!\n"
     ]
    }
   ],
   "source": [
    "if 'uva' in frutas_concatenadas:\n",
    "    print(\"Uva está na lista!\")\n",
    "else:\n",
    "    print(\"Uva não está na lista\")"
   ]
  },
  {
   "cell_type": "code",
   "execution_count": 39,
   "metadata": {},
   "outputs": [
    {
     "name": "stdout",
     "output_type": "stream",
     "text": [
      "O índice da banana na lista frutas_concatenadas é: 1\n"
     ]
    }
   ],
   "source": [
    "print(\"O índice da banana na lista frutas_concatenadas é:\", frutas_concatenadas.index('banana'))"
   ]
  },
  {
   "cell_type": "code",
   "execution_count": 71,
   "metadata": {},
   "outputs": [
    {
     "name": "stdout",
     "output_type": "stream",
     "text": [
      "Uva aparece 1 vez(es) na tupla\n"
     ]
    }
   ],
   "source": [
    "# Antes de saber o que era o count\n",
    "c = 0\n",
    "for f in frutas_concatenadas:\n",
    "    if f == 'uva':\n",
    "        c += 1\n",
    "print(f'Uva aparece {c} vez(es) na tupla')\n",
    "\n",
    "# Usando count:\n",
    "# print(\"Uva aparece\", frutas_concatenadas.count('uva'), \"vez(es)\")\n",
    "# OU\n",
    "# contagem = frutas_concatenadas.count('uva')\n",
    "# print(f'Uva aparece {contagem} vez(es) na tupla')"
   ]
  },
  {
   "cell_type": "code",
   "execution_count": 41,
   "metadata": {},
   "outputs": [],
   "source": [
    "numeros = (1, 2, 3, 4, 5)"
   ]
  },
  {
   "cell_type": "code",
   "execution_count": 47,
   "metadata": {},
   "outputs": [
    {
     "name": "stdout",
     "output_type": "stream",
     "text": [
      "(2, 4, 6, 8, 10)\n"
     ]
    }
   ],
   "source": [
    "numeros_dobrados = []\n",
    "\n",
    "for n in numeros:\n",
    "    multiplicacao = n*2\n",
    "    numeros_dobrados.append(multiplicacao)\n",
    "    \n",
    "numeros_dobrados = tuple(numeros_dobrados)\n",
    "print(numeros_dobrados)"
   ]
  },
  {
   "cell_type": "code",
   "execution_count": 67,
   "metadata": {},
   "outputs": [
    {
     "name": "stdout",
     "output_type": "stream",
     "text": [
      "(2, 4, 6, 8, 10)\n"
     ]
    }
   ],
   "source": [
    "# Jeito do prof:\n",
    "numeros_dobrados = tuple(n * 2 for n in numeros)\n",
    "print(numeros_dobrados)"
   ]
  },
  {
   "attachments": {},
   "cell_type": "markdown",
   "metadata": {},
   "source": [
    "## Lista de exerícios 2:"
   ]
  },
  {
   "cell_type": "code",
   "execution_count": 1,
   "metadata": {},
   "outputs": [
    {
     "data": {
      "text/plain": [
       "[1, 2, 3, 4, 5, 6, 7, 8, 9, 10]"
      ]
     },
     "execution_count": 1,
     "metadata": {},
     "output_type": "execute_result"
    }
   ],
   "source": [
    "numeros = [1,2,3,4,5,6,7,8,9,10]\n",
    "numeros"
   ]
  },
  {
   "cell_type": "code",
   "execution_count": 2,
   "metadata": {},
   "outputs": [
    {
     "data": {
      "text/plain": [
       "[2, 4, 6, 8, 10]"
      ]
     },
     "execution_count": 2,
     "metadata": {},
     "output_type": "execute_result"
    }
   ],
   "source": [
    "pares = []\n",
    "\n",
    "def add_pares():\n",
    "    for n in numeros:\n",
    "        if n % 2 == 0:\n",
    "            pares.append(n)\n",
    "    return pares\n",
    "\n",
    "add_pares()"
   ]
  },
  {
   "cell_type": "code",
   "execution_count": 3,
   "metadata": {},
   "outputs": [
    {
     "data": {
      "text/plain": [
       "10"
      ]
     },
     "execution_count": 3,
     "metadata": {},
     "output_type": "execute_result"
    }
   ],
   "source": [
    "def maior():\n",
    "    return max(numeros)\n",
    "\n",
    "maior()"
   ]
  },
  {
   "cell_type": "code",
   "execution_count": 8,
   "metadata": {},
   "outputs": [
    {
     "data": {
      "text/plain": [
       "['CASA', 'COMIDA', 'CAMA', 'CHOCOLATE', 'DOCES', 'SONO']"
      ]
     },
     "execution_count": 8,
     "metadata": {},
     "output_type": "execute_result"
    }
   ],
   "source": [
    "palavras = ['casa', 'comida', 'cama', 'chocolate', 'doces', 'sono']\n",
    "\n",
    "def maiuscula():\n",
    "    maiusculas = []\n",
    "    for palavra in palavras:\n",
    "        maiusculas.append(palavra.upper())\n",
    "    return maiusculas\n",
    "\n",
    "maiuscula()"
   ]
  },
  {
   "cell_type": "code",
   "execution_count": 10,
   "metadata": {},
   "outputs": [
    {
     "data": {
      "text/plain": [
       "55"
      ]
     },
     "execution_count": 10,
     "metadata": {},
     "output_type": "execute_result"
    }
   ],
   "source": [
    "soma = sum(numeros)\n",
    "soma"
   ]
  },
  {
   "cell_type": "code",
   "execution_count": 17,
   "metadata": {},
   "outputs": [
    {
     "name": "stdout",
     "output_type": "stream",
     "text": [
      "Quantidade de números maiores que 5: 5\n"
     ]
    }
   ],
   "source": [
    "def maiores_que_5():\n",
    "    maiores = []\n",
    "    for n in numeros:\n",
    "        if n > 5:\n",
    "            maiores.append(n)\n",
    "    return len(maiores)\n",
    "\n",
    "print(f'Quantidade de números maiores que 5: {maiores_que_5()}')"
   ]
  },
  {
   "cell_type": "code",
   "execution_count": 39,
   "metadata": {},
   "outputs": [
    {
     "name": "stdout",
     "output_type": "stream",
     "text": [
      "['aula', 'balcão', 'cadeira', 'mochila']\n"
     ]
    }
   ],
   "source": [
    "strings = ['aula', 'cadeira', 'mochila', 'balcão']\n",
    "strings.sort()\n",
    "print(strings)\n",
    "# OU\n",
    "# ordernada = sorted(strings)\n",
    "# print(ordernada)\n",
    "\n",
    "# sort vs sorted?\n",
    "# Explicação Blackbox AI Chat:\n",
    "# The sort() function in Python sorts the list in-place, meaning that it modifies the original list and returns None. If you want to keep the original list and get a sorted version, you should use the sorted() function instead.\n",
    "# In your case, you can sort the list in descending order by setting the reverse parameter to True in the sorted() function."
   ]
  },
  {
   "cell_type": "code",
   "execution_count": null,
   "metadata": {},
   "outputs": [],
   "source": [
    "repetidos = [1,2,3,1,2,3,4,1,2,3,4,5]\n",
    "\n",
    "def nao_repetidos():"
   ]
  }
 ],
 "metadata": {
  "kernelspec": {
   "display_name": "Python 3",
   "language": "python",
   "name": "python3"
  },
  "language_info": {
   "codemirror_mode": {
    "name": "ipython",
    "version": 3
   },
   "file_extension": ".py",
   "mimetype": "text/x-python",
   "name": "python",
   "nbconvert_exporter": "python",
   "pygments_lexer": "ipython3",
   "version": "3.11.4"
  },
  "orig_nbformat": 4
 },
 "nbformat": 4,
 "nbformat_minor": 2
}
