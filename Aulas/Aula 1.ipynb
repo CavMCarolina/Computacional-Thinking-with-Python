{
 "cells": [
  {
   "cell_type": "code",
   "execution_count": null,
   "metadata": {},
   "outputs": [],
   "source": [
    "pip install sympy "
   ]
  },
  {
   "cell_type": "code",
   "execution_count": 4,
   "metadata": {},
   "outputs": [],
   "source": [
    "from sympy import *"
   ]
  },
  {
   "attachments": {},
   "cell_type": "markdown",
   "metadata": {},
   "source": [
    "# Equações"
   ]
  },
  {
   "cell_type": "code",
   "execution_count": 5,
   "metadata": {},
   "outputs": [],
   "source": [
    "x = Symbol('x')"
   ]
  },
  {
   "cell_type": "code",
   "execution_count": 6,
   "metadata": {},
   "outputs": [
    {
     "data": {
      "text/latex": [
       "$\\displaystyle 2 x + 10$"
      ],
      "text/plain": [
       "2*x + 10"
      ]
     },
     "execution_count": 6,
     "metadata": {},
     "output_type": "execute_result"
    }
   ],
   "source": [
    "2 * x + 10"
   ]
  },
  {
   "cell_type": "code",
   "execution_count": 7,
   "metadata": {},
   "outputs": [
    {
     "data": {
      "text/latex": [
       "$\\displaystyle 2 x^{2} + 10 x - 5$"
      ],
      "text/plain": [
       "2*x**2 + 10*x - 5"
      ]
     },
     "execution_count": 7,
     "metadata": {},
     "output_type": "execute_result"
    }
   ],
   "source": [
    "2*x**2+10*x-5"
   ]
  },
  {
   "cell_type": "code",
   "execution_count": 8,
   "metadata": {},
   "outputs": [
    {
     "data": {
      "text/latex": [
       "$\\displaystyle 8 x + 5$"
      ],
      "text/plain": [
       "8*x + 5"
      ]
     },
     "execution_count": 8,
     "metadata": {},
     "output_type": "execute_result"
    }
   ],
   "source": [
    "10*x-2*x+10-5\n"
   ]
  },
  {
   "cell_type": "code",
   "execution_count": 9,
   "metadata": {},
   "outputs": [
    {
     "data": {
      "text/latex": [
       "$\\displaystyle 5 x^{2} - 8 x$"
      ],
      "text/plain": [
       "5*x**2 - 8*x"
      ]
     },
     "execution_count": 9,
     "metadata": {},
     "output_type": "execute_result"
    }
   ],
   "source": [
    "2*x**2+3*x**2+2*x-10*x"
   ]
  },
  {
   "attachments": {},
   "cell_type": "markdown",
   "metadata": {},
   "source": [
    "# Derivadas"
   ]
  },
  {
   "cell_type": "code",
   "execution_count": 10,
   "metadata": {},
   "outputs": [
    {
     "data": {
      "text/latex": [
       "$\\displaystyle 10 x^{3} - 20 x + 50$"
      ],
      "text/plain": [
       "10*x**3 - 20*x + 50"
      ]
     },
     "execution_count": 10,
     "metadata": {},
     "output_type": "execute_result"
    }
   ],
   "source": [
    "10*x**3 - 20*x + 50"
   ]
  },
  {
   "cell_type": "code",
   "execution_count": 11,
   "metadata": {},
   "outputs": [
    {
     "data": {
      "text/latex": [
       "$\\displaystyle 30 x^{2} - 20$"
      ],
      "text/plain": [
       "30*x**2 - 20"
      ]
     },
     "execution_count": 11,
     "metadata": {},
     "output_type": "execute_result"
    }
   ],
   "source": [
    "(10*x**3 - 20*x + 50).diff(x)"
   ]
  },
  {
   "cell_type": "code",
   "execution_count": 12,
   "metadata": {},
   "outputs": [
    {
     "data": {
      "text/latex": [
       "$\\displaystyle \\frac{d}{d x} \\left(10 x^{3} - 20 x + 50\\right)$"
      ],
      "text/plain": [
       "Derivative(10*x**3 - 20*x + 50, x)"
      ]
     },
     "execution_count": 12,
     "metadata": {},
     "output_type": "execute_result"
    }
   ],
   "source": [
    "Derivative(10*x**3 - 20*x + 50)"
   ]
  },
  {
   "cell_type": "code",
   "execution_count": 13,
   "metadata": {},
   "outputs": [
    {
     "data": {
      "text/latex": [
       "$\\displaystyle 30 x^{2} - 20$"
      ],
      "text/plain": [
       "30*x**2 - 20"
      ]
     },
     "execution_count": 13,
     "metadata": {},
     "output_type": "execute_result"
    }
   ],
   "source": [
    "Derivative(10*x**3 - 20*x + 50).doit()"
   ]
  },
  {
   "attachments": {},
   "cell_type": "markdown",
   "metadata": {},
   "source": [
    "# Integral"
   ]
  },
  {
   "cell_type": "code",
   "execution_count": null,
   "metadata": {},
   "outputs": [
    {
     "data": {
      "text/latex": [
       "$\\displaystyle \\int \\left(x^{2} + \\sin{\\left(x \\right)}\\right)\\, dx$"
      ],
      "text/plain": [
       "Integral(x**2 + sin(x), x)"
      ]
     },
     "execution_count": 22,
     "metadata": {},
     "output_type": "execute_result"
    }
   ],
   "source": [
    "Integral(x**2 + sin(x))"
   ]
  },
  {
   "attachments": {},
   "cell_type": "markdown",
   "metadata": {},
   "source": [
    "# Problema 1 - média:"
   ]
  },
  {
   "cell_type": "code",
   "execution_count": 1,
   "metadata": {},
   "outputs": [
    {
     "data": {
      "text/plain": [
       "7.333333333333333"
      ]
     },
     "execution_count": 1,
     "metadata": {},
     "output_type": "execute_result"
    }
   ],
   "source": [
    "nota1 = 10\n",
    "nota2 = 7\n",
    "nota3 = 5\n",
    "\n",
    "média = (nota1 + nota2 + nota3)/3\n",
    "média"
   ]
  },
  {
   "cell_type": "code",
   "execution_count": 3,
   "metadata": {},
   "outputs": [
    {
     "name": "stdout",
     "output_type": "stream",
     "text": [
      "Sua média final é: 8.666666666666666\n",
      "Aluno Aprovado\n",
      "Nota 1: 9.0; Nota 2: 7.0; Nota 3: 10.0\n"
     ]
    }
   ],
   "source": [
    "nota1 = float(input(\"Digite sua primeira nota: \"))\n",
    "nota2 = float(input(\"Digite sua segunda nota: \"))\n",
    "nota3 = float(input(\"Digite sua terceira nota: \"))\n",
    "\n",
    "média = (nota1 + nota2 + nota3)/3\n",
    "\n",
    "print(\"Sua média final é:\", média)\n",
    "\n",
    "# Estrutura para atender uma condição\n",
    "if média >= 7:\n",
    "    print(\"Aluno Aprovado\")\n",
    "else:\n",
    "    print(\"Aluno reprovado\")\n",
    "\n",
    "print(f'Nota 1: {nota1}; Nota 2: {nota2}; Nota 3: {nota3}')"
   ]
  },
  {
   "attachments": {},
   "cell_type": "markdown",
   "metadata": {},
   "source": [
    "# Problema 2 -  Comparar A e B:"
   ]
  },
  {
   "cell_type": "code",
   "execution_count": 5,
   "metadata": {},
   "outputs": [
    {
     "name": "stdout",
     "output_type": "stream",
     "text": [
      "O valor A é maior que o valor B\n",
      "A = 10.0 e B = 4.0\n"
     ]
    }
   ],
   "source": [
    "valor_a = float(input(\"Digite o valor de A: \"))\n",
    "valor_b = float(input(\"Digite o valor de B: \"))\n",
    "\n",
    "if valor_a > valor_b:\n",
    "    print('O valor A é maior que o valor B')\n",
    "else:\n",
    "    print('O valor de B é maior que o valor de A')\n",
    "\n",
    "print(f'A = {valor_a} e B = {valor_b}')"
   ]
  },
  {
   "cell_type": "code",
   "execution_count": 6,
   "metadata": {},
   "outputs": [
    {
     "name": "stdout",
     "output_type": "stream",
     "text": [
      "Os valores de A e B são equivalentes\n",
      "A = 5.0 e B = 5.0\n"
     ]
    }
   ],
   "source": [
    "valor_a = float(input(\"Digite o valor de A: \"))\n",
    "valor_b = float(input(\"Digite o valor de B: \"))\n",
    "\n",
    "if valor_a == valor_b:\n",
    "    print('Os valores de A e B são equivalentes')\n",
    "elif valor_a > valor_b:\n",
    "    print('O valor A é maior que o valor B')\n",
    "else:\n",
    "    print('O valor de B é maior que o valor de A')\n",
    "\n",
    "print(f'A = {valor_a} e B = {valor_b}')"
   ]
  },
  {
   "attachments": {},
   "cell_type": "markdown",
   "metadata": {},
   "source": [
    "# Problema 3 - área do círculo:"
   ]
  },
  {
   "cell_type": "code",
   "execution_count": null,
   "metadata": {},
   "outputs": [],
   "source": [
    "raio = float(input('Insira o raio do seu círculo'))\n",
    "pi = 3.1416\n",
    "\n",
    "Área = pi*raio**2\n",
    "\n",
    "if raio <= 0:\n",
    "    print(\"Valor inadequado. Por favor, tente novamente\")\n",
    "else:\n",
    "    print(\"Área do círculo é: \", Área)\n"
   ]
  },
  {
   "cell_type": "code",
   "execution_count": null,
   "metadata": {},
   "outputs": [],
   "source": [
    "raio = float(input('Insira o raio do seu círculo'))\n",
    "pi = 3.1416\n",
    "\n",
    "Área = pi*raio**2\n",
    "\n",
    "if Área > 100:\n",
    "    print(\"Área desejada\", Área)\n",
    "else:\n",
    "    print(\"Área menor que a desejada\", Área)    "
   ]
  },
  {
   "cell_type": "code",
   "execution_count": null,
   "metadata": {},
   "outputs": [],
   "source": [
    "# Juntar as duas de cima:\n",
    "\n",
    "raio = float(input('Insira o raio do seu círculo'))\n",
    "pi = 3.1416\n",
    "\n",
    "Área = pi*raio**2\n",
    "\n",
    "if raio > 0:\n",
    " if Área > 100:\n",
    "    print(\"Área desejada\", Área)\n",
    " else:\n",
    "    print(\"Área menor que a desejada\", Área)\n",
    "else:\n",
    "    print(\"Valor inadequado. Por favor, tente novamente\")    "
   ]
  },
  {
   "cell_type": "code",
   "execution_count": null,
   "metadata": {},
   "outputs": [],
   "source": [
    "# Uso do elif\n",
    "\n",
    "raio = float(input('Insira o raio do seu círculo'))\n",
    "pi = 3.1416\n",
    "\n",
    "Área = pi*raio**2\n",
    "\n",
    "if raio > 0 and Área > 100:\n",
    "    print(\"Área desejada\", Área)\n",
    "elif raio > 0:\n",
    "    print(\"Área menor que a desejada\", Área)\n",
    "else:\n",
    "    print(\"Valor inadequado. Por favor, tente novamente\")    "
   ]
  }
 ],
 "metadata": {
  "kernelspec": {
   "display_name": "Python 3",
   "language": "python",
   "name": "python3"
  },
  "language_info": {
   "codemirror_mode": {
    "name": "ipython",
    "version": 3
   },
   "file_extension": ".py",
   "mimetype": "text/x-python",
   "name": "python",
   "nbconvert_exporter": "python",
   "pygments_lexer": "ipython3",
   "version": "3.11.5"
  },
  "orig_nbformat": 4
 },
 "nbformat": 4,
 "nbformat_minor": 2
}
