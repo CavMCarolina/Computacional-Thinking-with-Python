{
 "cells": [
  {
   "attachments": {},
   "cell_type": "markdown",
   "metadata": {},
   "source": [
    "# Listas:"
   ]
  },
  {
   "cell_type": "code",
   "execution_count": null,
   "metadata": {},
   "outputs": [],
   "source": [
    "ListaA = [a,b,c]\n",
    "\n",
    "for lista in ListaA:\n",
    "== and\n",
    "!= or\n",
    "not in"
   ]
  },
  {
   "cell_type": "code",
   "execution_count": 1,
   "metadata": {},
   "outputs": [
    {
     "name": "stdout",
     "output_type": "stream",
     "text": [
      "Adicione frango\n",
      "Adicione pepperoni\n",
      "Adicione queijo extra\n"
     ]
    }
   ],
   "source": [
    "# Estrutura só com if -> roda todas\n",
    "\n",
    "cobertura_requisitada = ['frango', 'pepperoni', 'queijo_extra']\n",
    "\n",
    "if 'frango' in cobertura_requisitada:\n",
    "    print(\"Adicione frango\")\n",
    "if 'pepperoni' in cobertura_requisitada:\n",
    "    print(\"Adicione pepperoni\")\n",
    "if 'queijo_extra' in cobertura_requisitada:\n",
    "    print(\"Adicione queijo extra\")"
   ]
  },
  {
   "cell_type": "code",
   "execution_count": 3,
   "metadata": {},
   "outputs": [
    {
     "name": "stdout",
     "output_type": "stream",
     "text": [
      "Adicione frango\n"
     ]
    }
   ],
   "source": [
    "# Estrutura com elif -> roda na sequência\n",
    "\n",
    "cobertura_requisitada = ['frango', 'pepperoni', 'queijo_extra']\n",
    "\n",
    "if 'frango' in cobertura_requisitada:\n",
    "    print(\"Adicione frango\")\n",
    "elif 'pepperoni' in cobertura_requisitada:\n",
    "    print(\"Adicione pepperoni\")\n",
    "else:\n",
    "    print(\"Adicione queijo extra\")"
   ]
  },
  {
   "cell_type": "code",
   "execution_count": 4,
   "metadata": {},
   "outputs": [
    {
     "name": "stdout",
     "output_type": "stream",
     "text": [
      "Adicione pepperoni\n"
     ]
    }
   ],
   "source": [
    "cobertura_requisitada = ['frango', 'pepperoni', 'queijo_extra']\n",
    "\n",
    "if 'banana' in cobertura_requisitada:\n",
    "    print(\"Adicione banana\")\n",
    "elif 'pepperoni' in cobertura_requisitada:\n",
    "    print(\"Adicione pepperoni\")\n",
    "else:\n",
    "    print(\"Adicione queijo extra\")"
   ]
  },
  {
   "attachments": {},
   "cell_type": "markdown",
   "metadata": {},
   "source": [
    "# Exercício 1 - cálculo de multa:"
   ]
  },
  {
   "cell_type": "code",
   "execution_count": 9,
   "metadata": {},
   "outputs": [
    {
     "name": "stdout",
     "output_type": "stream",
     "text": [
      "Você está andando a 95.0 Km/h\n",
      "A multa a ser paga é de R$ 75.0\n"
     ]
    }
   ],
   "source": [
    "km = float(input(\"Digite a velocidade do carro em km/h\"))\n",
    "\n",
    "print(\"Você está andando a\", km, \"Km/h\")\n",
    "\n",
    "if km > 80:\n",
    "    print(\"A multa a ser paga é de R$\", (km-80)*5)\n",
    "elif km < 0:\n",
    "    print(\"Valor inválido. Por favor, tente novamente\")\n",
    "elif km == 0:\n",
    "    print(\"Você está parado.\")\n",
    "else:\n",
    "    print(\"Você está dentro do limite de velocidade\")"
   ]
  },
  {
   "cell_type": "code",
   "execution_count": 11,
   "metadata": {},
   "outputs": [
    {
     "name": "stdout",
     "output_type": "stream",
     "text": [
      "A multa será de 75.00\n"
     ]
    }
   ],
   "source": [
    "# Algoritmo do prof:\n",
    "\n",
    "velocidade = float(input(\"Digite a velocidade\"))\n",
    "\n",
    "multa = (velocidade - 80) * 5\n",
    "\n",
    "if velocidade > 80:\n",
    "    print(f\"A multa será de {multa:.2f}\")\n",
    "else:\n",
    "    print(\"Velocidade dentro do limite\")"
   ]
  },
  {
   "attachments": {},
   "cell_type": "markdown",
   "metadata": {},
   "source": [
    "# Exercício 2 - Pagamento:"
   ]
  },
  {
   "cell_type": "code",
   "execution_count": 28,
   "metadata": {},
   "outputs": [
    {
     "name": "stdout",
     "output_type": "stream",
     "text": [
      "Você não receberá pagamento\n",
      "Dia 4, DOMINGO\n"
     ]
    }
   ],
   "source": [
    "# lower = se o usuário colocar tudo maiúsculo, retorna minúsculo (upper é o inverso)\n",
    "# if dentro de if = and\n",
    "\n",
    "dia_semana = str(input(\"Isira o dia da semana\"))\n",
    "dia_mes = int(input(\"Insira um dia do mês\"))\n",
    "\n",
    "if 1 <= dia_mes <= 5 and dia_semana.lower() != 'sabado' and dia_semana.lower() != 'domingo':\n",
    "    print(\"Dia de receber pagamento\")\n",
    "else:\n",
    "    print(\"Você não receberá pagamento\")\n",
    "\n",
    "print(f'Dia {dia_mes}, {dia_semana}')"
   ]
  },
  {
   "attachments": {},
   "cell_type": "markdown",
   "metadata": {},
   "source": [
    "# Exercício 3 - Áreas:"
   ]
  },
  {
   "cell_type": "code",
   "execution_count": 34,
   "metadata": {},
   "outputs": [
    {
     "name": "stdout",
     "output_type": "stream",
     "text": [
      "Área do círculo = 15393.84 cm\n"
     ]
    }
   ],
   "source": [
    "forma = str(input(\"Qual forma deseja calcular a área?\"))\n",
    "\n",
    "if forma.lower() == 'quadrado':\n",
    "    l = float(input(\"Digite o lado do quadrado em cm\"))\n",
    "    print(\"Área do quadrado =\", l**2, \"cm\")\n",
    "elif forma.lower() == 'retangulo':\n",
    "    l1 = float(input(\"Digite um dos lados do retângulo em cm\"))\n",
    "    l2 = float(input(\"Digite o outro lado do retângulo\"))\n",
    "    print(\"Área do quadrado =\", l1 * l2, \"cm\")\n",
    "elif forma.lower() == 'triangulo':\n",
    "    h = float(input(\"Digite a altura do triângulo em cm\"))\n",
    "    b = float(input(\"Digite a base do triângulo em cm\"))\n",
    "    print(\"Área do triângulo =\", (b*h)/2, \"cm\")\n",
    "elif forma.lower() == 'circulo':\n",
    "    r = float(input(\"Digite o raio do círculo em cm\"))\n",
    "    print(\"Área do círculo =\", 3.1416*r**2, \"cm\")\n",
    "else:\n",
    "    print(\"Forma inválida. Por favor, tente novamente\")"
   ]
  }
 ],
 "metadata": {
  "kernelspec": {
   "display_name": "Python 3",
   "language": "python",
   "name": "python3"
  },
  "language_info": {
   "codemirror_mode": {
    "name": "ipython",
    "version": 3
   },
   "file_extension": ".py",
   "mimetype": "text/x-python",
   "name": "python",
   "nbconvert_exporter": "python",
   "pygments_lexer": "ipython3",
   "version": "3.11.4"
  },
  "orig_nbformat": 4
 },
 "nbformat": 4,
 "nbformat_minor": 2
}
