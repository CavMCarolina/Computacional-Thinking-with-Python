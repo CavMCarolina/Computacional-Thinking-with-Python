{
 "cells": [
  {
   "cell_type": "markdown",
   "metadata": {},
   "source": [
    "# Exercícios Extras para Fixação:"
   ]
  },
  {
   "cell_type": "code",
   "execution_count": null,
   "metadata": {},
   "outputs": [],
   "source": [
    "# Exercício 1:\n",
    "\n",
    "dia = str(input(\"Digite o dia da semana\")).lower()\n",
    "\n",
    "if dia == 'sexta':\n",
    "    print(\"Hoje é dia de festa!\")\n",
    "elif dia == 'sabado':\n",
    "    saúde = str(input(\"Sua saúde está boa ou ruim?\")).lower()\n",
    "    if saúde == 'ruim':\n",
    "        print(\"Você deve se recuperar.\")\n",
    "    elif saúde == 'boa':\n",
    "        print(\"Pode ir ao show!\")\n",
    "    else:\n",
    "        print(\"resposta inválida. Por favor, tente novamente.\")\n",
    "elif dia == 'segunda' or dia == 'terça' or dia == 'quarta' or dia == 'quinta' or dia == 'domingo':\n",
    "    print(\"Você deve ir trabalhar.\")   \n",
    "else:\n",
    "    print(\"Dia de semana inválido. Por favor, tente novamente.\")"
   ]
  },
  {
   "cell_type": "code",
   "execution_count": null,
   "metadata": {},
   "outputs": [],
   "source": [
    "# Exercício 2:\n",
    "\n",
    "carro = str(input(\"Qual a marca do carro desejado?\")).lower()\n",
    "\n",
    "lista_carros = ['toyota', 'honda', 'ford', 'nissan', 'chevrolet', 'hyundai', 'volkswagen']\n",
    "\n",
    "if carro in lista_carros:\n",
    "    print(\"Seu carro está no estacionamento!\")\n",
    "else: \n",
    "    print(\"Lamento, seu carro não foi encontrado no estacionamento.\")"
   ]
  }
 ],
 "metadata": {
  "kernelspec": {
   "display_name": "Python 3",
   "language": "python",
   "name": "python3"
  },
  "language_info": {
   "codemirror_mode": {
    "name": "ipython",
    "version": 3
   },
   "file_extension": ".py",
   "mimetype": "text/x-python",
   "name": "python",
   "nbconvert_exporter": "python",
   "pygments_lexer": "ipython3",
   "version": "3.11.5"
  },
  "orig_nbformat": 4
 },
 "nbformat": 4,
 "nbformat_minor": 2
}
