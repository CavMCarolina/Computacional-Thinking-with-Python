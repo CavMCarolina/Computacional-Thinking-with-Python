{
 "cells": [
  {
   "attachments": {},
   "cell_type": "markdown",
   "metadata": {},
   "source": [
    "# Listas:"
   ]
  },
  {
   "cell_type": "code",
   "execution_count": 1,
   "metadata": {},
   "outputs": [
    {
     "name": "stdout",
     "output_type": "stream",
     "text": [
      "Adicione frango\n",
      "Adicione pepperoni\n",
      "Adicione queijo extra\n"
     ]
    }
   ],
   "source": [
    "# Estrutura só com if -> roda todas\n",
    "\n",
    "cobertura_requisitada = ['frango', 'pepperoni', 'queijo_extra']\n",
    "\n",
    "if 'frango' in cobertura_requisitada:\n",
    "    print(\"Adicione frango\")\n",
    "if 'pepperoni' in cobertura_requisitada:\n",
    "    print(\"Adicione pepperoni\")\n",
    "if 'queijo_extra' in cobertura_requisitada:\n",
    "    print(\"Adicione queijo extra\")"
   ]
  },
  {
   "cell_type": "code",
   "execution_count": 3,
   "metadata": {},
   "outputs": [
    {
     "name": "stdout",
     "output_type": "stream",
     "text": [
      "Adicione frango\n"
     ]
    }
   ],
   "source": [
    "# Estrutura com elif -> roda na sequência\n",
    "\n",
    "cobertura_requisitada = ['frango', 'pepperoni', 'queijo_extra']\n",
    "\n",
    "if 'frango' in cobertura_requisitada:\n",
    "    print(\"Adicione frango\")\n",
    "elif 'pepperoni' in cobertura_requisitada:\n",
    "    print(\"Adicione pepperoni\")\n",
    "else:\n",
    "    print(\"Adicione queijo extra\")"
   ]
  },
  {
   "cell_type": "code",
   "execution_count": 4,
   "metadata": {},
   "outputs": [
    {
     "name": "stdout",
     "output_type": "stream",
     "text": [
      "Adicione pepperoni\n"
     ]
    }
   ],
   "source": [
    "cobertura_requisitada = ['frango', 'pepperoni', 'queijo_extra']\n",
    "\n",
    "if 'banana' in cobertura_requisitada:\n",
    "    print(\"Adicione banana\")\n",
    "elif 'pepperoni' in cobertura_requisitada:\n",
    "    print(\"Adicione pepperoni\")\n",
    "else:\n",
    "    print(\"Adicione queijo extra\")"
   ]
  },
  {
   "attachments": {},
   "cell_type": "markdown",
   "metadata": {},
   "source": [
    "# Exercício 1 - cálculo de multa:"
   ]
  },
  {
   "cell_type": "code",
   "execution_count": 9,
   "metadata": {},
   "outputs": [
    {
     "name": "stdout",
     "output_type": "stream",
     "text": [
      "Você está andando a 95.0 Km/h\n",
      "A multa a ser paga é de R$ 75.0\n"
     ]
    }
   ],
   "source": [
    "km = float(input(\"Digite a velocidade do carro em km/h\"))\n",
    "\n",
    "print(\"Você está andando a\", km, \"Km/h\")\n",
    "\n",
    "if km > 80:\n",
    "    print(\"A multa a ser paga é de R$\", (km-80)*5)\n",
    "elif km < 0:\n",
    "    print(\"Valor inválido. Por favor, tente novamente\")\n",
    "elif km == 0:\n",
    "    print(\"Você está parado.\")\n",
    "else:\n",
    "    print(\"Você está dentro do limite de velocidade\")"
   ]
  },
  {
   "cell_type": "code",
   "execution_count": 11,
   "metadata": {},
   "outputs": [
    {
     "name": "stdout",
     "output_type": "stream",
     "text": [
      "A multa será de 75.00\n"
     ]
    }
   ],
   "source": [
    "# Algoritmo do prof:\n",
    "\n",
    "velocidade = float(input(\"Digite a velocidade\"))\n",
    "\n",
    "multa = (velocidade - 80) * 5\n",
    "\n",
    "if velocidade > 80:\n",
    "    print(f\"A multa será de {multa:.2f}\")\n",
    "else:\n",
    "    print(\"Velocidade dentro do limite\")"
   ]
  },
  {
   "attachments": {},
   "cell_type": "markdown",
   "metadata": {},
   "source": [
    "# Exercício 2 - Pagamento:"
   ]
  },
  {
   "cell_type": "code",
   "execution_count": 28,
   "metadata": {},
   "outputs": [
    {
     "name": "stdout",
     "output_type": "stream",
     "text": [
      "Você não receberá pagamento\n",
      "Dia 4, DOMINGO\n"
     ]
    }
   ],
   "source": [
    "# lower = se o usuário colocar tudo maiúsculo, retorna minúsculo (upper é o inverso)\n",
    "# if dentro de if = and\n",
    "\n",
    "dia_semana = str(input(\"Isira o dia da semana\"))\n",
    "dia_mes = int(input(\"Insira um dia do mês\"))\n",
    "\n",
    "if 1 <= dia_mes <= 5 and dia_semana.lower() != 'sabado' and dia_semana.lower() != 'domingo':\n",
    "    print(\"Dia de receber pagamento\")\n",
    "else:\n",
    "    print(\"Você não receberá pagamento\")\n",
    "\n",
    "print(f'Dia {dia_mes}, {dia_semana}')\n",
    "\n",
    "# Para o código rodar os dias da semana com acento -> biblioteca unidecode"
   ]
  },
  {
   "attachments": {},
   "cell_type": "markdown",
   "metadata": {},
   "source": [
    "# Exercício 3 - Áreas:"
   ]
  },
  {
   "cell_type": "code",
   "execution_count": 36,
   "metadata": {},
   "outputs": [
    {
     "name": "stdout",
     "output_type": "stream",
     "text": [
      "Área do triângulo = 17.4 cm\n",
      "Altura = 5.8 cm e Base = 6.0 cm\n"
     ]
    }
   ],
   "source": [
    "forma = str(input(\"Qual forma deseja calcular a área: quadrado, triângulo, círculo ou retângulo?\"))\n",
    "\n",
    "if forma.lower() == 'quadrado':\n",
    "    l = float(input(\"Digite o lado do quadrado em cm\"))\n",
    "    print(\"Área do quadrado =\", l**2, \"cm2\")\n",
    "    print(f'Lado = {l} cm')\n",
    "elif forma.lower() == 'retangulo':\n",
    "    l1 = float(input(\"Digite um dos lados do retângulo em cm\"))\n",
    "    l2 = float(input(\"Digite o outro lado do retângulo\"))\n",
    "    print(\"Área do quadrado =\", l1 * l2, \"cm2\")\n",
    "    print(f'Lado 1 = {l1} cm e Lado 2 = {l2} cm')\n",
    "elif forma.lower() == 'triangulo':\n",
    "    h = float(input(\"Digite a altura do triângulo em cm\"))\n",
    "    b = float(input(\"Digite a base do triângulo em cm\"))\n",
    "    print(\"Área do triângulo =\", (b*h)/2, \"cm2\")\n",
    "    print(f'Altura = {h} cm e Base = {b} cm')\n",
    "elif forma.lower() == 'circulo':\n",
    "    r = float(input(\"Digite o raio do círculo em cm\"))\n",
    "    print(\"Área do círculo =\", 3.1416*r**2, \"cm2\")\n",
    "    print(f'Raio = {r} cm')\n",
    "else:\n",
    "    print(\"Forma inválida. Por favor, tente novamente\")"
   ]
  },
  {
   "attachments": {},
   "cell_type": "markdown",
   "metadata": {},
   "source": [
    "# Operador in:"
   ]
  },
  {
   "cell_type": "code",
   "execution_count": 39,
   "metadata": {},
   "outputs": [
    {
     "name": "stdout",
     "output_type": "stream",
     "text": [
      "Está letra não está na palavra\n"
     ]
    }
   ],
   "source": [
    "# verifica se um valor está presente em outro\n",
    "\n",
    "letra = str(input(\"Digite letra\"))\n",
    "palavra = str(input(\"Digite palavra\"))\n",
    "\n",
    "if letra in palavra:\n",
    "    print(f\"A letra é '{letra}'\")\n",
    "else:\n",
    "    print(\"Está letra não está na palavra\")"
   ]
  },
  {
   "cell_type": "code",
   "execution_count": null,
   "metadata": {},
   "outputs": [],
   "source": [
    "lista_carros = ['volksvagen', 'audi', 'chevrolet', 'fiat']\n",
    "carro = str(input(\"Digite o carro desejado\"))\n",
    "\n",
    "if carro.lower() in lista_carros:\n",
    "    print(f'Seu carro é {carro}')\n",
    "else:\n",
    "    print(\"Seu carro não está na lista\")"
   ]
  },
  {
   "cell_type": "code",
   "execution_count": null,
   "metadata": {},
   "outputs": [],
   "source": [
    "# NOT in\n",
    "lista_carros = ['volksvagen', 'audi', 'chevrolet', 'fiat']\n",
    "carro = str(input(\"Digite o carro desejado\"))\n",
    "\n",
    "if carro.lower() not in lista_carros:\n",
    "    print(\"Seu carro não está na lista\")\n",
    "else:\n",
    "    print(f'Seu carro é {carro}')"
   ]
  },
  {
   "attachments": {},
   "cell_type": "markdown",
   "metadata": {},
   "source": [
    "# if dentro de if:"
   ]
  },
  {
   "cell_type": "code",
   "execution_count": 49,
   "metadata": {},
   "outputs": [
    {
     "name": "stdout",
     "output_type": "stream",
     "text": [
      "Os dois números estão incorretos\n",
      "-3 18\n"
     ]
    }
   ],
   "source": [
    "n1 = int(input(\"Digite o primeiro número\"))\n",
    "n2 = int(input(\"Digite o segundo número\"))\n",
    "\n",
    "if 0 <= n1 <=10:\n",
    "    if 0 <= n2 <=10:\n",
    "        print(\"O seu número secreto é \", n1*n2)\n",
    "    else:\n",
    "        print(\"O segundo número está incorreto\")\n",
    "elif (0 > n1 or n1 > 10) and (0 > n2 or n2 > 10):\n",
    "    print(\"Os dois números estão incorretos\")\n",
    "    print(n1, n2)\n",
    "else:\n",
    "    print(\"O primeiro número está incorreto\")"
   ]
  },
  {
   "cell_type": "code",
   "execution_count": 74,
   "metadata": {},
   "outputs": [
    {
     "name": "stdout",
     "output_type": "stream",
     "text": [
      "RG inválido. Tente novamente\n",
      "Idade: 17, RG: 66666\n"
     ]
    }
   ],
   "source": [
    "idade = int(input(\"Digite a sua idade\"))\n",
    "rg = input(\"Digite seu rg\")\n",
    "\n",
    "if idade >= 16 and len(rg) >=7:\n",
    "    print(\"Você já pode votar!\")\n",
    "elif idade >= 16:\n",
    "    print(\"RG inválido. Tente novamente\")\n",
    "else:\n",
    "    print(\"Você ainda não pode votar\")\n",
    "\n",
    "print(f'Idade: {idade}, RG: {rg}')"
   ]
  },
  {
   "cell_type": "code",
   "execution_count": 73,
   "metadata": {},
   "outputs": [
    {
     "name": "stdout",
     "output_type": "stream",
     "text": [
      "Você precisa de um rg para votar\n",
      "Idade: 16, RG: nao\n"
     ]
    }
   ],
   "source": [
    "idade = int(input(\"Digite sua idade\"))\n",
    "rg = str(input(\"Você tem rg?\")).lower()\n",
    "\n",
    "if idade >= 16:\n",
    "    if rg == 'sim' or rg == 's':\n",
    "        print(\"Você já pode votar!\")\n",
    "    elif rg == 'não' or rg == 'n' or rg == 'nao':\n",
    "        print(\"Você precisa de um rg para votar\")\n",
    "    else:\n",
    "        print(\"RG inválido\")\n",
    "else:\n",
    "    print('Você ainda não tem idade para votar')\n",
    "\n",
    "print(f'Idade: {idade}, RG: {rg}')\n"
   ]
  },
  {
   "attachments": {},
   "cell_type": "markdown",
   "metadata": {},
   "source": [
    "# Operador for:"
   ]
  },
  {
   "cell_type": "code",
   "execution_count": 78,
   "metadata": {},
   "outputs": [
    {
     "name": "stdout",
     "output_type": "stream",
     "text": [
      "Adicione pepperoni.\n",
      "Adicione tomate.\n",
      "Adicione queijo extra.\n",
      "Adicione cebola.\n",
      "\n",
      "Sua pizza está pronta!\n"
     ]
    }
   ],
   "source": [
    "coberturas = ['pepperoni', 'tomate', 'queijo extra', 'cebola']\n",
    "\n",
    "for coberturas in coberturas:\n",
    "    print(f'Adicione {coberturas}.')\n",
    "\n",
    "print(\"\\nSua pizza está pronta!\")\n",
    "# \\n = pula uma linha\n"
   ]
  },
  {
   "cell_type": "code",
   "execution_count": 82,
   "metadata": {},
   "outputs": [
    {
     "name": "stdout",
     "output_type": "stream",
     "text": [
      "maça\n",
      "melancia\n"
     ]
    }
   ],
   "source": [
    "# continue = continua processando a lista e \"pula\" \n",
    "\n",
    "frutas = ['maça', 'banana', 'melancia']\n",
    "\n",
    "for fruta in frutas:\n",
    "    if fruta == 'banana':\n",
    "        continue\n",
    "    print(fruta)"
   ]
  },
  {
   "cell_type": "code",
   "execution_count": 83,
   "metadata": {},
   "outputs": [
    {
     "name": "stdout",
     "output_type": "stream",
     "text": [
      "maça\n"
     ]
    }
   ],
   "source": [
    "# break = para antes\n",
    "\n",
    "for fruta in frutas:\n",
    "    if fruta == 'banana':\n",
    "        break\n",
    "    print(fruta)"
   ]
  }
 ],
 "metadata": {
  "kernelspec": {
   "display_name": "Python 3",
   "language": "python",
   "name": "python3"
  },
  "language_info": {
   "codemirror_mode": {
    "name": "ipython",
    "version": 3
   },
   "file_extension": ".py",
   "mimetype": "text/x-python",
   "name": "python",
   "nbconvert_exporter": "python",
   "pygments_lexer": "ipython3",
   "version": "3.11.4"
  },
  "orig_nbformat": 4
 },
 "nbformat": 4,
 "nbformat_minor": 2
}
