{
 "cells": [
  {
   "attachments": {},
   "cell_type": "markdown",
   "metadata": {},
   "source": [
    "# Exercício 1:"
   ]
  },
  {
   "cell_type": "code",
   "execution_count": 3,
   "metadata": {},
   "outputs": [
    {
     "name": "stdout",
     "output_type": "stream",
     "text": [
      "A potência do projetor, em W, é: 22.25\n"
     ]
    }
   ],
   "source": [
    "v = float(input(\"Digite o valor da tensão\"))\n",
    "i = float(input(\"Digite o valor da intensidade\"))\n",
    "p = v * i\n",
    "\n",
    "print(\"A potência do projetor, em W, é:\", p)"
   ]
  },
  {
   "cell_type": "code",
   "execution_count": 4,
   "metadata": {},
   "outputs": [
    {
     "name": "stdout",
     "output_type": "stream",
     "text": [
      "O valor da potência é 127W\n"
     ]
    }
   ],
   "source": [
    "# Jeito do prof:\n",
    "\n",
    "def potencia(tensao, corrente):\n",
    "    p = tensao * corrente\n",
    "    return p\n",
    "\n",
    "v = 127\n",
    "i = 1\n",
    "\n",
    "resultado = potencia(v, i)\n",
    "\n",
    "print(f\"O valor da potência é {resultado}W\")"
   ]
  },
  {
   "attachments": {},
   "cell_type": "markdown",
   "metadata": {},
   "source": [
    "# For dentro de for:"
   ]
  },
  {
   "cell_type": "code",
   "execution_count": 5,
   "metadata": {},
   "outputs": [
    {
     "name": "stdout",
     "output_type": "stream",
     "text": [
      "primeiro rainha\n",
      "primeiro rei\n",
      "primeiro princesa\n",
      "primeiro príncipe\n",
      "segundo rainha\n",
      "segundo rei\n",
      "segundo princesa\n",
      "segundo príncipe\n",
      "terceiro rainha\n",
      "terceiro rei\n",
      "terceiro princesa\n",
      "terceiro príncipe\n"
     ]
    }
   ],
   "source": [
    "ordem = [\"primeiro\", \"segundo\", \"terceiro\"]\n",
    "titulo = [\"rainha\", \"rei\", \"princesa\", \"príncipe\"]\n",
    "\n",
    "for x in ordem:\n",
    "    for y in titulo:\n",
    "        print(x,y)\n",
    "\n",
    "# Para cada elemento da primeira lista, vai percorrer a segunda lista inteira (mostra todas as combinações possíveis)"
   ]
  },
  {
   "attachments": {},
   "cell_type": "markdown",
   "metadata": {},
   "source": [
    "# DataFrame"
   ]
  },
  {
   "cell_type": "code",
   "execution_count": null,
   "metadata": {},
   "outputs": [],
   "source": [
    "pip install pandas"
   ]
  },
  {
   "cell_type": "code",
   "execution_count": null,
   "metadata": {},
   "outputs": [],
   "source": [
    "import pandas as pd"
   ]
  },
  {
   "cell_type": "code",
   "execution_count": 12,
   "metadata": {},
   "outputs": [
    {
     "data": {
      "text/html": [
       "<div>\n",
       "<style scoped>\n",
       "    .dataframe tbody tr th:only-of-type {\n",
       "        vertical-align: middle;\n",
       "    }\n",
       "\n",
       "    .dataframe tbody tr th {\n",
       "        vertical-align: top;\n",
       "    }\n",
       "\n",
       "    .dataframe thead th {\n",
       "        text-align: right;\n",
       "    }\n",
       "</style>\n",
       "<table border=\"1\" class=\"dataframe\">\n",
       "  <thead>\n",
       "    <tr style=\"text-align: right;\">\n",
       "      <th></th>\n",
       "      <th>Tipo de Carro</th>\n",
       "      <th>Tipo de Direção</th>\n",
       "      <th>Tipo de Pneus</th>\n",
       "      <th>Faixa de Preço</th>\n",
       "      <th>Potência - CV</th>\n",
       "      <th>Velocidade de Cruzeiro</th>\n",
       "    </tr>\n",
       "  </thead>\n",
       "  <tbody>\n",
       "    <tr>\n",
       "      <th>0</th>\n",
       "      <td>Sedan</td>\n",
       "      <td>Hidráulica</td>\n",
       "      <td>Radial</td>\n",
       "      <td>Alto</td>\n",
       "      <td>120</td>\n",
       "      <td>True</td>\n",
       "    </tr>\n",
       "    <tr>\n",
       "      <th>1</th>\n",
       "      <td>SUV</td>\n",
       "      <td>Elétrica</td>\n",
       "      <td>Diagonal</td>\n",
       "      <td>Médio</td>\n",
       "      <td>130</td>\n",
       "      <td>False</td>\n",
       "    </tr>\n",
       "    <tr>\n",
       "      <th>2</th>\n",
       "      <td>Hatchback</td>\n",
       "      <td>Mecânica</td>\n",
       "      <td>Radial</td>\n",
       "      <td>Baixo</td>\n",
       "      <td>100</td>\n",
       "      <td>True</td>\n",
       "    </tr>\n",
       "    <tr>\n",
       "      <th>3</th>\n",
       "      <td>Caminhonete</td>\n",
       "      <td>Elétrica</td>\n",
       "      <td>Diagonal</td>\n",
       "      <td>Alto</td>\n",
       "      <td>180</td>\n",
       "      <td>True</td>\n",
       "    </tr>\n",
       "    <tr>\n",
       "      <th>4</th>\n",
       "      <td>Coupé</td>\n",
       "      <td>Hidráulica</td>\n",
       "      <td>Radial</td>\n",
       "      <td>Médio</td>\n",
       "      <td>200</td>\n",
       "      <td>False</td>\n",
       "    </tr>\n",
       "  </tbody>\n",
       "</table>\n",
       "</div>"
      ],
      "text/plain": [
       "  Tipo de Carro Tipo de Direção Tipo de Pneus Faixa de Preço  Potência - CV  \\\n",
       "0         Sedan      Hidráulica        Radial           Alto            120   \n",
       "1           SUV        Elétrica      Diagonal          Médio            130   \n",
       "2     Hatchback        Mecânica        Radial          Baixo            100   \n",
       "3   Caminhonete        Elétrica      Diagonal           Alto            180   \n",
       "4         Coupé      Hidráulica        Radial          Médio            200   \n",
       "\n",
       "   Velocidade de Cruzeiro  \n",
       "0                    True  \n",
       "1                   False  \n",
       "2                    True  \n",
       "3                    True  \n",
       "4                   False  "
      ]
     },
     "execution_count": 12,
     "metadata": {},
     "output_type": "execute_result"
    }
   ],
   "source": [
    "dados = {\n",
    "    'Tipo de Carro': ['Sedan', 'SUV', 'Hatchback', 'Caminhonete', 'Coupé'],\n",
    "    'Tipo de Direção': ['Hidráulica', 'Elétrica', 'Mecânica', 'Elétrica', 'Hidráulica'],\n",
    "    'Tipo de Pneus': ['Radial', 'Diagonal', 'Radial', 'Diagonal', 'Radial'],\n",
    "    'Faixa de Preço': ['Alto', 'Médio', 'Baixo', 'Alto', 'Médio'],\n",
    "    'Potência - CV': [120, 130, 100, 180, 200],\n",
    "    'Velocidade de Cruzeiro': [True, False, True, True, False]\n",
    "}\n",
    "\n",
    "df_carros = pd.DataFrame(dados)\n",
    "df_carros"
   ]
  },
  {
   "cell_type": "code",
   "execution_count": 13,
   "metadata": {},
   "outputs": [
    {
     "name": "stdout",
     "output_type": "stream",
     "text": [
      "<class 'pandas.core.frame.DataFrame'>\n",
      "RangeIndex: 5 entries, 0 to 4\n",
      "Data columns (total 6 columns):\n",
      " #   Column                  Non-Null Count  Dtype \n",
      "---  ------                  --------------  ----- \n",
      " 0   Tipo de Carro           5 non-null      object\n",
      " 1   Tipo de Direção         5 non-null      object\n",
      " 2   Tipo de Pneus           5 non-null      object\n",
      " 3   Faixa de Preço          5 non-null      object\n",
      " 4   Potência - CV           5 non-null      int64 \n",
      " 5   Velocidade de Cruzeiro  5 non-null      bool  \n",
      "dtypes: bool(1), int64(1), object(4)\n",
      "memory usage: 337.0+ bytes\n"
     ]
    }
   ],
   "source": [
    "df_carros.info()"
   ]
  },
  {
   "cell_type": "code",
   "execution_count": 14,
   "metadata": {},
   "outputs": [
    {
     "data": {
      "text/html": [
       "<div>\n",
       "<style scoped>\n",
       "    .dataframe tbody tr th:only-of-type {\n",
       "        vertical-align: middle;\n",
       "    }\n",
       "\n",
       "    .dataframe tbody tr th {\n",
       "        vertical-align: top;\n",
       "    }\n",
       "\n",
       "    .dataframe thead th {\n",
       "        text-align: right;\n",
       "    }\n",
       "</style>\n",
       "<table border=\"1\" class=\"dataframe\">\n",
       "  <thead>\n",
       "    <tr style=\"text-align: right;\">\n",
       "      <th></th>\n",
       "      <th>Tipo de Carro</th>\n",
       "      <th>Tipo de Direção</th>\n",
       "      <th>Tipo de Pneus</th>\n",
       "      <th>Faixa de Preço</th>\n",
       "      <th>Potência - CV</th>\n",
       "      <th>Velocidade de Cruzeiro</th>\n",
       "    </tr>\n",
       "  </thead>\n",
       "  <tbody>\n",
       "    <tr>\n",
       "      <th>0</th>\n",
       "      <td>Sedan</td>\n",
       "      <td>Hidráulica</td>\n",
       "      <td>Radial</td>\n",
       "      <td>Alto</td>\n",
       "      <td>120</td>\n",
       "      <td>True</td>\n",
       "    </tr>\n",
       "    <tr>\n",
       "      <th>1</th>\n",
       "      <td>SUV</td>\n",
       "      <td>Elétrica</td>\n",
       "      <td>Diagonal</td>\n",
       "      <td>Médio</td>\n",
       "      <td>130</td>\n",
       "      <td>False</td>\n",
       "    </tr>\n",
       "  </tbody>\n",
       "</table>\n",
       "</div>"
      ],
      "text/plain": [
       "  Tipo de Carro Tipo de Direção Tipo de Pneus Faixa de Preço  Potência - CV  \\\n",
       "0         Sedan      Hidráulica        Radial           Alto            120   \n",
       "1           SUV        Elétrica      Diagonal          Médio            130   \n",
       "\n",
       "   Velocidade de Cruzeiro  \n",
       "0                    True  \n",
       "1                   False  "
      ]
     },
     "execution_count": 14,
     "metadata": {},
     "output_type": "execute_result"
    }
   ],
   "source": [
    "df_carros.head(2)"
   ]
  },
  {
   "cell_type": "code",
   "execution_count": 16,
   "metadata": {},
   "outputs": [
    {
     "data": {
      "text/plain": [
       "0     Alto\n",
       "1    Médio\n",
       "2    Baixo\n",
       "3     Alto\n",
       "4    Médio\n",
       "Name: Faixa de Preço, dtype: object"
      ]
     },
     "execution_count": 16,
     "metadata": {},
     "output_type": "execute_result"
    }
   ],
   "source": [
    "a = df_carros['Faixa de Preço']\n",
    "a"
   ]
  },
  {
   "cell_type": "code",
   "execution_count": 21,
   "metadata": {},
   "outputs": [
    {
     "name": "stdout",
     "output_type": "stream",
     "text": [
      "O valor mínimo é: 100\n",
      "O valor máximo é: 200\n",
      "A média é: 146.0\n",
      "A mediana é: 130.0\n"
     ]
    }
   ],
   "source": [
    "print('O valor mínimo é:', df_carros['Potência - CV'].min())\n",
    "print('O valor máximo é:', df_carros['Potência - CV'].max())\n",
    "print('A média é:', df_carros['Potência - CV'].mean())\n",
    "print('A mediana é:', df_carros['Potência - CV'].median())"
   ]
  },
  {
   "attachments": {},
   "cell_type": "markdown",
   "metadata": {},
   "source": [
    "## Filtro por valor:"
   ]
  },
  {
   "cell_type": "code",
   "execution_count": 26,
   "metadata": {},
   "outputs": [
    {
     "data": {
      "text/html": [
       "<div>\n",
       "<style scoped>\n",
       "    .dataframe tbody tr th:only-of-type {\n",
       "        vertical-align: middle;\n",
       "    }\n",
       "\n",
       "    .dataframe tbody tr th {\n",
       "        vertical-align: top;\n",
       "    }\n",
       "\n",
       "    .dataframe thead th {\n",
       "        text-align: right;\n",
       "    }\n",
       "</style>\n",
       "<table border=\"1\" class=\"dataframe\">\n",
       "  <thead>\n",
       "    <tr style=\"text-align: right;\">\n",
       "      <th></th>\n",
       "      <th>Tipo de Carro</th>\n",
       "      <th>Tipo de Direção</th>\n",
       "      <th>Tipo de Pneus</th>\n",
       "      <th>Faixa de Preço</th>\n",
       "      <th>Potência - CV</th>\n",
       "      <th>Velocidade de Cruzeiro</th>\n",
       "    </tr>\n",
       "  </thead>\n",
       "  <tbody>\n",
       "    <tr>\n",
       "      <th>0</th>\n",
       "      <td>Sedan</td>\n",
       "      <td>Hidráulica</td>\n",
       "      <td>Radial</td>\n",
       "      <td>Alto</td>\n",
       "      <td>120</td>\n",
       "      <td>True</td>\n",
       "    </tr>\n",
       "  </tbody>\n",
       "</table>\n",
       "</div>"
      ],
      "text/plain": [
       "  Tipo de Carro Tipo de Direção Tipo de Pneus Faixa de Preço  Potência - CV  \\\n",
       "0         Sedan      Hidráulica        Radial           Alto            120   \n",
       "\n",
       "   Velocidade de Cruzeiro  \n",
       "0                    True  "
      ]
     },
     "execution_count": 26,
     "metadata": {},
     "output_type": "execute_result"
    }
   ],
   "source": [
    "def filtro(df_carros, coluna, valor):\n",
    "    return df_carros[df_carros[coluna] == valor]\n",
    "\n",
    "filtro(df_carros, 'Tipo de Carro', 'Sedan')\n",
    "\n",
    "# pq o ==??"
   ]
  },
  {
   "attachments": {},
   "cell_type": "markdown",
   "metadata": {},
   "source": [
    "## For em DataFrame"
   ]
  },
  {
   "cell_type": "code",
   "execution_count": 29,
   "metadata": {},
   "outputs": [
    {
     "name": "stdout",
     "output_type": "stream",
     "text": [
      "Dados para Sedan: \n",
      "   Tipo de Carro Tipo de Direção Tipo de Pneus Faixa de Preço  Potência - CV  \\\n",
      "0         Sedan      Hidráulica        Radial           Alto            120   \n",
      "\n",
      "   Velocidade de Cruzeiro  \n",
      "0                    True   \n",
      "\n",
      "Dados para Caminhonete: \n",
      "   Tipo de Carro Tipo de Direção Tipo de Pneus Faixa de Preço  Potência - CV  \\\n",
      "3   Caminhonete        Elétrica      Diagonal           Alto            180   \n",
      "\n",
      "   Velocidade de Cruzeiro  \n",
      "3                    True   \n",
      "\n"
     ]
    }
   ],
   "source": [
    "carros_desejados = ['Sedan', 'Caminhonete']\n",
    "\n",
    "for carro in carros_desejados:\n",
    "    dados = df_carros.loc[df_carros['Tipo de Carro'] == carro]\n",
    "    print(f'Dados para {carro}: \\n {dados} \\n')\n",
    "\n",
    "# loc = seleciona uma coluna específica"
   ]
  }
 ],
 "metadata": {
  "kernelspec": {
   "display_name": "Python 3",
   "language": "python",
   "name": "python3"
  },
  "language_info": {
   "codemirror_mode": {
    "name": "ipython",
    "version": 3
   },
   "file_extension": ".py",
   "mimetype": "text/x-python",
   "name": "python",
   "nbconvert_exporter": "python",
   "pygments_lexer": "ipython3",
   "version": "3.11.4"
  },
  "orig_nbformat": 4
 },
 "nbformat": 4,
 "nbformat_minor": 2
}
